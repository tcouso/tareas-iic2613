{
 "cells": [
  {
   "cell_type": "markdown",
   "metadata": {
    "id": "1cS5L2X7uwAg"
   },
   "source": [
    "# Tarea 4: Redes Neuronales"
   ]
  },
  {
   "cell_type": "code",
   "execution_count": 1,
   "metadata": {
    "colab": {
     "base_uri": "https://localhost:8080/"
    },
    "id": "f7GlxBfqjgok",
    "outputId": "30b48d1b-4429-4e5b-cfb5-776f52efcbe6"
   },
   "outputs": [
    {
     "name": "stdout",
     "output_type": "stream",
     "text": [
      "Mounted at /content/drive\n"
     ]
    }
   ],
   "source": [
    "from google.colab import drive\n",
    "drive.mount('/content/drive')"
   ]
  },
  {
   "cell_type": "code",
   "execution_count": 2,
   "metadata": {
    "id": "f307J3YdBnTg"
   },
   "outputs": [],
   "source": [
    "import numpy as np\n",
    "import json\n",
    "import matplotlib.pyplot as plt\n",
    "# Creamos un seed para que los datos sean replicables.\n",
    "np.random.seed(18211933)"
   ]
  },
  {
   "cell_type": "markdown",
   "metadata": {
    "id": "hZp-GMk7u19i"
   },
   "source": [
    "## Actividad 1: Comprendiendo los datos"
   ]
  },
  {
   "cell_type": "markdown",
   "metadata": {
    "id": "c9QxSAkXB1pk"
   },
   "source": [
    "#### a) ¿Qué son y para qué sirven los MFCC's?\n",
    "\n",
    "MFCC's es el acrónimo para \"Mel frequency cepstral coefficients\" un modelo de representación de audio muy utilizado en la actualidad. Consiste en una serie de tiempo con coeficientes cepstrales asociados a cada instante. Pueden representar diferentes aspectos del sonido (frecuencia, amplitud y timbre). Se los considera una aproximación razonable de cómo los seres humanos perciben el sonido. \n",
    "\n",
    "La manera de obtener los MFCC's involucra dos procesos:\n",
    "\n",
    "- Dede una señal de tiempo, obtenemos la caracterización de las bandas de frecuencias. Luego se aplica un filtro de Mel; una escala determinada empíricamente que relaciona la frecuencia real con la frecuencia percibida por un ser humano. Dicha escala es sensible al hecho de que la percepción de la frecuencia en humanos no es lineal.\n",
    "\n",
    "- Desde las bandas de frecuencias escaladas según el filtro de Mel, obtenemos el \"cepstrum\", una caracterización donde los peaks corresponden a momentos en que la señal de tiempo original tiene elementos periódicos.\n",
    "\n",
    "Referencias: \n",
    "- https://medium.com/prathena/the-dummys-guide-to-mfcc-aceab2450fd\n",
    "\n",
    "#### b) Si tuvieramos pocos audios para entrenar un modelo ¿Qué técnicas podrías usar para enriquecer el set de datos?\n",
    "\n",
    "Podemos usar técnicas de aumento de datos (data augmentation), que nos permiten usar más información a partir de un mismo conjunto de datos. La idea básica es que podemos usar una misma instancia de dato más de una vez si aplicamos una transformación realista. Para el dominio de las imágenes, esto consiste en aplicar rotaciones horizontales o verticales de manera aleatoria a las imágenes de nuestro set de datos, y utilizar dichas instancias modificadas como nuevos datos para el entrenamiento del modelo.\n",
    "\n",
    "El aumento de datos en el dominio de audio requiere encontrar transformaciónes aleatorias que podamos aplicar a las instancias de audio. Un ejemplo de cual podrían ser dichas transformaciones sería invertir el audio de una instancia, o tomar diferentes ventanas de tiempo de una misma muestra de audio.\n"
   ]
  },
  {
   "cell_type": "markdown",
   "metadata": {
    "id": "jV4jJwkc6rYW"
   },
   "source": [
    "## Actividad 2: Optimizador Adam\n",
    "\n",
    "Adam (de _adaptative moments_) un método optimización cuya principal beneficio es que, a diferencia de stochastic gradiet descent (SGD), tiene tasa de aprendizaje adaptativa. Esto quiere decir que calcula tasas de apredizaje específicas para cada parámetro del model a optimizar.\n",
    "\n",
    "Adam se basa en que es posible considerar cada minibatch como una variable aleatoria, de manera tal que podemos calcular estimadores de los momentos del gradiente del minibatch para ajustar la tasa de aprendizazje en cada iteración. El primer paso de cada iteración $t$ consiste en calcular el gradiente del minibatch $g$. Luego, se obtienen los estimadores no centrados del primer y segundo momento (sesgados):\n",
    "\n",
    "$$m_t = \\beta_1m_{t-1} + (1-\\beta_1)g$$\n",
    "\n",
    "$$v_t = \\beta_2v_{t-1} + (1-\\beta_2) v²_{t-1}$$\n",
    "\n",
    "A partir de estos pueden calcularse los estimadores corregidos (no sesgados):\n",
    "\n",
    "$$\\hat m_t = \\frac{m_t}{1 - β^t_1}$$\n",
    "\n",
    "$$\\hat v_t = \\frac{v_t}{1 - β^t_2}$$\n",
    "\n",
    " Luego, se actualizan los pesos en base a la siguiente expresión:\n",
    "\n",
    "$$w_t = w_{t-1} - \\eta \\frac{\\hat m_t}{\\sqrt{\\hat v_t} + ϵ}$$\n",
    "\n",
    "Donde $w_t$ son los pesos del modelo, $\\eta$ corresponde al tamaño del _step_ , $\\beta_1, \\beta_2 \\in [0,1]$ son paŕametros de decaimiento del estimador y  $\\epsilon$ corresponde a constante pequeña usada para estabilización numérica. \n",
    "\n",
    "El componente adaptativo de Adam viene dado por el uso de los dos estimadores de momento para ajustar la tasa de aprendizaje en cada iteración. Aquello difiere de SGD en las tasas de aprendizaje, que, como se anticipó, no son adaptativas, sino que vienen definidas de antemano por los valores $\\eta_t$ para cada iteración $t$:\n",
    "\n",
    "$$w = w - η_t \\hat g$$\n",
    "\n",
    "Los beneficios de Adam sobre SGD pueden hallarse en que, dado que el primero tiene tasas de aprendizaje adaptativas, es capaz de rendir mejor en contextos problemáticos del proceso de optimización, como cuando nos encontramos con puntos silla.\n",
    "\n",
    "Referencias:\n",
    "- https://towardsdatascience.com/adam-latest-trends-in-deep-learning-optimization-6be9a291375c\n",
    "\n",
    "- https://machinelearningmastery.com/adam-optimization-algorithm-for-deep-learning/ \n",
    "\n",
    "- https://www.deeplearningbook.org/contents/optimization.html\n"
   ]
  },
  {
   "cell_type": "code",
   "execution_count": 3,
   "metadata": {
    "id": "7m7It-eajZSJ"
   },
   "outputs": [],
   "source": [
    "import tensorflow as tf\n",
    "from tensorflow.keras.models import Sequential\n",
    "from tensorflow.keras.layers import (\n",
    "    Conv2D, \n",
    "    MaxPooling2D, \n",
    "    Flatten, \n",
    "    Dense,\n",
    "    Activation,\n",
    "    Input\n",
    "    )\n",
    "from tensorflow.keras.optimizers import Adam\n",
    "\n",
    "from sklearn.model_selection import train_test_split"
   ]
  },
  {
   "cell_type": "markdown",
   "metadata": {
    "id": "BAbRxng06qxr"
   },
   "source": [
    "### Función de cargado de datos"
   ]
  },
  {
   "cell_type": "code",
   "execution_count": 4,
   "metadata": {
    "id": "s5bsLUjfvWOi"
   },
   "outputs": [],
   "source": [
    "def load_data_conv(path):\n",
    "  with open(path, \"r\") as fp:\n",
    "    data = json.load(fp)\n",
    "\n",
    "  X = np.array(data[\"mfcc\"])\n",
    "  y = np.array(data[\"labels\"])\n",
    "  mapping = data[\"mapping\"]\n",
    "\n",
    "  # add axis to input sets\n",
    "  X = X[..., np.newaxis]\n",
    "\n",
    "  return X, y, mapping\n",
    "\n",
    "def load_data_dense(path):\n",
    "  with open(path, \"r\") as fp:\n",
    "    data = json.load(fp)\n",
    "\n",
    "  X = np.array(data[\"mfcc\"])\n",
    "  y = np.array(data[\"labels\"])\n",
    "  mapping = data[\"mapping\"]\n",
    "\n",
    "  # add axis to input sets\n",
    "  # X = X[..., np.newaxis]\n",
    "\n",
    "  return X, y, mapping\n"
   ]
  },
  {
   "cell_type": "code",
   "execution_count": 5,
   "metadata": {
    "id": "mENNVOEUxDrc"
   },
   "outputs": [],
   "source": [
    "# Función de graficado de desmpeño de red neuronal (Obtenida de ayudantía 10)\n",
    "\n",
    "def plot_history(history):\n",
    "    \"\"\"\n",
    "    Plots accuracy/loss for training/validation set as a function of the epochs\n",
    "    :param history: Training history of model\n",
    "    :return:\n",
    "    \"\"\"\n",
    "\n",
    "    fig, axs = plt.subplots(2)\n",
    "\n",
    "    # create accuracy sublpot\n",
    "    axs[0].plot(history.history[\"accuracy\"], label=\"train accuracy\")\n",
    "    axs[0].plot(history.history[\"val_accuracy\"], label=\"test accuracy\")\n",
    "    axs[0].set_ylabel(\"Accuracy\")\n",
    "    axs[0].legend(loc=\"lower right\")\n",
    "    axs[0].set_title(\"Accuracy eval\")\n",
    "\n",
    "    # create error sublpot\n",
    "    axs[1].plot(history.history[\"loss\"], label=\"train error\")\n",
    "    axs[1].plot(history.history[\"val_loss\"], label=\"test error\")\n",
    "    axs[1].set_ylabel(\"Error\")\n",
    "    axs[1].set_xlabel(\"Epoch\")\n",
    "    axs[1].legend(loc=\"upper right\")\n",
    "    axs[1].set_title(\"Error eval\")\n",
    "\n",
    "    plt.show()"
   ]
  },
  {
   "cell_type": "code",
   "execution_count": 6,
   "metadata": {
    "id": "LdDrURWp6QLJ"
   },
   "outputs": [],
   "source": [
    "def eval_model(X_test, y_test, model):\n",
    "  score = model.evaluate(X_test, y_test)\n",
    "  output = f\"\"\" \n",
    "  Test loss: {score[0]}\n",
    "  Test accuracy: {score[1]}\n",
    "  \"\"\"\n",
    "\n",
    "  return output"
   ]
  },
  {
   "cell_type": "code",
   "execution_count": 7,
   "metadata": {
    "id": "XMq4uD_2z1Ws"
   },
   "outputs": [],
   "source": [
    "MFCC_PATH = \"/content/drive/MyDrive/Colab Notebooks/iic2613/tarea-4-2022-1-tcouso/01 - Redes Neuronales/mfcc_data.json\""
   ]
  },
  {
   "cell_type": "code",
   "execution_count": 79,
   "metadata": {
    "id": "Kjry265EzZpg"
   },
   "outputs": [],
   "source": [
    "X_dense, y_dense, mapping = load_data_dense(MFCC_PATH)"
   ]
  },
  {
   "cell_type": "code",
   "execution_count": 80,
   "metadata": {
    "colab": {
     "base_uri": "https://localhost:8080/"
    },
    "id": "NbzEPbLXd1_c",
    "outputId": "a2f185a0-5bad-42f9-f7de-0ad95d074fb3"
   },
   "outputs": [
    {
     "data": {
      "text/plain": [
       "['country',\n",
       " 'hiphop',\n",
       " 'rock',\n",
       " 'pop',\n",
       " 'metal',\n",
       " 'disco',\n",
       " 'reggae',\n",
       " 'blues',\n",
       " 'jazz',\n",
       " 'classical']"
      ]
     },
     "execution_count": 80,
     "metadata": {},
     "output_type": "execute_result"
    }
   ],
   "source": [
    "mapping"
   ]
  },
  {
   "cell_type": "markdown",
   "metadata": {
    "id": "dcgIlGuw7EGC"
   },
   "source": [
    "## Actividad 3: Red Neuronal Densa"
   ]
  },
  {
   "cell_type": "code",
   "execution_count": 47,
   "metadata": {
    "id": "39k9o6jeuL4_"
   },
   "outputs": [],
   "source": [
    "from sklearn.utils import shuffle\n",
    "\n",
    "TEST_SIZE = .2\n",
    "X_train, X_test, y_train, y_test = train_test_split(X_dense, y_dense, test_size=TEST_SIZE)\n",
    "X_test, X_validation, y_test, y_validation = train_test_split(X_test, y_test, test_size=.5)\n",
    "\n",
    "X_train, y_train = shuffle(X_train, y_train, random_state=18211933)"
   ]
  },
  {
   "cell_type": "code",
   "execution_count": 49,
   "metadata": {
    "id": "5l7BZRurpkLk"
   },
   "outputs": [],
   "source": [
    "# Pasamos variable dependiente a categórica\n",
    "\n",
    "from tensorflow.keras.utils import to_categorical\n",
    "\n",
    "y_train = to_categorical(y_train)\n",
    "y_validation = to_categorical(y_validation)\n",
    "y_test = to_categorical(y_test)"
   ]
  },
  {
   "cell_type": "code",
   "execution_count": 50,
   "metadata": {
    "id": "0wnPm0bt7Zh9"
   },
   "outputs": [],
   "source": [
    "# Reshape dataset\n",
    "INPUT_SHAPE = (X.shape[1], X.shape[2])\n",
    "INPUT_SIZE = INPUT_SHAPE[0] * INPUT_SHAPE[1]\n",
    "\n",
    "X_train = np.reshape(X_train, [-1, INPUT_SIZE])\n",
    "X_validation = np.reshape(X_validation, [-1, INPUT_SIZE])\n",
    "X_test = np.reshape(X_test, [-1, INPUT_SIZE])\n"
   ]
  },
  {
   "cell_type": "code",
   "execution_count": 51,
   "metadata": {
    "id": "B3esrnOz81nr"
   },
   "outputs": [],
   "source": [
    "def dense(hidden_units, num_labels, input_size):\n",
    "\n",
    "  # build network topology\n",
    "  model = Sequential()\n",
    "  model.add(Input(shape=input_size))\n",
    "\n",
    "  model.add(Dense(hidden_units))\n",
    "  model.add(Activation('relu'))\n",
    "\n",
    "  model.add(Dense(hidden_units))\n",
    "  model.add(Activation('relu'))\n",
    "\n",
    "  model.add(Dense(hidden_units))\n",
    "  model.add(Activation('relu'))\n",
    "\n",
    "  model.add(Dense(hidden_units))\n",
    "  model.add(Activation('relu'))\n",
    "\n",
    "  model.add(Dense(num_labels))\n",
    "  model.add(Activation('softmax'))\n",
    "\n",
    "  return model\n"
   ]
  },
  {
   "cell_type": "code",
   "execution_count": 52,
   "metadata": {
    "colab": {
     "base_uri": "https://localhost:8080/"
    },
    "id": "FGqZRtXTtJrB",
    "outputId": "9cef6bbd-1c00-42d2-e6b4-e9d920e562bb"
   },
   "outputs": [
    {
     "name": "stdout",
     "output_type": "stream",
     "text": [
      "Model: \"sequential_2\"\n",
      "_________________________________________________________________\n",
      " Layer (type)                Output Shape              Param #   \n",
      "=================================================================\n",
      " dense_7 (Dense)             (None, 400)               676400    \n",
      "                                                                 \n",
      " activation_5 (Activation)   (None, 400)               0         \n",
      "                                                                 \n",
      " dense_8 (Dense)             (None, 400)               160400    \n",
      "                                                                 \n",
      " activation_6 (Activation)   (None, 400)               0         \n",
      "                                                                 \n",
      " dense_9 (Dense)             (None, 400)               160400    \n",
      "                                                                 \n",
      " activation_7 (Activation)   (None, 400)               0         \n",
      "                                                                 \n",
      " dense_10 (Dense)            (None, 400)               160400    \n",
      "                                                                 \n",
      " activation_8 (Activation)   (None, 400)               0         \n",
      "                                                                 \n",
      " dense_11 (Dense)            (None, 10)                4010      \n",
      "                                                                 \n",
      " activation_9 (Activation)   (None, 10)                0         \n",
      "                                                                 \n",
      "=================================================================\n",
      "Total params: 1,161,610\n",
      "Trainable params: 1,161,610\n",
      "Non-trainable params: 0\n",
      "_________________________________________________________________\n"
     ]
    }
   ],
   "source": [
    "# Parámetros red neuronal densa\n",
    "\n",
    "HIDDEN_UNITS = 400\n",
    "NUM_LABELS = len(np.unique(y))\n",
    "model = dense(\n",
    "    hidden_units=HIDDEN_UNITS,\n",
    "    input_size=INPUT_SIZE,\n",
    "    num_labels=NUM_LABELS\n",
    ")\n",
    "model.summary()"
   ]
  },
  {
   "cell_type": "code",
   "execution_count": 53,
   "metadata": {
    "id": "kgLmFwue2mxg"
   },
   "outputs": [],
   "source": [
    "optimizer = Adam(learning_rate=0.0001)\n",
    "batch_size = 100\n",
    "model.compile(loss='categorical_crossentropy',\n",
    "              optimizer=optimizer,\n",
    "              metrics=['accuracy'])"
   ]
  },
  {
   "cell_type": "code",
   "execution_count": 54,
   "metadata": {
    "colab": {
     "base_uri": "https://localhost:8080/"
    },
    "id": "G18nL4rZ4J0H",
    "outputId": "758b72bc-4c95-438d-c2c6-a8ec1583948e"
   },
   "outputs": [
    {
     "name": "stdout",
     "output_type": "stream",
     "text": [
      "Epoch 1/20\n",
      "80/80 [==============================] - 2s 19ms/step - loss: 6.4631 - accuracy: 0.3374 - val_loss: 3.6293 - val_accuracy: 0.3890\n",
      "Epoch 2/20\n",
      "80/80 [==============================] - 1s 17ms/step - loss: 2.7335 - accuracy: 0.4489 - val_loss: 2.8498 - val_accuracy: 0.4370\n",
      "Epoch 3/20\n",
      "80/80 [==============================] - 1s 18ms/step - loss: 1.9520 - accuracy: 0.5230 - val_loss: 2.5393 - val_accuracy: 0.4610\n",
      "Epoch 4/20\n",
      "80/80 [==============================] - 1s 18ms/step - loss: 1.5479 - accuracy: 0.5811 - val_loss: 2.9089 - val_accuracy: 0.4380\n",
      "Epoch 5/20\n",
      "80/80 [==============================] - 1s 17ms/step - loss: 1.2544 - accuracy: 0.6340 - val_loss: 1.9992 - val_accuracy: 0.5000\n",
      "Epoch 6/20\n",
      "80/80 [==============================] - 1s 17ms/step - loss: 0.9902 - accuracy: 0.6933 - val_loss: 1.9795 - val_accuracy: 0.5180\n",
      "Epoch 7/20\n",
      "80/80 [==============================] - 1s 17ms/step - loss: 0.8010 - accuracy: 0.7426 - val_loss: 1.9357 - val_accuracy: 0.5110\n",
      "Epoch 8/20\n",
      "80/80 [==============================] - 1s 18ms/step - loss: 0.6982 - accuracy: 0.7759 - val_loss: 1.9473 - val_accuracy: 0.5030\n",
      "Epoch 9/20\n",
      "80/80 [==============================] - 1s 18ms/step - loss: 0.5896 - accuracy: 0.8071 - val_loss: 1.8587 - val_accuracy: 0.5520\n",
      "Epoch 10/20\n",
      "80/80 [==============================] - 1s 17ms/step - loss: 0.4997 - accuracy: 0.8356 - val_loss: 1.8403 - val_accuracy: 0.5400\n",
      "Epoch 11/20\n",
      "80/80 [==============================] - 1s 17ms/step - loss: 0.4094 - accuracy: 0.8658 - val_loss: 1.8829 - val_accuracy: 0.5450\n",
      "Epoch 12/20\n",
      "80/80 [==============================] - 1s 17ms/step - loss: 0.3778 - accuracy: 0.8766 - val_loss: 1.8520 - val_accuracy: 0.5630\n",
      "Epoch 13/20\n",
      "80/80 [==============================] - 1s 17ms/step - loss: 0.3226 - accuracy: 0.9004 - val_loss: 1.8279 - val_accuracy: 0.5490\n",
      "Epoch 14/20\n",
      "80/80 [==============================] - 1s 17ms/step - loss: 0.2540 - accuracy: 0.9222 - val_loss: 1.8515 - val_accuracy: 0.5470\n",
      "Epoch 15/20\n",
      "80/80 [==============================] - 1s 17ms/step - loss: 0.2137 - accuracy: 0.9377 - val_loss: 1.8715 - val_accuracy: 0.5580\n",
      "Epoch 16/20\n",
      "80/80 [==============================] - 1s 17ms/step - loss: 0.1413 - accuracy: 0.9678 - val_loss: 1.8325 - val_accuracy: 0.5710\n",
      "Epoch 17/20\n",
      "80/80 [==============================] - 1s 17ms/step - loss: 0.1243 - accuracy: 0.9716 - val_loss: 1.9084 - val_accuracy: 0.5610\n",
      "Epoch 18/20\n",
      "80/80 [==============================] - 1s 17ms/step - loss: 0.1110 - accuracy: 0.9761 - val_loss: 1.8580 - val_accuracy: 0.5690\n",
      "Epoch 19/20\n",
      "80/80 [==============================] - 1s 17ms/step - loss: 0.0941 - accuracy: 0.9837 - val_loss: 1.9517 - val_accuracy: 0.5610\n",
      "Epoch 20/20\n",
      "80/80 [==============================] - 1s 17ms/step - loss: 0.1058 - accuracy: 0.9772 - val_loss: 1.9001 - val_accuracy: 0.5800\n"
     ]
    }
   ],
   "source": [
    "dense_history = model.fit(\n",
    "    X_train, \n",
    "    y_train, \n",
    "    epochs=20,\n",
    "    validation_data=(X_validation, y_validation),\n",
    "    batch_size=batch_size)"
   ]
  },
  {
   "cell_type": "markdown",
   "metadata": {
    "id": "EkO211xOAc2K"
   },
   "source": [
    "### Variación del _accuracy_ y _loss function_ por época"
   ]
  },
  {
   "cell_type": "code",
   "execution_count": 55,
   "metadata": {
    "colab": {
     "base_uri": "https://localhost:8080/",
     "height": 295
    },
    "id": "1ySpF0YbxMGr",
    "outputId": "e95354fd-c707-4d8c-f8dc-9054eadcf39f"
   },
   "outputs": [
    {
     "data": {
      "image/png": "[encoded data removed]",
      "text/plain": [
       "<Figure size 432x288 with 2 Axes>"
      ]
     },
     "metadata": {
      "needs_background": "light"
     },
     "output_type": "display_data"
    }
   ],
   "source": [
    "plot_history(dense_history)"
   ]
  },
  {
   "cell_type": "markdown",
   "metadata": {
    "id": "1cda_pp8AgvE"
   },
   "source": [
    "El _accuracy_ en el set de entrenamiento mantiene un incremento continuo hasta llegar a valores muy cercanos a 1 (_accuracy_ perfecto). Para el caso del set de test, se oberva un incremento inicial del _accuracy_ a valores cercanos a 0.5, donde se alcanza una meseta. \n",
    "\n",
    "Para el caso de la _loss function_, el caso es semejante; para el set de entrenamiento, el error disminuye con las épocas de manera continua hasta casi llegar a ser nulo. No obstante, para el set de testeo, el error disminuye levemente al inicio, pero posteriormente se mantiene constante en torno a 2. \n",
    "\n",
    "Ambas discrepancias entre el rendimiento del set de entrenamiento versus en set de testeo son una señal de que la red neuronal implementada pueda estar realizando _overfitting_ sobre el conjunto de datos; el modelo se ajusta de manera excesiva a los datos de entrenamiento (evidenciado en el alto _accuracy_  y bajo error en el set de entrenamiento) pero es incapaz de generalizar de manera apropiada a conjuntos de datos diferentes (evidenciado en el bajo _accuracy_ y alto error en el conjunto de testeo)."
   ]
  },
  {
   "cell_type": "markdown",
   "metadata": {
    "id": "1hQoWnNm_O-6"
   },
   "source": [
    "### Evalúe el _accuracy_ en el set de test y comente los resultados brevemente."
   ]
  },
  {
   "cell_type": "code",
   "execution_count": 19,
   "metadata": {
    "colab": {
     "base_uri": "https://localhost:8080/"
    },
    "id": "9G02jxLTzRi_",
    "outputId": "722ad5e5-6155-4947-a3d7-bc0b6de722ae"
   },
   "outputs": [
    {
     "name": "stdout",
     "output_type": "stream",
     "text": [
      "32/32 [==============================] - 0s 4ms/step - loss: 2.0539 - accuracy: 0.5550\n",
      " \n",
      "  Test loss: 2.0539445877075195\n",
      "  Test accuracy: 0.5550000071525574\n",
      "  \n"
     ]
    }
   ],
   "source": [
    "print(eval_model(X_test, y_test, model))"
   ]
  },
  {
   "cell_type": "markdown",
   "metadata": {
    "id": "mEGXThBCNepp"
   },
   "source": [
    "El _accuracy_ de la red neuronal densa en el set de testeo fue de un 56% aproximadamente. Dichos resultados están por sobre el 40% solicitado para efectos de esta tarea, pero aún así son bajos para lo que se podría esperar si, por ejemplo, se quisiera llevar el modelo a producción. El motivo del _accuracy_ bajo posiblemente tenga relación con el _overfitting_ identificado en la sección anterior. Una posible explicación de por qué una red neuronal realiza _overfitting_ puede ser la excesiva capacidad de la red, lo que le permite memorizar las instancias de entrenamiento sin necesidad de generalizar. Así, una adaptación que eventualmente podría disminuir el _overfitting_ e incrementar el accuracy sería disminuir la complejidad de la red (por ejemplo, con una red neuronal más pequeña).\n",
    "\n",
    "Referencias:\n",
    "- https://www.analyticsvidhya.com/blog/2021/06/complete-guide-to-prevent-overfitting-in-neural-networks-part-1/"
   ]
  },
  {
   "cell_type": "code",
   "execution_count": 56,
   "metadata": {
    "id": "mad_x2VLzyXE"
   },
   "outputs": [],
   "source": [
    "# Guardamos datos de la red neuronal densa\n",
    "\n",
    "dense_X = {\n",
    "    \"X_train\": X_train, \n",
    "    \"X_validation\": X_validation,\n",
    "    \"X_test\": X_test\n",
    "}\n",
    "\n",
    "dense_y = {\n",
    "    \"y_train\": y_train,\n",
    "    \"y_validation\": y_validation,\n",
    "    \"y_test\": y_test\n",
    "}\n",
    "\n",
    "dense_model = model"
   ]
  },
  {
   "cell_type": "markdown",
   "metadata": {
    "id": "gpqhBv7u8EYh"
   },
   "source": [
    "## Actividad 4: Introducción a las CNN’s\n",
    "\n",
    "### ¿En qué consisten las CNN's, qué hacen y cual es su utilidad al trabajar con audio?\n",
    "\n",
    "Las redes neuronales convolucionales (CNN's) son un tipo de red neuronal especializado en el reconocimiento de patrones, e inspirado en el funcionamiento de la corteza visual del cerebro. En términos generales, dichas redes neuronales identifican patrones de un arreglo de valores de input de manera secuencial, donde las primeras capas obtienen elementos de baja jerarquía, que posteriormente son entregados a las capas superiores para la identificación de patrones más complejos. Por ejemplo, en el campo de la visión por computador, las primeras capas de una CNN primero identificarían contrastes. Luego dichos contrastes serían entregados a una siguiente capa para identificar rectas. La siguente capa recibiría rectas e identificaría ángulos, y así sucesivamente.\n",
    "\n",
    "Para cumplir dicho propósito, las CNN constan de tres tipos de capas de neuronas, la capa convolucional (_convolutional layer_), la capa de pooling (_pooling layer_), y la capa densamente conectada (_fully connected layer_), que son detalladas a continuación:\n",
    "\n",
    "#### a) Convolutional layer\n",
    "\n",
    "Una capa convolucional es el principal componente de una CNN, donde ocurre la mayor parte del cómputo llevado a cabo. Consta de datos de entrada, filtros y un _feature map_. \n",
    "\n",
    "Un filtro, o _kernel_, consiste en un arreglo bidimensional de pesos que está especializado en la identificación de patrones dentro de un arreglo de datos de entrada. Por ejemplo, en el dominio de la visión por computador, un filtro puede consistir en identificadores de líneas. Una CNN identifica patrones al mover el filtro a través de la matriz de datos de entrada mediante una ventana deslizante, donde para cada ventana se verifica la presencia de cierto patrón al calcular el producto punto entre la ventana y el filtro aplicado (proceso denominado _convolución_).\n",
    "\n",
    "Al aplicar el filtro sobre todas las ventanas posibles, obtenemos un arreglo de menor dimensión con los valores del filtro para cada ventana; dicho arreglo se denomina _feature map_. \n",
    "\n",
    "#### b) Pooling layer\n",
    "\n",
    "Este tipo de capa realiza un proceso denominado \"reducción de dimensionalidad\". Este permite reducir los parámetros del input, y se lleva a cabo aplicando un filtro sobre los valores de entrada. No obstante, a diferencia del filtro aplicado en la capa de convolución, el filtro aplicado en pooling consiste en una función de agregación, que reduce los valore de cada ventana a un único valor. Dos funciones de agregación comunmente empleadas son el máximo (_max pooling_) y el promedio (_average pooling_).\n",
    "\n",
    "#### a) Fully connected layer\n",
    "\n",
    "Es la capa final dentro de una CNN. Consiste en una capa densa (completamente conectada) que lleva a cabo la clasificación final en base a los features extraidos en las capas convolucionales y de pooling.\n",
    "\n",
    "#### CNN's en el contexto de procesamiento de audio\n",
    "\n",
    "Las CNN's fueron concebidas principalmente para el trabajo con datos de imágenes (de ahí que reciben como input tensores de tres dimensiónes; a saber, una matriz de vectores RGB). Sin embargo, el procedimiento que llevan a cabo para obtener patrones de los datos aplica para elementos de espacios vectoriales, independientemente de si estos son imágenes o no. De tal modo, las CNN también pueden ser útiles en la identificación de patrones de datos de audio, dado que dichos datos también pueden ser representados de forma matricial (como fue detallado en la sección concerniente a los MFCC's). De tal modo, la utilidad de las CNN's en el contexto de datos de audio es similar a la utilidad que tienen en cualquier otro contexto; a saber, que pueden emplearse para identificar patrones a nivel local y en diferentes escalas de jerarquía.\n",
    "\n",
    "### ¿Cuales ventajas tiene una CNN con respecto al las redes neuronales convencionales al trabajar con audio?\n",
    "\n",
    "Una CNN tiene la ventaja de disponer de capas especializadas en la abstracción de patrones a nivel local, mientras que una red neuronal densa tiene solo un tipo de capas, que extrae patrones a nivel global. Sabemos que los datos de audio tienen una estructura de naturaleza temporal, donde los elementos relevantes para entender qué se está diciendo se encuentran en intervalos temporales acotados. Esta identificación de patrones en ventanas temporales específicas probablemente permita obetener una caracterización más precisa que la que se obtendría con patrones globales. De tal modo, las CNN tienen una ventaja sobre las redes neuronales densas en tanto la capacidad de identificar patrones locales de las primeras se ajusta en mayor medida a la naturaleza de los datos de audio.\n",
    "\n",
    "### Referencias\n",
    "- https://www.youtube.com/watch?v=g51PBqDHXuo\n",
    "- https://www.youtube.com/watch?v=QzY57FaENXg\n",
    "- https://www.ibm.com/cloud/learn/convolutional-neural-networks?utm_medium=OSocial&utm_source=Youtube&utm_content=WAIWW&utm_id=YTDescription-101-What-are-CNNs-LH-CNNs-Guide\n",
    "\n",
    "\n"
   ]
  },
  {
   "cell_type": "markdown",
   "metadata": {
    "id": "EQQ9NoNo8-j1"
   },
   "source": [
    "## Actividad 5: Creando una CNN clasificadora"
   ]
  },
  {
   "cell_type": "code",
   "execution_count": 174,
   "metadata": {
    "id": "LAZHa_p91LNl"
   },
   "outputs": [],
   "source": [
    "# Cargamos set de datos\n",
    "\n",
    "X_conv, y_conv, mapping = load_data_conv(MFCC_PATH)"
   ]
  },
  {
   "cell_type": "code",
   "execution_count": 175,
   "metadata": {
    "id": "cbRo1uon1Xc1"
   },
   "outputs": [],
   "source": [
    "TEST_SIZE = .2\n",
    "X_train, X_test, y_train, y_test = train_test_split(X_conv, y_conv, test_size=TEST_SIZE)\n",
    "X_test, X_validation, y_test, y_validation = train_test_split(X_test, y_test, test_size=.5)\n",
    "\n",
    "X_train, y_train = shuffle(X_train, y_train, random_state=18211933)"
   ]
  },
  {
   "cell_type": "code",
   "execution_count": 185,
   "metadata": {
    "id": "RXZf3E_pfjcX"
   },
   "outputs": [],
   "source": [
    "# Pasamos variable dependiente a categórica\n",
    "\n",
    "y_train = to_categorical(y_train)\n",
    "y_validation = to_categorical(y_validation)\n",
    "y_test = to_categorical(y_test)"
   ]
  },
  {
   "cell_type": "code",
   "execution_count": 261,
   "metadata": {
    "id": "Uw0NIlaH0WWs"
   },
   "outputs": [],
   "source": [
    "# Definimos modelo de red neuronal convolucional\n",
    "\n",
    "def cnn(input_shape, num_labels):\n",
    "\n",
    "  # build network topology\n",
    "  model  = Sequential()\n",
    "\n",
    "  # 1st conv layer\n",
    "  model.add(Conv2D(64, (3, 3), activation='relu', input_shape=input_shape))\n",
    "  model.add(MaxPooling2D((2, 2)))\n",
    "\n",
    "  # 2nd conv layer\n",
    "  model.add(Conv2D(128, (3, 3), activation='relu'))\n",
    "  model.add(MaxPooling2D((2, 2)))\n",
    "\n",
    "  # flatten output and feed it into dense layer\n",
    "  model.add(Flatten())\n",
    "  model.add(Dense(256, activation='relu'))\n",
    "\n",
    "  # output layer\n",
    "  model.add(Dense(num_labels, activation='sigmoid'))\n",
    "\n",
    "  return model\n"
   ]
  },
  {
   "cell_type": "code",
   "execution_count": 262,
   "metadata": {
    "id": "tBz9kCB4vXtr"
   },
   "outputs": [],
   "source": [
    "# Instanciamos el modelo\n",
    "\n",
    "INPUT_SHAPE = (X_train.shape[1], X_train.shape[2], X_train.shape[3])\n",
    "model = cnn(input_shape=INPUT_SHAPE, num_labels=NUM_LABELS)\n"
   ]
  },
  {
   "cell_type": "code",
   "execution_count": 235,
   "metadata": {
    "colab": {
     "base_uri": "https://localhost:8080/"
    },
    "id": "sbEMPFJn04Nc",
    "outputId": "cb4a5c82-35aa-4ef1-da37-36a64c053098"
   },
   "outputs": [
    {
     "name": "stdout",
     "output_type": "stream",
     "text": [
      "Model: \"sequential_28\"\n",
      "_________________________________________________________________\n",
      " Layer (type)                Output Shape              Param #   \n",
      "=================================================================\n",
      " conv2d_57 (Conv2D)          (None, 128, 11, 64)       640       \n",
      "                                                                 \n",
      " max_pooling2d_52 (MaxPoolin  (None, 64, 5, 64)        0         \n",
      " g2D)                                                            \n",
      "                                                                 \n",
      " conv2d_58 (Conv2D)          (None, 62, 3, 128)        73856     \n",
      "                                                                 \n",
      " max_pooling2d_53 (MaxPoolin  (None, 31, 1, 128)       0         \n",
      " g2D)                                                            \n",
      "                                                                 \n",
      " flatten_21 (Flatten)        (None, 3968)              0         \n",
      "                                                                 \n",
      " dense_52 (Dense)            (None, 256)               1016064   \n",
      "                                                                 \n",
      " dense_53 (Dense)            (None, 10)                2570      \n",
      "                                                                 \n",
      "=================================================================\n",
      "Total params: 1,093,130\n",
      "Trainable params: 1,093,130\n",
      "Non-trainable params: 0\n",
      "_________________________________________________________________\n"
     ]
    }
   ],
   "source": [
    "optimizer = Adam(learning_rate=0.0001)\n",
    "model.compile(optimizer=optimizer,\n",
    "              loss='categorical_crossentropy',\n",
    "              metrics=['accuracy'])\n",
    "model.summary()"
   ]
  },
  {
   "cell_type": "code",
   "execution_count": 236,
   "metadata": {
    "colab": {
     "base_uri": "https://localhost:8080/"
    },
    "id": "Nv4b7ZIB4Q4u",
    "outputId": "3bc2b83a-248b-45a6-96c3-baedd2c2446c"
   },
   "outputs": [
    {
     "name": "stdout",
     "output_type": "stream",
     "text": [
      "Epoch 1/10\n",
      "250/250 [==============================] - 23s 89ms/step - loss: 2.0319 - accuracy: 0.3850 - val_loss: 1.5707 - val_accuracy: 0.4320\n",
      "Epoch 2/10\n",
      "250/250 [==============================] - 22s 88ms/step - loss: 1.2916 - accuracy: 0.5345 - val_loss: 1.2485 - val_accuracy: 0.5470\n",
      "Epoch 3/10\n",
      "250/250 [==============================] - 22s 88ms/step - loss: 1.0277 - accuracy: 0.6409 - val_loss: 1.1557 - val_accuracy: 0.5700\n",
      "Epoch 4/10\n",
      "250/250 [==============================] - 22s 87ms/step - loss: 0.8556 - accuracy: 0.7004 - val_loss: 1.1250 - val_accuracy: 0.6120\n",
      "Epoch 5/10\n",
      "250/250 [==============================] - 22s 87ms/step - loss: 0.6919 - accuracy: 0.7626 - val_loss: 1.1836 - val_accuracy: 0.5850\n",
      "Epoch 6/10\n",
      "250/250 [==============================] - 23s 94ms/step - loss: 0.5735 - accuracy: 0.8084 - val_loss: 1.0569 - val_accuracy: 0.6330\n",
      "Epoch 7/10\n",
      "250/250 [==============================] - 22s 86ms/step - loss: 0.4553 - accuracy: 0.8540 - val_loss: 1.0501 - val_accuracy: 0.6250\n",
      "Epoch 8/10\n",
      "250/250 [==============================] - 22s 88ms/step - loss: 0.3639 - accuracy: 0.8898 - val_loss: 1.0543 - val_accuracy: 0.6530\n",
      "Epoch 9/10\n",
      "250/250 [==============================] - 22s 88ms/step - loss: 0.2718 - accuracy: 0.9279 - val_loss: 1.1043 - val_accuracy: 0.6590\n",
      "Epoch 10/10\n",
      "250/250 [==============================] - 22s 88ms/step - loss: 0.2145 - accuracy: 0.9421 - val_loss: 1.0593 - val_accuracy: 0.6800\n"
     ]
    }
   ],
   "source": [
    "cnn_history = model.fit(X_train,\n",
    "                        y_train, \n",
    "                        batch_size=32,\n",
    "                        validation_data=(X_validation, y_validation),\n",
    "                        epochs=10)"
   ]
  },
  {
   "cell_type": "markdown",
   "metadata": {
    "id": "pBNpTcb8__RK"
   },
   "source": [
    "### Variación del _accuracy_ y _loss function_ por época"
   ]
  },
  {
   "cell_type": "code",
   "execution_count": 237,
   "metadata": {
    "colab": {
     "base_uri": "https://localhost:8080/",
     "height": 295
    },
    "id": "ZXmPsk7t2Lzq",
    "outputId": "d21c8a11-93f9-474d-b56d-e178fe2f290b"
   },
   "outputs": [
    {
     "data": {
      "image/png": "[encoded data removed]",
      "text/plain": [
       "<Figure size 432x288 with 2 Axes>"
      ]
     },
     "metadata": {
      "needs_background": "light"
     },
     "output_type": "display_data"
    }
   ],
   "source": [
    "plot_history(cnn_history)"
   ]
  },
  {
   "cell_type": "markdown",
   "metadata": {
    "id": "aHvNeaLLWDl-"
   },
   "source": [
    "El _accuracy_ en el set de entrenamiento mantiene un incremento continuo hasta llegar a valores muy cercanos a 1 (_accuracy_ perfecto). Para el caso del set de test, se oberva un incremento inicial del _accuracy_ a valores cercanos a 0.6, donde se alcanza una meseta. \n",
    "\n",
    "Para el caso de la _loss function_, el caso es semejante; para el set de entrenamiento, el error disminuye con las épocas de manera continua hasta casi llegar a ser nulo. No obstante, para el set de testeo, el error disminuye levemente al inicio, pero posteriormente se mantiene constante en torno a 1. \n",
    "\n",
    "Ambas discrepancias entre el rendimiento del set de entrenamiento versus en set de testeo son hasta cierto punto esperables, pero aún así sugieren que la red neuronal esté realizando overfitting sobre los datos de entrenamiento. "
   ]
  },
  {
   "cell_type": "markdown",
   "metadata": {
    "id": "HNZ8j2aF-Njy"
   },
   "source": [
    "### Evalúa el accuracy en el set de test y comente los resultados brevemente"
   ]
  },
  {
   "cell_type": "code",
   "execution_count": 238,
   "metadata": {
    "colab": {
     "base_uri": "https://localhost:8080/"
    },
    "id": "H-XClVoj8cKG",
    "outputId": "6bbf2ff2-9808-4624-f78a-4fc712bb7d2a"
   },
   "outputs": [
    {
     "name": "stdout",
     "output_type": "stream",
     "text": [
      "Test loss: 1.0819615125656128\n",
      "Test acc: 0.6629999876022339\n",
      "None\n"
     ]
    }
   ],
   "source": [
    "print(eval_model(X_test, y_test, model))"
   ]
  },
  {
   "cell_type": "markdown",
   "metadata": {
    "id": "nR4Cv0L6WE2r"
   },
   "source": [
    "El _accuracy_ de la red neuronal densa en el set de testeo fue de un 66% aproximadamente. Dichos resultados están por sobre el 50% solicitado para efectos de esta tarea, y para dichos efectos se consideran relativamente buenos. Los motivos de este valor podrían explicarse en base al ligero overfitting identificado en la sección anterior, o debido a géneros musicales eventualmente muy similares entre sí (más detalle sobre esto en la Actividad 6).\n"
   ]
  },
  {
   "cell_type": "code",
   "execution_count": 239,
   "metadata": {
    "id": "cl8Xw4vv05Bm"
   },
   "outputs": [],
   "source": [
    "# Guardamos datos de red neuronal convolucional\n",
    "\n",
    "conv_X = {\n",
    "    \"X_train\": X_train, \n",
    "    \"X_validation\": X_validation,\n",
    "    \"X_test\": X_test\n",
    "}\n",
    "\n",
    "conv_y = {\n",
    "    \"y_train\": y_train,\n",
    "    \"y_validation\": y_validation,\n",
    "    \"y_test\": y_test\n",
    "}\n",
    "\n",
    "conv_model = model"
   ]
  },
  {
   "cell_type": "markdown",
   "metadata": {
    "id": "_kR8Y0Vt9aNg"
   },
   "source": [
    "## Actividad 6: Comparación de modelos"
   ]
  },
  {
   "cell_type": "code",
   "execution_count": 287,
   "metadata": {
    "id": "02l-Oq4h4DJK"
   },
   "outputs": [],
   "source": [
    "from sklearn.metrics import confusion_matrix, ConfusionMatrixDisplay"
   ]
  },
  {
   "cell_type": "code",
   "execution_count": 297,
   "metadata": {
    "colab": {
     "base_uri": "https://localhost:8080/",
     "height": 597
    },
    "id": "u7s43GZV8zU4",
    "outputId": "cbfee94e-2a4b-472a-d77a-72a8cc7bc950"
   },
   "outputs": [
    {
     "data": {
      "text/plain": [
       "<sklearn.metrics._plot.confusion_matrix.ConfusionMatrixDisplay at 0x7f28d09abd10>"
      ]
     },
     "execution_count": 297,
     "metadata": {},
     "output_type": "execute_result"
    },
    {
     "data": {
      "image/png": "[encoded data removed]",
      "text/plain": [
       "<Figure size 720x720 with 2 Axes>"
      ]
     },
     "metadata": {
      "needs_background": "light"
     },
     "output_type": "display_data"
    }
   ],
   "source": [
    "# Matriz de confusión de red neuronal densa\n",
    "\n",
    "cm = confusion_matrix(\n",
    "    np.argmax(dense_y['y_test'], axis=1),\n",
    "    np.argmax(dense_model.predict(dense_X['X_test']), axis=1),\n",
    "    normalize='true'\n",
    ")\n",
    "\n",
    "fig, ax_dense = plt.subplots(figsize=(10, 10))\n",
    "disp_dense = ConfusionMatrixDisplay(confusion_matrix=cm, display_labels=mapping)\n",
    "disp_dense.plot(ax=ax_dense)"
   ]
  },
  {
   "cell_type": "code",
   "execution_count": 296,
   "metadata": {
    "colab": {
     "base_uri": "https://localhost:8080/",
     "height": 597
    },
    "id": "CfVoZrQK82l6",
    "outputId": "3faf499e-1770-433e-c74c-3345205040e8"
   },
   "outputs": [
    {
     "data": {
      "text/plain": [
       "<sklearn.metrics._plot.confusion_matrix.ConfusionMatrixDisplay at 0x7f28ce55a090>"
      ]
     },
     "execution_count": 296,
     "metadata": {},
     "output_type": "execute_result"
    },
    {
     "data": {
      "image/png": "[encoded data removed]",
      "text/plain": [
       "<Figure size 720x720 with 2 Axes>"
      ]
     },
     "metadata": {
      "needs_background": "light"
     },
     "output_type": "display_data"
    }
   ],
   "source": [
    "# Matriz de confusión de red neuronal convolucional\n",
    "\n",
    "cm = confusion_matrix(\n",
    "    np.argmax(conv_y['y_test'], axis=1),\n",
    "    np.argmax(conv_model.predict(conv_X['X_test']), axis=1),\n",
    "    normalize='true'\n",
    ")\n",
    "\n",
    "fig, ax_conv = plt.subplots(figsize=(10, 10))\n",
    "disp_conv = ConfusionMatrixDisplay(confusion_matrix=cm, display_labels=mapping)\n",
    "disp_conv.plot(ax=ax_conv)"
   ]
  },
  {
   "cell_type": "markdown",
   "metadata": {
    "id": "7p_7xvv5-qyt"
   },
   "source": [
    "### ¿Cuales son las clases que más se confunden en cada una de las redes neuronales? ¿Por qué crees que ocurre esto?\n",
    "\n",
    "Para la red neuronal densa, los géneros musicales más confundidos entre sí fueron hip-hop con disco y hip-hop con reggae, ambos con confusiones de 18%. Para la red neuronal convolucional, los más confundidos fueron rock con disco, con un 21%, y country con rock, con un 16%. \n",
    "\n",
    "Las confusiones que se dieron tienen sentido hasta cierto punto, pues es posible identificar elementos musicales en común para algunas de las clases confundidas. Por ejemplo, la confusión de hip-hop con disco puede deberse al uso que hacen ambos géneros musicales de eleméntos de música electrónica. Al mismo tiempo, la del rock con el country puede deberse al frecuente uso de la guitarra eléctrica en canciones de ambos géneros. Esto se evidencia también al observar las clases con mayor _accuracy_ para ambos modelos; el metal y la música clásica. Ambos géneros tienen elementos muy definitorios entre sí y que son poco comunes en los demás géneros, lo que explicariá el mejor desempeño para estas categorías.\n",
    "\n",
    "### ¿Son las mismas clases las que más se confunden en ambas redes?\n",
    "\n",
    "Si bien las confusiones más frecuentes no son las mismas para ambas redes neuronales, las categorías involucradas en las confusiones son semejantes, donde el rock y el disco fueron confundidas con frecuencia en ambos modelos. \n"
   ]
  },
  {
   "cell_type": "markdown",
   "metadata": {
    "id": "pkhchTf1958T"
   },
   "source": [
    "## Actividad 7: Probando con audios propios"
   ]
  },
  {
   "cell_type": "markdown",
   "metadata": {
    "id": "h2b1cnpEAiIP"
   },
   "source": [
    "El audio elegido es el preludio de \"Lohengrin\", ópera de Richard Wagner. A continuación, se evaluará el desempeño de la red neuronal convolucional."
   ]
  },
  {
   "cell_type": "code",
   "execution_count": 30,
   "metadata": {
    "colab": {
     "base_uri": "https://localhost:8080/"
    },
    "id": "fq24cykaBnTv",
    "outputId": "3124478e-b8d3-46c6-ddfa-5c9ad285fccb"
   },
   "outputs": [
    {
     "name": "stdout",
     "output_type": "stream",
     "text": [
      "Looking in indexes: https://pypi.org/simple, https://us-python.pkg.dev/colab-wheels/public/simple/\n",
      "Collecting pydub\n",
      "  Downloading pydub-0.25.1-py2.py3-none-any.whl (32 kB)\n",
      "Installing collected packages: pydub\n",
      "Successfully installed pydub-0.25.1\n"
     ]
    }
   ],
   "source": [
    "# Para instalar pydub, descomenta:\n",
    "# !pip install pydub"
   ]
  },
  {
   "cell_type": "markdown",
   "metadata": {
    "id": "TftowBdS0Tsa"
   },
   "source": [
    "Link de descarga de canción elegida:\n",
    "\n",
    "https://drive.google.com/file/d/11RjTw27ypSUnL66lW5M3a6z4Qomk2CXP/view"
   ]
  },
  {
   "cell_type": "code",
   "execution_count": 298,
   "metadata": {
    "colab": {
     "base_uri": "https://localhost:8080/"
    },
    "id": "hpMf5EaG0Hz5",
    "outputId": "236c86c9-25a7-4ff2-b6b5-fdb08cfe8562"
   },
   "outputs": [
    {
     "name": "stdout",
     "output_type": "stream",
     "text": [
      "/usr/local/lib/python3.7/dist-packages/gdown/cli.py:131: FutureWarning: Option `--id` was deprecated in version 4.3.1 and will be removed in 5.0. You don't need to pass it anymore to use a file ID.\n",
      "  category=FutureWarning,\n",
      "Downloading...\n",
      "From: https://drive.google.com/uc?id=11RjTw27ypSUnL66lW5M3a6z4Qomk2CXP\n",
      "To: /content/Richard Wagner - Lohengrin - Prelude.wav\n",
      "100% 114M/114M [00:01<00:00, 57.9MB/s]\n"
     ]
    }
   ],
   "source": [
    "!gdown --id 11RjTw27ypSUnL66lW5M3a6z4Qomk2CXP"
   ]
  },
  {
   "cell_type": "code",
   "execution_count": 299,
   "metadata": {
    "id": "pkBTWmjL0SyC"
   },
   "outputs": [],
   "source": [
    "song_path = \"/content/Richard Wagner - Lohengrin - Prelude.wav\""
   ]
  },
  {
   "cell_type": "markdown",
   "metadata": {
    "id": "air-FncyBnTx"
   },
   "source": [
    "Función que recibe un archivo `.wav` y entrega un diccionario con los labels y MFCCs de cada segmento"
   ]
  },
  {
   "cell_type": "code",
   "execution_count": 124,
   "metadata": {
    "id": "BowiBp8F9631"
   },
   "outputs": [],
   "source": [
    "from pydub import AudioSegment\n",
    "import librosa\n",
    "import math\n",
    "import json\n",
    "\n",
    "def get_mfccs(file_path, label, num_mfcc=13, n_fft=2048, hop_length=512, num_segments=10):\n",
    "    \"\"\"Extrae los MFCCs de los primeros 30 segundos de una canción.\n",
    "        :param file_path (str): Path del archivo\n",
    "        :param label (int): Label\n",
    "        :param num_mfcc (int): Número de los coeficientes a extraer\n",
    "        :param n_fft (int): Intervalo en el que se realiza FFT.\n",
    "        :param hop_length (int): Sliding window para FFT.\n",
    "        :param: num_segments (int): Número de segementos en los que se dividirá la cación.\n",
    "        :return:\n",
    "        :param data: data[labels]: label de los segmentos\n",
    "                     data[mfcc]: mfcc de cada segmento. Tamaño: (10, 130, 13)\n",
    "    \"\"\"\n",
    "\n",
    "    # se seleccionan los primeros 30 segundos de la canción\n",
    "    audio_file = AudioSegment.from_file(file_path)\n",
    "    if len(audio_file) < 30000:\n",
    "      print(\"Archivo dura menos de 30 segundos.\")\n",
    "      return None\n",
    "\n",
    "    # se guardan los primeros 30 segundos en el archivo audio_part.wav\n",
    "    audio_part = audio_file[: 30000]\n",
    "    audio_part.export(\"audio_part.wav\")\n",
    "\n",
    "    # se definen variables\n",
    "    sample_rate = 22050\n",
    "    track_duration = 30\n",
    "    samples_per_track = sample_rate * track_duration\n",
    "\n",
    "    data = {\n",
    "        \"labels\": [],\n",
    "        \"mfcc\": []\n",
    "    }\n",
    "\n",
    "    samples_per_segment = int(samples_per_track / num_segments)\n",
    "    num_mfcc_vectors_per_segment = math.ceil(samples_per_segment / hop_length)\n",
    "\n",
    "    # se carga el archivo de audio modificado\n",
    "    signal, sample_rate = librosa.load(\"audio_part.wav\", sr=sample_rate)\n",
    "\n",
    "    # se procesan los segmentos del archivo\n",
    "    for d in range(num_segments):\n",
    "\n",
    "      # se calcula el inicio y final de cada segmento\n",
    "      start = samples_per_segment * d\n",
    "      finish = start + samples_per_segment\n",
    "\n",
    "      # se extraen los mfcc\n",
    "      mfcc = librosa.feature.mfcc(signal[start:finish], sample_rate, n_mfcc=num_mfcc, n_fft=n_fft, hop_length=hop_length)\n",
    "      mfcc = mfcc.T\n",
    "\n",
    "      # se guardan los mfcc si tienen el mismo tamaño que el esperado\n",
    "      if len(mfcc) == num_mfcc_vectors_per_segment:\n",
    "        data[\"mfcc\"].append(mfcc.tolist())\n",
    "        data[\"labels\"].append(label)\n",
    "\n",
    "    return data"
   ]
  },
  {
   "cell_type": "code",
   "execution_count": 301,
   "metadata": {
    "colab": {
     "base_uri": "https://localhost:8080/"
    },
    "id": "jz202AY1FAnr",
    "outputId": "355e13e3-ef99-4835-e6db-e41784aaee11"
   },
   "outputs": [
    {
     "name": "stderr",
     "output_type": "stream",
     "text": [
      "/usr/local/lib/python3.7/dist-packages/librosa/core/audio.py:165: UserWarning: PySoundFile failed. Trying audioread instead.\n",
      "  warnings.warn(\"PySoundFile failed. Trying audioread instead.\")\n"
     ]
    }
   ],
   "source": [
    "mfccs_song = get_mfccs(song_path, 9)"
   ]
  },
  {
   "cell_type": "code",
   "execution_count": 306,
   "metadata": {
    "id": "bjPB7ln707kJ"
   },
   "outputs": [],
   "source": [
    "X_song = np.array(mfccs_song[\"mfcc\"])\n",
    "X_song = X_song[..., np.newaxis]\n",
    "\n",
    "y_song = np.array(mfccs_song[\"labels\"])\n",
    "y_song = to_categorical(y_song, num_classes=10)"
   ]
  },
  {
   "cell_type": "code",
   "execution_count": 308,
   "metadata": {
    "id": "ZcAviM51GUWe"
   },
   "outputs": [],
   "source": [
    "# Función obtenida de cápsula de CNN\n",
    "def eval_model(X_test, y_test, model):\n",
    "  score = model.evaluate(X_test, y_test, verbose=0)\n",
    "  print(f\"Test loss: {score[0]}\")\n",
    "  print(f\"Test acc: {score[1]}\")\n"
   ]
  },
  {
   "cell_type": "code",
   "execution_count": 317,
   "metadata": {
    "colab": {
     "base_uri": "https://localhost:8080/"
    },
    "id": "-BF1HozTG37d",
    "outputId": "196f0ef8-51fe-400f-958e-221d85ba1591"
   },
   "outputs": [
    {
     "name": "stdout",
     "output_type": "stream",
     "text": [
      "Test loss: 4.041155534650898e-06\n",
      "Test acc: 1.0\n"
     ]
    }
   ],
   "source": [
    "eval_model(X_song, y_song, conv_model)"
   ]
  },
  {
   "cell_type": "markdown",
   "metadata": {
    "id": "9BU3VySiI3C_"
   },
   "source": [
    "Puede observarse un _accuracy_ del 100% para la canción esperada. Aquello se explica en tanto el género de la canción es música clasica, donde en la matriz de confusión se observó el más alto _accuracy_ para la red neuronal convolucional."
   ]
  },
  {
   "cell_type": "code",
   "execution_count": null,
   "metadata": {
    "id": "raxir4DPJhDS"
   },
   "outputs": [],
   "source": []
  }
 ],
 "metadata": {
  "colab": {
   "collapsed_sections": [],
   "name": "redes_neuronales.ipynb",
   "provenance": []
  },
  "gpuClass": "standard",
  "kernelspec": {
   "display_name": "Python 3 (ipykernel)",
   "language": "python",
   "name": "python3"
  },
  "language_info": {
   "codemirror_mode": {
    "name": "ipython",
    "version": 3
   },
   "file_extension": ".py",
   "mimetype": "text/x-python",
   "name": "python",
   "nbconvert_exporter": "python",
   "pygments_lexer": "ipython3",
   "version": "3.10.6"
  }
 },
 "nbformat": 4,
 "nbformat_minor": 1
}

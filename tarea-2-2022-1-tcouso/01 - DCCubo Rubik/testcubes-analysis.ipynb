{
 "cells": [
  {
   "cell_type": "code",
   "execution_count": 1,
   "id": "98d4db77",
   "metadata": {},
   "outputs": [],
   "source": [
    "import pandas as pd"
   ]
  },
  {
   "cell_type": "code",
   "execution_count": 8,
   "id": "9f728ef5",
   "metadata": {},
   "outputs": [],
   "source": [
    "df_min = pd.read_csv(\"min.csv\", index_col=0)\n",
    "df_max = pd.read_csv(\"max.csv\", index_col=0)\n",
    "df_sum = pd.read_csv(\"sum.csv\", index_col=0)"
   ]
  },
  {
   "cell_type": "code",
   "execution_count": 13,
   "id": "aae70fd8",
   "metadata": {},
   "outputs": [
    {
     "name": "stdout",
     "output_type": "stream",
     "text": [
      "\\begin{tabular}{lrr}\n",
      "\\toprule\n",
      "{} &  expanded-nodes &       time \\\\\n",
      "\\midrule\n",
      "0 &              53 &   0.755033 \\\\\n",
      "1 &            4812 &  67.741854 \\\\\n",
      "2 &              97 &   1.421339 \\\\\n",
      "3 &            1460 &  21.386039 \\\\\n",
      "4 &            5099 &  74.767006 \\\\\n",
      "5 &            4258 &  62.455686 \\\\\n",
      "\\bottomrule\n",
      "\\end{tabular}\n",
      "\n"
     ]
    }
   ],
   "source": [
    "print(df_min.to_latex())"
   ]
  },
  {
   "cell_type": "code",
   "execution_count": 14,
   "id": "44cb4d56",
   "metadata": {},
   "outputs": [
    {
     "name": "stdout",
     "output_type": "stream",
     "text": [
      "\\begin{tabular}{lrr}\n",
      "\\toprule\n",
      "{} &  expanded-nodes &      time \\\\\n",
      "\\midrule\n",
      "0 &               3 &  0.046549 \\\\\n",
      "1 &              45 &  0.699442 \\\\\n",
      "2 &               3 &  0.048728 \\\\\n",
      "3 &              63 &  0.949137 \\\\\n",
      "4 &              39 &  0.607914 \\\\\n",
      "5 &              37 &  0.573581 \\\\\n",
      "\\bottomrule\n",
      "\\end{tabular}\n",
      "\n"
     ]
    }
   ],
   "source": [
    "print(df_max.to_latex())"
   ]
  },
  {
   "cell_type": "code",
   "execution_count": 15,
   "id": "893df7ab",
   "metadata": {},
   "outputs": [
    {
     "name": "stdout",
     "output_type": "stream",
     "text": [
      "\\begin{tabular}{lrr}\n",
      "\\toprule\n",
      "{} &  expanded-nodes &        time \\\\\n",
      "\\midrule\n",
      "0 &               2 &    0.033037 \\\\\n",
      "1 &           24432 &  389.265682 \\\\\n",
      "2 &               2 &    0.032844 \\\\\n",
      "3 &              19 &    0.316695 \\\\\n",
      "4 &             682 &   10.497295 \\\\\n",
      "5 &               4 &    0.063975 \\\\\n",
      "\\bottomrule\n",
      "\\end{tabular}\n",
      "\n"
     ]
    }
   ],
   "source": [
    "print(df_sum.to_latex())"
   ]
  },
  {
   "cell_type": "code",
   "execution_count": 24,
   "id": "5781ab5a",
   "metadata": {},
   "outputs": [
    {
     "data": {
      "text/plain": [
       "(228.52695635200016, 2629.8333333333335)"
      ]
     },
     "execution_count": 24,
     "metadata": {},
     "output_type": "execute_result"
    }
   ],
   "source": [
    "(sum(df_min[\"time\"]),\n",
    "df_min[\"expanded-nodes\"].mean())"
   ]
  },
  {
   "cell_type": "code",
   "execution_count": 25,
   "id": "673e3948",
   "metadata": {},
   "outputs": [
    {
     "data": {
      "text/plain": [
       "(2.925351190000095, 31.666666666666668)"
      ]
     },
     "execution_count": 25,
     "metadata": {},
     "output_type": "execute_result"
    }
   ],
   "source": [
    "(sum(df_max[\"time\"]), df_max[\"expanded-nodes\"].mean())"
   ]
  },
  {
   "cell_type": "code",
   "execution_count": 26,
   "id": "3d5f9c34",
   "metadata": {},
   "outputs": [
    {
     "data": {
      "text/plain": [
       "(400.20952948900003, 4190.166666666667)"
      ]
     },
     "execution_count": 26,
     "metadata": {},
     "output_type": "execute_result"
    }
   ],
   "source": [
    "(sum(df_sum[\"time\"]), df_sum[\"expanded-nodes\"].mean())"
   ]
  },
  {
   "cell_type": "code",
   "execution_count": null,
   "id": "a74b8213",
   "metadata": {},
   "outputs": [],
   "source": []
  }
 ],
 "metadata": {
  "kernelspec": {
   "display_name": "Python 3 (ipykernel)",
   "language": "python",
   "name": "python3"
  },
  "language_info": {
   "codemirror_mode": {
    "name": "ipython",
    "version": 3
   },
   "file_extension": ".py",
   "mimetype": "text/x-python",
   "name": "python",
   "nbconvert_exporter": "python",
   "pygments_lexer": "ipython3",
   "version": "3.9.7"
  }
 },
 "nbformat": 4,
 "nbformat_minor": 5
}

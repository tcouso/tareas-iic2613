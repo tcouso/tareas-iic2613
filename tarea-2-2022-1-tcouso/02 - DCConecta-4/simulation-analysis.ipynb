{
 "cells": [
  {
   "cell_type": "code",
   "execution_count": 1,
   "id": "99fd9ebe",
   "metadata": {},
   "outputs": [],
   "source": [
    "import pandas as pd"
   ]
  },
  {
   "cell_type": "code",
   "execution_count": 51,
   "id": "4e13ccde",
   "metadata": {},
   "outputs": [],
   "source": [
    "df = pd.read_csv(\"100-simulations.csv\", index_col=0)"
   ]
  },
  {
   "cell_type": "code",
   "execution_count": 62,
   "id": "61c166eb",
   "metadata": {
    "scrolled": true
   },
   "outputs": [
    {
     "data": {
      "text/html": [
       "<div>\n",
       "<style scoped>\n",
       "    .dataframe tbody tr th:only-of-type {\n",
       "        vertical-align: middle;\n",
       "    }\n",
       "\n",
       "    .dataframe tbody tr th {\n",
       "        vertical-align: top;\n",
       "    }\n",
       "\n",
       "    .dataframe thead th {\n",
       "        text-align: right;\n",
       "    }\n",
       "</style>\n",
       "<table border=\"1\" class=\"dataframe\">\n",
       "  <thead>\n",
       "    <tr style=\"text-align: right;\">\n",
       "      <th></th>\n",
       "      <th>num-of-moves</th>\n",
       "      <th>x-mean-decision-time</th>\n",
       "      <th>x-classic-bombs</th>\n",
       "      <th>x-vertical-bombs</th>\n",
       "      <th>x-horizontal-bombs</th>\n",
       "      <th>o-mean-decision-time</th>\n",
       "      <th>o-classic-bombs</th>\n",
       "      <th>o-vertical-bombs</th>\n",
       "      <th>o-horizontal-bombs</th>\n",
       "    </tr>\n",
       "  </thead>\n",
       "  <tbody>\n",
       "    <tr>\n",
       "      <th>count</th>\n",
       "      <td>100.000000</td>\n",
       "      <td>100.000000</td>\n",
       "      <td>100.000000</td>\n",
       "      <td>100.00000</td>\n",
       "      <td>100.000000</td>\n",
       "      <td>100.000000</td>\n",
       "      <td>100.000000</td>\n",
       "      <td>100.00000</td>\n",
       "      <td>100.000000</td>\n",
       "    </tr>\n",
       "    <tr>\n",
       "      <th>mean</th>\n",
       "      <td>17.210000</td>\n",
       "      <td>0.108398</td>\n",
       "      <td>0.200000</td>\n",
       "      <td>0.21000</td>\n",
       "      <td>0.540000</td>\n",
       "      <td>0.101898</td>\n",
       "      <td>0.140000</td>\n",
       "      <td>0.30000</td>\n",
       "      <td>0.180000</td>\n",
       "    </tr>\n",
       "    <tr>\n",
       "      <th>std</th>\n",
       "      <td>1.225116</td>\n",
       "      <td>0.032520</td>\n",
       "      <td>0.402015</td>\n",
       "      <td>0.40936</td>\n",
       "      <td>0.610017</td>\n",
       "      <td>0.035389</td>\n",
       "      <td>0.348735</td>\n",
       "      <td>0.57735</td>\n",
       "      <td>0.386123</td>\n",
       "    </tr>\n",
       "    <tr>\n",
       "      <th>min</th>\n",
       "      <td>12.000000</td>\n",
       "      <td>0.081758</td>\n",
       "      <td>0.000000</td>\n",
       "      <td>0.00000</td>\n",
       "      <td>0.000000</td>\n",
       "      <td>0.063378</td>\n",
       "      <td>0.000000</td>\n",
       "      <td>0.00000</td>\n",
       "      <td>0.000000</td>\n",
       "    </tr>\n",
       "    <tr>\n",
       "      <th>25%</th>\n",
       "      <td>17.000000</td>\n",
       "      <td>0.094471</td>\n",
       "      <td>0.000000</td>\n",
       "      <td>0.00000</td>\n",
       "      <td>0.000000</td>\n",
       "      <td>0.080814</td>\n",
       "      <td>0.000000</td>\n",
       "      <td>0.00000</td>\n",
       "      <td>0.000000</td>\n",
       "    </tr>\n",
       "    <tr>\n",
       "      <th>50%</th>\n",
       "      <td>17.000000</td>\n",
       "      <td>0.103075</td>\n",
       "      <td>0.000000</td>\n",
       "      <td>0.00000</td>\n",
       "      <td>0.000000</td>\n",
       "      <td>0.098335</td>\n",
       "      <td>0.000000</td>\n",
       "      <td>0.00000</td>\n",
       "      <td>0.000000</td>\n",
       "    </tr>\n",
       "    <tr>\n",
       "      <th>75%</th>\n",
       "      <td>18.000000</td>\n",
       "      <td>0.114746</td>\n",
       "      <td>0.000000</td>\n",
       "      <td>0.00000</td>\n",
       "      <td>1.000000</td>\n",
       "      <td>0.110614</td>\n",
       "      <td>0.000000</td>\n",
       "      <td>0.00000</td>\n",
       "      <td>0.000000</td>\n",
       "    </tr>\n",
       "    <tr>\n",
       "      <th>max</th>\n",
       "      <td>20.000000</td>\n",
       "      <td>0.321306</td>\n",
       "      <td>1.000000</td>\n",
       "      <td>1.00000</td>\n",
       "      <td>2.000000</td>\n",
       "      <td>0.335410</td>\n",
       "      <td>1.000000</td>\n",
       "      <td>2.00000</td>\n",
       "      <td>1.000000</td>\n",
       "    </tr>\n",
       "  </tbody>\n",
       "</table>\n",
       "</div>"
      ],
      "text/plain": [
       "       num-of-moves  x-mean-decision-time  x-classic-bombs  x-vertical-bombs  \\\n",
       "count    100.000000            100.000000       100.000000         100.00000   \n",
       "mean      17.210000              0.108398         0.200000           0.21000   \n",
       "std        1.225116              0.032520         0.402015           0.40936   \n",
       "min       12.000000              0.081758         0.000000           0.00000   \n",
       "25%       17.000000              0.094471         0.000000           0.00000   \n",
       "50%       17.000000              0.103075         0.000000           0.00000   \n",
       "75%       18.000000              0.114746         0.000000           0.00000   \n",
       "max       20.000000              0.321306         1.000000           1.00000   \n",
       "\n",
       "       x-horizontal-bombs  o-mean-decision-time  o-classic-bombs  \\\n",
       "count          100.000000            100.000000       100.000000   \n",
       "mean             0.540000              0.101898         0.140000   \n",
       "std              0.610017              0.035389         0.348735   \n",
       "min              0.000000              0.063378         0.000000   \n",
       "25%              0.000000              0.080814         0.000000   \n",
       "50%              0.000000              0.098335         0.000000   \n",
       "75%              1.000000              0.110614         0.000000   \n",
       "max              2.000000              0.335410         1.000000   \n",
       "\n",
       "       o-vertical-bombs  o-horizontal-bombs  \n",
       "count         100.00000          100.000000  \n",
       "mean            0.30000            0.180000  \n",
       "std             0.57735            0.386123  \n",
       "min             0.00000            0.000000  \n",
       "25%             0.00000            0.000000  \n",
       "50%             0.00000            0.000000  \n",
       "75%             0.00000            0.000000  \n",
       "max             2.00000            1.000000  "
      ]
     },
     "execution_count": 62,
     "metadata": {},
     "output_type": "execute_result"
    }
   ],
   "source": [
    "df.describe()"
   ]
  },
  {
   "cell_type": "code",
   "execution_count": 50,
   "id": "5667e2d5",
   "metadata": {},
   "outputs": [
    {
     "data": {
      "text/html": [
       "<div>\n",
       "<style scoped>\n",
       "    .dataframe tbody tr th:only-of-type {\n",
       "        vertical-align: middle;\n",
       "    }\n",
       "\n",
       "    .dataframe tbody tr th {\n",
       "        vertical-align: top;\n",
       "    }\n",
       "\n",
       "    .dataframe thead th {\n",
       "        text-align: right;\n",
       "    }\n",
       "</style>\n",
       "<table border=\"1\" class=\"dataframe\">\n",
       "  <thead>\n",
       "    <tr style=\"text-align: right;\">\n",
       "      <th></th>\n",
       "      <th>winner</th>\n",
       "      <th>num-of-moves</th>\n",
       "      <th>x-mean-decision-time</th>\n",
       "      <th>x-classic-bombs</th>\n",
       "      <th>x-vertical-bombs</th>\n",
       "      <th>x-horizontal-bombs</th>\n",
       "      <th>o-mean-decision-time</th>\n",
       "      <th>o-classic-bombs</th>\n",
       "      <th>o-vertical-bombs</th>\n",
       "      <th>o-horizontal-bombs</th>\n",
       "    </tr>\n",
       "  </thead>\n",
       "  <tbody>\n",
       "  </tbody>\n",
       "</table>\n",
       "</div>"
      ],
      "text/plain": [
       "Empty DataFrame\n",
       "Columns: [winner, num-of-moves, x-mean-decision-time, x-classic-bombs, x-vertical-bombs, x-horizontal-bombs, o-mean-decision-time, o-classic-bombs, o-vertical-bombs, o-horizontal-bombs]\n",
       "Index: []"
      ]
     },
     "execution_count": 50,
     "metadata": {},
     "output_type": "execute_result"
    }
   ],
   "source": [
    "df[(df[\"winner\"] != \"X\") & (df[\"winner\"] != \"O\")]"
   ]
  },
  {
   "cell_type": "code",
   "execution_count": 39,
   "id": "9c1762a2",
   "metadata": {},
   "outputs": [
    {
     "data": {
      "text/plain": [
       "<AxesSubplot:title={'center':'Mean decision time'}>"
      ]
     },
     "execution_count": 39,
     "metadata": {},
     "output_type": "execute_result"
    },
    {
     "data": {
      "image/png": "[encoded data removed]",
      "text/plain": [
       "<Figure size 432x288 with 1 Axes>"
      ]
     },
     "metadata": {
      "needs_background": "light"
     },
     "output_type": "display_data"
    }
   ],
   "source": [
    "df[[\"x-mean-decision-time\", \"o-mean-decision-time\"]].plot(\n",
    "    kind=\"box\",\n",
    "    title=\"Mean decision time\"\n",
    ")"
   ]
  },
  {
   "cell_type": "code",
   "execution_count": 55,
   "id": "a04b3338",
   "metadata": {},
   "outputs": [],
   "source": [
    "o_wins = df[df[\"winner\"] == \"O\"]\n",
    "x_wins = df[df[\"winner\"] == \"X\"]"
   ]
  },
  {
   "cell_type": "code",
   "execution_count": 6,
   "id": "2faa1680",
   "metadata": {},
   "outputs": [
    {
     "data": {
      "text/plain": [
       "0.56"
      ]
     },
     "execution_count": 6,
     "metadata": {},
     "output_type": "execute_result"
    }
   ],
   "source": [
    "three_next_to_winning_rate = len(o_wins) / len(df)\n",
    "three_next_to_winning_rate"
   ]
  },
  {
   "cell_type": "code",
   "execution_count": 7,
   "id": "b7208015",
   "metadata": {},
   "outputs": [
    {
     "data": {
      "text/plain": [
       "0.44"
      ]
     },
     "execution_count": 7,
     "metadata": {},
     "output_type": "execute_result"
    }
   ],
   "source": [
    "two_next_to_winning_rate = len(x_wins) / len(df)\n",
    "two_next_to_winning_rate"
   ]
  },
  {
   "cell_type": "code",
   "execution_count": 83,
   "id": "6ff6c2d2",
   "metadata": {},
   "outputs": [
    {
     "data": {
      "text/plain": [
       "<AxesSubplot:title={'center':'Proporción de victorias para cada agente'}, ylabel='winner'>"
      ]
     },
     "execution_count": 83,
     "metadata": {},
     "output_type": "execute_result"
    },
    {
     "data": {
      "image/png": "[encoded data removed]",
      "text/plain": [
       "<Figure size 432x288 with 1 Axes>"
      ]
     },
     "metadata": {},
     "output_type": "display_data"
    }
   ],
   "source": [
    "df[\"winner\"].value_counts().plot.pie(title=\"Proporción de victorias para cada agente\")"
   ]
  },
  {
   "cell_type": "code",
   "execution_count": 8,
   "id": "d01fef8c",
   "metadata": {},
   "outputs": [
    {
     "data": {
      "text/plain": [
       "17.339285714285715"
      ]
     },
     "execution_count": 8,
     "metadata": {},
     "output_type": "execute_result"
    }
   ],
   "source": [
    "o_wins[\"num-of-moves\"].mean()"
   ]
  },
  {
   "cell_type": "code",
   "execution_count": 9,
   "id": "260ec668",
   "metadata": {},
   "outputs": [
    {
     "data": {
      "text/plain": [
       "17.045454545454547"
      ]
     },
     "execution_count": 9,
     "metadata": {},
     "output_type": "execute_result"
    }
   ],
   "source": [
    "x_wins[\"num-of-moves\"].mean()"
   ]
  },
  {
   "cell_type": "code",
   "execution_count": 37,
   "id": "b2d46f8b",
   "metadata": {},
   "outputs": [],
   "source": [
    "# Filter outliers\n",
    "o_wins = o_wins[(o_wins[\"x-mean-decision-time\"] <.15) & (o_wins[\"o-mean-decision-time\"] <.15)]\n"
   ]
  },
  {
   "cell_type": "code",
   "execution_count": 40,
   "id": "08d2e462",
   "metadata": {},
   "outputs": [
    {
     "data": {
      "text/plain": [
       "<AxesSubplot:title={'center':'O player wins \\nThree-next-to utility function'}>"
      ]
     },
     "execution_count": 40,
     "metadata": {},
     "output_type": "execute_result"
    },
    {
     "data": {
      "image/png": "[encoded data removed]",
      "text/plain": [
       "<Figure size 432x288 with 1 Axes>"
      ]
     },
     "metadata": {
      "needs_background": "light"
     },
     "output_type": "display_data"
    }
   ],
   "source": [
    "# decision times when three next to wins\n",
    "# o has three next to utility function\n",
    "\n",
    "o_wins[[\"x-mean-decision-time\", \"o-mean-decision-time\"]].plot(\n",
    "    kind=\"box\",\n",
    "    title=\"O player wins \\nThree-next-to utility function\"\n",
    ")"
   ]
  },
  {
   "cell_type": "code",
   "execution_count": 29,
   "id": "cb7bc83d",
   "metadata": {
    "scrolled": true
   },
   "outputs": [
    {
     "data": {
      "text/plain": [
       "x-mean-decision-time    0.114032\n",
       "o-mean-decision-time    0.113447\n",
       "dtype: float64"
      ]
     },
     "execution_count": 29,
     "metadata": {},
     "output_type": "execute_result"
    }
   ],
   "source": [
    "o_wins[[\"x-mean-decision-time\", \"o-mean-decision-time\"]].mean()"
   ]
  },
  {
   "cell_type": "code",
   "execution_count": 33,
   "id": "1a8e3f1b",
   "metadata": {},
   "outputs": [],
   "source": [
    "# Filter outliers\n",
    "x_wins = x_wins[(x_wins[\"x-mean-decision-time\"] <.25) & (x_wins[\"o-mean-decision-time\"] <.25)]"
   ]
  },
  {
   "cell_type": "code",
   "execution_count": 34,
   "id": "008bebb6",
   "metadata": {
    "scrolled": true
   },
   "outputs": [
    {
     "data": {
      "text/plain": [
       "<AxesSubplot:title={'center':'X player wins \\nTwo-next-to utility function'}>"
      ]
     },
     "execution_count": 34,
     "metadata": {},
     "output_type": "execute_result"
    },
    {
     "data": {
      "image/png": "[encoded data removed]",
      "text/plain": [
       "<Figure size 432x288 with 1 Axes>"
      ]
     },
     "metadata": {
      "needs_background": "light"
     },
     "output_type": "display_data"
    }
   ],
   "source": [
    "# decision times when two next to wins\n",
    "# x has two next to utility function\n",
    "\n",
    "x_wins[[\"x-mean-decision-time\", \"o-mean-decision-time\"]].plot(\n",
    "    kind=\"box\",\n",
    "    title=\"X player wins \\nTwo-next-to utility function\"\n",
    ")"
   ]
  },
  {
   "cell_type": "code",
   "execution_count": 56,
   "id": "bfb182a7",
   "metadata": {
    "scrolled": true
   },
   "outputs": [
    {
     "data": {
      "text/plain": [
       "x-mean-decision-time    0.101228\n",
       "o-mean-decision-time    0.087200\n",
       "dtype: float64"
      ]
     },
     "execution_count": 56,
     "metadata": {},
     "output_type": "execute_result"
    }
   ],
   "source": [
    "x_wins[[\"x-mean-decision-time\", \"o-mean-decision-time\"]].mean()"
   ]
  },
  {
   "cell_type": "code",
   "execution_count": 65,
   "id": "67441e63",
   "metadata": {
    "scrolled": true
   },
   "outputs": [
    {
     "data": {
      "text/plain": [
       "count    56.000000\n",
       "mean     17.339286\n",
       "std       1.443188\n",
       "min      12.000000\n",
       "25%      17.000000\n",
       "50%      17.000000\n",
       "75%      18.000000\n",
       "max      20.000000\n",
       "Name: num-of-moves, dtype: float64"
      ]
     },
     "execution_count": 65,
     "metadata": {},
     "output_type": "execute_result"
    }
   ],
   "source": [
    "o_wins[\"num-of-moves\"].describe()"
   ]
  },
  {
   "cell_type": "code",
   "execution_count": 67,
   "id": "3bb36b0f",
   "metadata": {
    "scrolled": true
   },
   "outputs": [
    {
     "data": {
      "text/plain": [
       "count    44.000000\n",
       "mean     17.045455\n",
       "std       0.861436\n",
       "min      15.000000\n",
       "25%      17.000000\n",
       "50%      17.000000\n",
       "75%      17.250000\n",
       "max      20.000000\n",
       "Name: num-of-moves, dtype: float64"
      ]
     },
     "execution_count": 67,
     "metadata": {},
     "output_type": "execute_result"
    }
   ],
   "source": [
    "x_wins[\"num-of-moves\"].describe()"
   ]
  },
  {
   "cell_type": "code",
   "execution_count": 72,
   "id": "6488af99",
   "metadata": {},
   "outputs": [
    {
     "data": {
      "text/plain": [
       "o-classic-bombs       0.250000\n",
       "o-vertical-bombs      0.517857\n",
       "o-horizontal-bombs    0.285714\n",
       "dtype: float64"
      ]
     },
     "execution_count": 72,
     "metadata": {},
     "output_type": "execute_result"
    }
   ],
   "source": [
    "o_wins[[\"o-classic-bombs\", \"o-vertical-bombs\", \"o-horizontal-bombs\"]].mean()"
   ]
  },
  {
   "cell_type": "code",
   "execution_count": 73,
   "id": "09b3d84e",
   "metadata": {},
   "outputs": [
    {
     "data": {
      "text/plain": [
       "o-classic-bombs       0.000000\n",
       "o-vertical-bombs      0.022727\n",
       "o-horizontal-bombs    0.045455\n",
       "dtype: float64"
      ]
     },
     "execution_count": 73,
     "metadata": {},
     "output_type": "execute_result"
    }
   ],
   "source": [
    "x_wins[[\"o-classic-bombs\", \"o-vertical-bombs\", \"o-horizontal-bombs\"]].mean()"
   ]
  },
  {
   "cell_type": "code",
   "execution_count": 84,
   "id": "7a0b29fa",
   "metadata": {},
   "outputs": [
    {
     "data": {
      "text/plain": [
       "x-classic-bombs       0.250000\n",
       "x-vertical-bombs      0.295455\n",
       "x-horizontal-bombs    1.090909\n",
       "dtype: float64"
      ]
     },
     "execution_count": 84,
     "metadata": {},
     "output_type": "execute_result"
    }
   ],
   "source": [
    "x_wins[[\"x-classic-bombs\", \"x-vertical-bombs\", \"x-horizontal-bombs\"]].mean()"
   ]
  },
  {
   "cell_type": "code",
   "execution_count": 85,
   "id": "530adef2",
   "metadata": {},
   "outputs": [
    {
     "data": {
      "text/plain": [
       "x-classic-bombs       0.160714\n",
       "x-vertical-bombs      0.142857\n",
       "x-horizontal-bombs    0.107143\n",
       "dtype: float64"
      ]
     },
     "execution_count": 85,
     "metadata": {},
     "output_type": "execute_result"
    }
   ],
   "source": [
    "o_wins[[\"x-classic-bombs\", \"x-vertical-bombs\", \"x-horizontal-bombs\"]].mean()"
   ]
  },
  {
   "cell_type": "code",
   "execution_count": null,
   "id": "4a7f217e",
   "metadata": {},
   "outputs": [],
   "source": []
  }
 ],
 "metadata": {
  "kernelspec": {
   "display_name": "Python 3 (ipykernel)",
   "language": "python",
   "name": "python3"
  },
  "language_info": {
   "codemirror_mode": {
    "name": "ipython",
    "version": 3
   },
   "file_extension": ".py",
   "mimetype": "text/x-python",
   "name": "python",
   "nbconvert_exporter": "python",
   "pygments_lexer": "ipython3",
   "version": "3.9.7"
  }
 },
 "nbformat": 4,
 "nbformat_minor": 5
}

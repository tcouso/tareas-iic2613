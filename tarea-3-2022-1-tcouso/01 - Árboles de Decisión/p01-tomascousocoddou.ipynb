{
 "cells": [
  {
   "cell_type": "markdown",
   "id": "015c8a31",
   "metadata": {},
   "source": [
    "# Pregunta 1 tarea 3: Tomás Couso Coddou"
   ]
  },
  {
   "cell_type": "code",
   "execution_count": 609,
   "id": "3e4e69b2",
   "metadata": {},
   "outputs": [],
   "source": [
    "import pandas as pd\n",
    "import numpy as np"
   ]
  },
  {
   "cell_type": "code",
   "execution_count": 610,
   "id": "aca94693",
   "metadata": {},
   "outputs": [],
   "source": [
    "n_alumno = 18211933"
   ]
  },
  {
   "cell_type": "code",
   "execution_count": 611,
   "id": "e2757dec",
   "metadata": {},
   "outputs": [],
   "source": [
    "np.random.seed(n_alumno)"
   ]
  },
  {
   "cell_type": "code",
   "execution_count": 612,
   "id": "0599e318",
   "metadata": {},
   "outputs": [],
   "source": [
    "# Import dataset\n",
    "df = pd.read_csv(\"data/bd_titanic.csv\", index_col=0)"
   ]
  },
  {
   "cell_type": "code",
   "execution_count": 613,
   "id": "155f844e",
   "metadata": {
    "scrolled": true
   },
   "outputs": [
    {
     "data": {
      "text/html": [
       "<div>\n",
       "<style scoped>\n",
       "    .dataframe tbody tr th:only-of-type {\n",
       "        vertical-align: middle;\n",
       "    }\n",
       "\n",
       "    .dataframe tbody tr th {\n",
       "        vertical-align: top;\n",
       "    }\n",
       "\n",
       "    .dataframe thead th {\n",
       "        text-align: right;\n",
       "    }\n",
       "</style>\n",
       "<table border=\"1\" class=\"dataframe\">\n",
       "  <thead>\n",
       "    <tr style=\"text-align: right;\">\n",
       "      <th></th>\n",
       "      <th>Name</th>\n",
       "      <th>Ticket</th>\n",
       "      <th>Embarked</th>\n",
       "      <th>Pclass</th>\n",
       "      <th>Sex</th>\n",
       "      <th>Age</th>\n",
       "      <th>SibSp</th>\n",
       "      <th>Parch</th>\n",
       "      <th>Fare</th>\n",
       "      <th>Survived</th>\n",
       "    </tr>\n",
       "    <tr>\n",
       "      <th>PassengerId</th>\n",
       "      <th></th>\n",
       "      <th></th>\n",
       "      <th></th>\n",
       "      <th></th>\n",
       "      <th></th>\n",
       "      <th></th>\n",
       "      <th></th>\n",
       "      <th></th>\n",
       "      <th></th>\n",
       "      <th></th>\n",
       "    </tr>\n",
       "  </thead>\n",
       "  <tbody>\n",
       "    <tr>\n",
       "      <th>1</th>\n",
       "      <td>Braund, Mr. Owen Harris</td>\n",
       "      <td>A/5 21171</td>\n",
       "      <td>S</td>\n",
       "      <td>3</td>\n",
       "      <td>male</td>\n",
       "      <td>22.0</td>\n",
       "      <td>1.0</td>\n",
       "      <td>0.0</td>\n",
       "      <td>7.2500</td>\n",
       "      <td>0.0</td>\n",
       "    </tr>\n",
       "    <tr>\n",
       "      <th>2</th>\n",
       "      <td>Cumings, Mrs. John Bradley (Florence Briggs Th...</td>\n",
       "      <td>PC 17599</td>\n",
       "      <td>C</td>\n",
       "      <td>1</td>\n",
       "      <td>female</td>\n",
       "      <td>38.0</td>\n",
       "      <td>1.0</td>\n",
       "      <td>0.0</td>\n",
       "      <td>71.2833</td>\n",
       "      <td>1.0</td>\n",
       "    </tr>\n",
       "    <tr>\n",
       "      <th>3</th>\n",
       "      <td>Heikkinen, Miss. Laina</td>\n",
       "      <td>STON/O2. 3101282</td>\n",
       "      <td>S</td>\n",
       "      <td>3</td>\n",
       "      <td>female</td>\n",
       "      <td>26.0</td>\n",
       "      <td>0.0</td>\n",
       "      <td>0.0</td>\n",
       "      <td>7.9250</td>\n",
       "      <td>1.0</td>\n",
       "    </tr>\n",
       "    <tr>\n",
       "      <th>4</th>\n",
       "      <td>Futrelle, Mrs. Jacques Heath (Lily May Peel)</td>\n",
       "      <td>113803</td>\n",
       "      <td>S</td>\n",
       "      <td>1</td>\n",
       "      <td>female</td>\n",
       "      <td>35.0</td>\n",
       "      <td>1.0</td>\n",
       "      <td>0.0</td>\n",
       "      <td>53.1000</td>\n",
       "      <td>1.0</td>\n",
       "    </tr>\n",
       "    <tr>\n",
       "      <th>5</th>\n",
       "      <td>Allen, Mr. William Henry</td>\n",
       "      <td>373450</td>\n",
       "      <td>S</td>\n",
       "      <td>3</td>\n",
       "      <td>male</td>\n",
       "      <td>35.0</td>\n",
       "      <td>0.0</td>\n",
       "      <td>0.0</td>\n",
       "      <td>8.0500</td>\n",
       "      <td>0.0</td>\n",
       "    </tr>\n",
       "  </tbody>\n",
       "</table>\n",
       "</div>"
      ],
      "text/plain": [
       "                                                          Name  \\\n",
       "PassengerId                                                      \n",
       "1                                      Braund, Mr. Owen Harris   \n",
       "2            Cumings, Mrs. John Bradley (Florence Briggs Th...   \n",
       "3                                       Heikkinen, Miss. Laina   \n",
       "4                 Futrelle, Mrs. Jacques Heath (Lily May Peel)   \n",
       "5                                     Allen, Mr. William Henry   \n",
       "\n",
       "                       Ticket Embarked  Pclass     Sex   Age  SibSp  Parch  \\\n",
       "PassengerId                                                                  \n",
       "1                   A/5 21171        S       3    male  22.0    1.0    0.0   \n",
       "2                    PC 17599        C       1  female  38.0    1.0    0.0   \n",
       "3            STON/O2. 3101282        S       3  female  26.0    0.0    0.0   \n",
       "4                      113803        S       1  female  35.0    1.0    0.0   \n",
       "5                      373450        S       3    male  35.0    0.0    0.0   \n",
       "\n",
       "                Fare  Survived  \n",
       "PassengerId                     \n",
       "1             7.2500       0.0  \n",
       "2            71.2833       1.0  \n",
       "3             7.9250       1.0  \n",
       "4            53.1000       1.0  \n",
       "5             8.0500       0.0  "
      ]
     },
     "execution_count": 613,
     "metadata": {},
     "output_type": "execute_result"
    }
   ],
   "source": [
    "df.head()"
   ]
  },
  {
   "cell_type": "code",
   "execution_count": 614,
   "id": "d5c0dddd",
   "metadata": {},
   "outputs": [
    {
     "data": {
      "text/plain": [
       "Name         object\n",
       "Ticket       object\n",
       "Embarked     object\n",
       "Pclass        int64\n",
       "Sex          object\n",
       "Age         float64\n",
       "SibSp       float64\n",
       "Parch       float64\n",
       "Fare        float64\n",
       "Survived    float64\n",
       "dtype: object"
      ]
     },
     "execution_count": 614,
     "metadata": {},
     "output_type": "execute_result"
    }
   ],
   "source": [
    "df.dtypes"
   ]
  },
  {
   "cell_type": "markdown",
   "id": "e3b95e36",
   "metadata": {},
   "source": [
    "# Actividad 1: Limpieza del set de datos"
   ]
  },
  {
   "cell_type": "code",
   "execution_count": 615,
   "id": "34c66614",
   "metadata": {
    "scrolled": true
   },
   "outputs": [
    {
     "data": {
      "text/html": [
       "<div>\n",
       "<style scoped>\n",
       "    .dataframe tbody tr th:only-of-type {\n",
       "        vertical-align: middle;\n",
       "    }\n",
       "\n",
       "    .dataframe tbody tr th {\n",
       "        vertical-align: top;\n",
       "    }\n",
       "\n",
       "    .dataframe thead th {\n",
       "        text-align: right;\n",
       "    }\n",
       "</style>\n",
       "<table border=\"1\" class=\"dataframe\">\n",
       "  <thead>\n",
       "    <tr style=\"text-align: right;\">\n",
       "      <th></th>\n",
       "      <th>Pclass</th>\n",
       "      <th>Age</th>\n",
       "      <th>SibSp</th>\n",
       "      <th>Parch</th>\n",
       "      <th>Fare</th>\n",
       "      <th>Survived</th>\n",
       "    </tr>\n",
       "  </thead>\n",
       "  <tbody>\n",
       "    <tr>\n",
       "      <th>count</th>\n",
       "      <td>891.000000</td>\n",
       "      <td>712.000000</td>\n",
       "      <td>888.000000</td>\n",
       "      <td>887.000000</td>\n",
       "      <td>889.000000</td>\n",
       "      <td>888.000000</td>\n",
       "    </tr>\n",
       "    <tr>\n",
       "      <th>mean</th>\n",
       "      <td>2.308642</td>\n",
       "      <td>29.675801</td>\n",
       "      <td>0.523649</td>\n",
       "      <td>0.382187</td>\n",
       "      <td>32.257845</td>\n",
       "      <td>0.382883</td>\n",
       "    </tr>\n",
       "    <tr>\n",
       "      <th>std</th>\n",
       "      <td>0.836071</td>\n",
       "      <td>14.523875</td>\n",
       "      <td>1.104211</td>\n",
       "      <td>0.807302</td>\n",
       "      <td>49.736433</td>\n",
       "      <td>0.486364</td>\n",
       "    </tr>\n",
       "    <tr>\n",
       "      <th>min</th>\n",
       "      <td>1.000000</td>\n",
       "      <td>0.420000</td>\n",
       "      <td>0.000000</td>\n",
       "      <td>0.000000</td>\n",
       "      <td>0.000000</td>\n",
       "      <td>0.000000</td>\n",
       "    </tr>\n",
       "    <tr>\n",
       "      <th>25%</th>\n",
       "      <td>2.000000</td>\n",
       "      <td>20.000000</td>\n",
       "      <td>0.000000</td>\n",
       "      <td>0.000000</td>\n",
       "      <td>7.925000</td>\n",
       "      <td>0.000000</td>\n",
       "    </tr>\n",
       "    <tr>\n",
       "      <th>50%</th>\n",
       "      <td>3.000000</td>\n",
       "      <td>28.000000</td>\n",
       "      <td>0.000000</td>\n",
       "      <td>0.000000</td>\n",
       "      <td>14.454200</td>\n",
       "      <td>0.000000</td>\n",
       "    </tr>\n",
       "    <tr>\n",
       "      <th>75%</th>\n",
       "      <td>3.000000</td>\n",
       "      <td>38.000000</td>\n",
       "      <td>1.000000</td>\n",
       "      <td>0.000000</td>\n",
       "      <td>31.000000</td>\n",
       "      <td>1.000000</td>\n",
       "    </tr>\n",
       "    <tr>\n",
       "      <th>max</th>\n",
       "      <td>3.000000</td>\n",
       "      <td>80.000000</td>\n",
       "      <td>8.000000</td>\n",
       "      <td>6.000000</td>\n",
       "      <td>512.329200</td>\n",
       "      <td>1.000000</td>\n",
       "    </tr>\n",
       "  </tbody>\n",
       "</table>\n",
       "</div>"
      ],
      "text/plain": [
       "           Pclass         Age       SibSp       Parch        Fare    Survived\n",
       "count  891.000000  712.000000  888.000000  887.000000  889.000000  888.000000\n",
       "mean     2.308642   29.675801    0.523649    0.382187   32.257845    0.382883\n",
       "std      0.836071   14.523875    1.104211    0.807302   49.736433    0.486364\n",
       "min      1.000000    0.420000    0.000000    0.000000    0.000000    0.000000\n",
       "25%      2.000000   20.000000    0.000000    0.000000    7.925000    0.000000\n",
       "50%      3.000000   28.000000    0.000000    0.000000   14.454200    0.000000\n",
       "75%      3.000000   38.000000    1.000000    0.000000   31.000000    1.000000\n",
       "max      3.000000   80.000000    8.000000    6.000000  512.329200    1.000000"
      ]
     },
     "execution_count": 615,
     "metadata": {},
     "output_type": "execute_result"
    }
   ],
   "source": [
    "df.describe()"
   ]
  },
  {
   "cell_type": "markdown",
   "id": "08bffdc6",
   "metadata": {},
   "source": [
    "## Tratamiento de datos nulos"
   ]
  },
  {
   "cell_type": "code",
   "execution_count": 616,
   "id": "2ed666d4",
   "metadata": {},
   "outputs": [],
   "source": [
    "# Instanciamos generador de datos aleatorios\n",
    "\n",
    "missing_data_gen = np.random.default_rng()"
   ]
  },
  {
   "cell_type": "code",
   "execution_count": 8,
   "id": "31191a86",
   "metadata": {},
   "outputs": [
    {
     "data": {
      "text/plain": [
       "Name         True\n",
       "Ticket       True\n",
       "Embarked     True\n",
       "Pclass      False\n",
       "Sex          True\n",
       "Age          True\n",
       "SibSp        True\n",
       "Parch        True\n",
       "Fare         True\n",
       "Survived     True\n",
       "dtype: bool"
      ]
     },
     "execution_count": 8,
     "metadata": {},
     "output_type": "execute_result"
    }
   ],
   "source": [
    "# Verificamos datos nulos\n",
    "df.isnull().any()"
   ]
  },
  {
   "cell_type": "code",
   "execution_count": 9,
   "id": "8272e79e",
   "metadata": {
    "scrolled": false
   },
   "outputs": [
    {
     "data": {
      "text/html": [
       "<div>\n",
       "<style scoped>\n",
       "    .dataframe tbody tr th:only-of-type {\n",
       "        vertical-align: middle;\n",
       "    }\n",
       "\n",
       "    .dataframe tbody tr th {\n",
       "        vertical-align: top;\n",
       "    }\n",
       "\n",
       "    .dataframe thead th {\n",
       "        text-align: right;\n",
       "    }\n",
       "</style>\n",
       "<table border=\"1\" class=\"dataframe\">\n",
       "  <thead>\n",
       "    <tr style=\"text-align: right;\">\n",
       "      <th></th>\n",
       "      <th>Name</th>\n",
       "      <th>Ticket</th>\n",
       "      <th>Embarked</th>\n",
       "      <th>Pclass</th>\n",
       "      <th>Sex</th>\n",
       "      <th>Age</th>\n",
       "      <th>SibSp</th>\n",
       "      <th>Parch</th>\n",
       "      <th>Fare</th>\n",
       "      <th>Survived</th>\n",
       "    </tr>\n",
       "    <tr>\n",
       "      <th>PassengerId</th>\n",
       "      <th></th>\n",
       "      <th></th>\n",
       "      <th></th>\n",
       "      <th></th>\n",
       "      <th></th>\n",
       "      <th></th>\n",
       "      <th></th>\n",
       "      <th></th>\n",
       "      <th></th>\n",
       "      <th></th>\n",
       "    </tr>\n",
       "  </thead>\n",
       "  <tbody>\n",
       "    <tr>\n",
       "      <th>62</th>\n",
       "      <td>Icard, Miss. Amelie</td>\n",
       "      <td>113572</td>\n",
       "      <td>NaN</td>\n",
       "      <td>1</td>\n",
       "      <td>female</td>\n",
       "      <td>38.0</td>\n",
       "      <td>0.0</td>\n",
       "      <td>0.0</td>\n",
       "      <td>80.0000</td>\n",
       "      <td>1.0</td>\n",
       "    </tr>\n",
       "    <tr>\n",
       "      <th>276</th>\n",
       "      <td>Andrews, Miss. Kornelia Theodosia</td>\n",
       "      <td>13502</td>\n",
       "      <td>NaN</td>\n",
       "      <td>1</td>\n",
       "      <td>female</td>\n",
       "      <td>63.0</td>\n",
       "      <td>1.0</td>\n",
       "      <td>0.0</td>\n",
       "      <td>77.9583</td>\n",
       "      <td>1.0</td>\n",
       "    </tr>\n",
       "    <tr>\n",
       "      <th>830</th>\n",
       "      <td>Stone, Mrs. George Nelson (Martha Evelyn)</td>\n",
       "      <td>113572</td>\n",
       "      <td>NaN</td>\n",
       "      <td>1</td>\n",
       "      <td>female</td>\n",
       "      <td>62.0</td>\n",
       "      <td>0.0</td>\n",
       "      <td>0.0</td>\n",
       "      <td>80.0000</td>\n",
       "      <td>1.0</td>\n",
       "    </tr>\n",
       "  </tbody>\n",
       "</table>\n",
       "</div>"
      ],
      "text/plain": [
       "                                                  Name  Ticket Embarked  \\\n",
       "PassengerId                                                               \n",
       "62                                 Icard, Miss. Amelie  113572      NaN   \n",
       "276                  Andrews, Miss. Kornelia Theodosia   13502      NaN   \n",
       "830          Stone, Mrs. George Nelson (Martha Evelyn)  113572      NaN   \n",
       "\n",
       "             Pclass     Sex   Age  SibSp  Parch     Fare  Survived  \n",
       "PassengerId                                                         \n",
       "62                1  female  38.0    0.0    0.0  80.0000       1.0  \n",
       "276               1  female  63.0    1.0    0.0  77.9583       1.0  \n",
       "830               1  female  62.0    0.0    0.0  80.0000       1.0  "
      ]
     },
     "execution_count": 9,
     "metadata": {},
     "output_type": "execute_result"
    }
   ],
   "source": [
    "df[df[\"Embarked\"].isnull()]"
   ]
  },
  {
   "cell_type": "markdown",
   "id": "711ef95c",
   "metadata": {},
   "source": [
    "Para el caso del puerto de embarque (y otras variables categóricas ausentes), se podría calcular la probabilidad de embarcarse en cada uno de los puertos existentes e introducir datos para los valores faltantes en base a dichas probabilidades. Sin embargo, por tratarse de una cantidad menor de casos, se optará por eliminar dichas instancias para evitar introducir ruido a los datos."
   ]
  },
  {
   "cell_type": "code",
   "execution_count": 12,
   "id": "c0ee7cc6",
   "metadata": {},
   "outputs": [],
   "source": [
    "null_embarked_indexes = df[df[\"Embarked\"].isnull()].index\n",
    "df.drop(index=null_embarked_indexes, inplace=True)"
   ]
  },
  {
   "cell_type": "code",
   "execution_count": 13,
   "id": "078f541b",
   "metadata": {
    "scrolled": true
   },
   "outputs": [
    {
     "data": {
      "text/html": [
       "<div>\n",
       "<style scoped>\n",
       "    .dataframe tbody tr th:only-of-type {\n",
       "        vertical-align: middle;\n",
       "    }\n",
       "\n",
       "    .dataframe tbody tr th {\n",
       "        vertical-align: top;\n",
       "    }\n",
       "\n",
       "    .dataframe thead th {\n",
       "        text-align: right;\n",
       "    }\n",
       "</style>\n",
       "<table border=\"1\" class=\"dataframe\">\n",
       "  <thead>\n",
       "    <tr style=\"text-align: right;\">\n",
       "      <th></th>\n",
       "      <th>Name</th>\n",
       "      <th>Ticket</th>\n",
       "      <th>Embarked</th>\n",
       "      <th>Pclass</th>\n",
       "      <th>Sex</th>\n",
       "      <th>Age</th>\n",
       "      <th>SibSp</th>\n",
       "      <th>Parch</th>\n",
       "      <th>Fare</th>\n",
       "      <th>Survived</th>\n",
       "    </tr>\n",
       "    <tr>\n",
       "      <th>PassengerId</th>\n",
       "      <th></th>\n",
       "      <th></th>\n",
       "      <th></th>\n",
       "      <th></th>\n",
       "      <th></th>\n",
       "      <th></th>\n",
       "      <th></th>\n",
       "      <th></th>\n",
       "      <th></th>\n",
       "      <th></th>\n",
       "    </tr>\n",
       "  </thead>\n",
       "  <tbody>\n",
       "    <tr>\n",
       "      <th>776</th>\n",
       "      <td>Myhrman, Mr. Pehr Fabian Oliver Malkolm</td>\n",
       "      <td>347078</td>\n",
       "      <td>S</td>\n",
       "      <td>3</td>\n",
       "      <td>NaN</td>\n",
       "      <td>18.0</td>\n",
       "      <td>0.0</td>\n",
       "      <td>0.0</td>\n",
       "      <td>7.75</td>\n",
       "      <td>0.0</td>\n",
       "    </tr>\n",
       "  </tbody>\n",
       "</table>\n",
       "</div>"
      ],
      "text/plain": [
       "                                                Name  Ticket Embarked  Pclass  \\\n",
       "PassengerId                                                                     \n",
       "776          Myhrman, Mr. Pehr Fabian Oliver Malkolm  347078        S       3   \n",
       "\n",
       "             Sex   Age  SibSp  Parch  Fare  Survived  \n",
       "PassengerId                                           \n",
       "776          NaN  18.0    0.0    0.0  7.75       0.0  "
      ]
     },
     "execution_count": 13,
     "metadata": {},
     "output_type": "execute_result"
    }
   ],
   "source": [
    "df[df[\"Sex\"].isnull()]"
   ]
  },
  {
   "cell_type": "markdown",
   "id": "eba6c2d2",
   "metadata": {},
   "source": [
    "Dado que el nombre de la instancia con sexo nulo tiene el prefijo 'Mr.', se asumirá que dicha persona es de sexo masculino"
   ]
  },
  {
   "cell_type": "code",
   "execution_count": 14,
   "id": "9c0491b2",
   "metadata": {},
   "outputs": [],
   "source": [
    "missing_sex_index = df[df[\"Sex\"].isnull()].index\n",
    "df.loc[missing_sex_index, \"Sex\"] = \"male\""
   ]
  },
  {
   "cell_type": "code",
   "execution_count": 15,
   "id": "fbd65431",
   "metadata": {
    "scrolled": true
   },
   "outputs": [
    {
     "data": {
      "text/html": [
       "<div>\n",
       "<style scoped>\n",
       "    .dataframe tbody tr th:only-of-type {\n",
       "        vertical-align: middle;\n",
       "    }\n",
       "\n",
       "    .dataframe tbody tr th {\n",
       "        vertical-align: top;\n",
       "    }\n",
       "\n",
       "    .dataframe thead th {\n",
       "        text-align: right;\n",
       "    }\n",
       "</style>\n",
       "<table border=\"1\" class=\"dataframe\">\n",
       "  <thead>\n",
       "    <tr style=\"text-align: right;\">\n",
       "      <th></th>\n",
       "      <th>Name</th>\n",
       "      <th>Ticket</th>\n",
       "      <th>Embarked</th>\n",
       "      <th>Pclass</th>\n",
       "      <th>Sex</th>\n",
       "      <th>Age</th>\n",
       "      <th>SibSp</th>\n",
       "      <th>Parch</th>\n",
       "      <th>Fare</th>\n",
       "      <th>Survived</th>\n",
       "    </tr>\n",
       "    <tr>\n",
       "      <th>PassengerId</th>\n",
       "      <th></th>\n",
       "      <th></th>\n",
       "      <th></th>\n",
       "      <th></th>\n",
       "      <th></th>\n",
       "      <th></th>\n",
       "      <th></th>\n",
       "      <th></th>\n",
       "      <th></th>\n",
       "      <th></th>\n",
       "    </tr>\n",
       "  </thead>\n",
       "  <tbody>\n",
       "    <tr>\n",
       "      <th>6</th>\n",
       "      <td>Moran, Mr. James</td>\n",
       "      <td>330877</td>\n",
       "      <td>Q</td>\n",
       "      <td>3</td>\n",
       "      <td>male</td>\n",
       "      <td>NaN</td>\n",
       "      <td>0.0</td>\n",
       "      <td>0.0</td>\n",
       "      <td>8.4583</td>\n",
       "      <td>0.0</td>\n",
       "    </tr>\n",
       "    <tr>\n",
       "      <th>18</th>\n",
       "      <td>Williams, Mr. Charles Eugene</td>\n",
       "      <td>244373</td>\n",
       "      <td>S</td>\n",
       "      <td>2</td>\n",
       "      <td>male</td>\n",
       "      <td>NaN</td>\n",
       "      <td>0.0</td>\n",
       "      <td>0.0</td>\n",
       "      <td>13.0000</td>\n",
       "      <td>1.0</td>\n",
       "    </tr>\n",
       "    <tr>\n",
       "      <th>20</th>\n",
       "      <td>Masselmani, Mrs. Fatima</td>\n",
       "      <td>2649</td>\n",
       "      <td>C</td>\n",
       "      <td>3</td>\n",
       "      <td>female</td>\n",
       "      <td>NaN</td>\n",
       "      <td>0.0</td>\n",
       "      <td>0.0</td>\n",
       "      <td>7.2250</td>\n",
       "      <td>1.0</td>\n",
       "    </tr>\n",
       "    <tr>\n",
       "      <th>27</th>\n",
       "      <td>Emir, Mr. Farred Chehab</td>\n",
       "      <td>2631</td>\n",
       "      <td>C</td>\n",
       "      <td>3</td>\n",
       "      <td>male</td>\n",
       "      <td>NaN</td>\n",
       "      <td>0.0</td>\n",
       "      <td>0.0</td>\n",
       "      <td>7.2250</td>\n",
       "      <td>0.0</td>\n",
       "    </tr>\n",
       "    <tr>\n",
       "      <th>29</th>\n",
       "      <td>O'Dwyer, Miss. Ellen \"Nellie\"</td>\n",
       "      <td>330959</td>\n",
       "      <td>Q</td>\n",
       "      <td>3</td>\n",
       "      <td>female</td>\n",
       "      <td>NaN</td>\n",
       "      <td>0.0</td>\n",
       "      <td>0.0</td>\n",
       "      <td>7.8792</td>\n",
       "      <td>1.0</td>\n",
       "    </tr>\n",
       "    <tr>\n",
       "      <th>...</th>\n",
       "      <td>...</td>\n",
       "      <td>...</td>\n",
       "      <td>...</td>\n",
       "      <td>...</td>\n",
       "      <td>...</td>\n",
       "      <td>...</td>\n",
       "      <td>...</td>\n",
       "      <td>...</td>\n",
       "      <td>...</td>\n",
       "      <td>...</td>\n",
       "    </tr>\n",
       "    <tr>\n",
       "      <th>860</th>\n",
       "      <td>Razi, Mr. Raihed</td>\n",
       "      <td>2629</td>\n",
       "      <td>C</td>\n",
       "      <td>3</td>\n",
       "      <td>male</td>\n",
       "      <td>NaN</td>\n",
       "      <td>0.0</td>\n",
       "      <td>0.0</td>\n",
       "      <td>7.2292</td>\n",
       "      <td>0.0</td>\n",
       "    </tr>\n",
       "    <tr>\n",
       "      <th>864</th>\n",
       "      <td>Sage, Miss. Dorothy Edith \"Dolly\"</td>\n",
       "      <td>CA. 2343</td>\n",
       "      <td>S</td>\n",
       "      <td>3</td>\n",
       "      <td>female</td>\n",
       "      <td>NaN</td>\n",
       "      <td>8.0</td>\n",
       "      <td>2.0</td>\n",
       "      <td>69.5500</td>\n",
       "      <td>0.0</td>\n",
       "    </tr>\n",
       "    <tr>\n",
       "      <th>869</th>\n",
       "      <td>van Melkebeke, Mr. Philemon</td>\n",
       "      <td>345777</td>\n",
       "      <td>S</td>\n",
       "      <td>3</td>\n",
       "      <td>male</td>\n",
       "      <td>NaN</td>\n",
       "      <td>0.0</td>\n",
       "      <td>0.0</td>\n",
       "      <td>9.5000</td>\n",
       "      <td>0.0</td>\n",
       "    </tr>\n",
       "    <tr>\n",
       "      <th>879</th>\n",
       "      <td>Laleff, Mr. Kristo</td>\n",
       "      <td>349217</td>\n",
       "      <td>S</td>\n",
       "      <td>3</td>\n",
       "      <td>male</td>\n",
       "      <td>NaN</td>\n",
       "      <td>0.0</td>\n",
       "      <td>0.0</td>\n",
       "      <td>7.8958</td>\n",
       "      <td>0.0</td>\n",
       "    </tr>\n",
       "    <tr>\n",
       "      <th>889</th>\n",
       "      <td>Johnston, Miss. Catherine Helen \"Carrie\"</td>\n",
       "      <td>W./C. 6607</td>\n",
       "      <td>S</td>\n",
       "      <td>3</td>\n",
       "      <td>female</td>\n",
       "      <td>NaN</td>\n",
       "      <td>1.0</td>\n",
       "      <td>2.0</td>\n",
       "      <td>23.4500</td>\n",
       "      <td>0.0</td>\n",
       "    </tr>\n",
       "  </tbody>\n",
       "</table>\n",
       "<p>179 rows × 10 columns</p>\n",
       "</div>"
      ],
      "text/plain": [
       "                                                 Name      Ticket Embarked  \\\n",
       "PassengerId                                                                  \n",
       "6                                    Moran, Mr. James      330877        Q   \n",
       "18                       Williams, Mr. Charles Eugene      244373        S   \n",
       "20                            Masselmani, Mrs. Fatima        2649        C   \n",
       "27                            Emir, Mr. Farred Chehab        2631        C   \n",
       "29                      O'Dwyer, Miss. Ellen \"Nellie\"      330959        Q   \n",
       "...                                               ...         ...      ...   \n",
       "860                                  Razi, Mr. Raihed        2629        C   \n",
       "864                 Sage, Miss. Dorothy Edith \"Dolly\"    CA. 2343        S   \n",
       "869                       van Melkebeke, Mr. Philemon      345777        S   \n",
       "879                                Laleff, Mr. Kristo      349217        S   \n",
       "889          Johnston, Miss. Catherine Helen \"Carrie\"  W./C. 6607        S   \n",
       "\n",
       "             Pclass     Sex  Age  SibSp  Parch     Fare  Survived  \n",
       "PassengerId                                                        \n",
       "6                 3    male  NaN    0.0    0.0   8.4583       0.0  \n",
       "18                2    male  NaN    0.0    0.0  13.0000       1.0  \n",
       "20                3  female  NaN    0.0    0.0   7.2250       1.0  \n",
       "27                3    male  NaN    0.0    0.0   7.2250       0.0  \n",
       "29                3  female  NaN    0.0    0.0   7.8792       1.0  \n",
       "...             ...     ...  ...    ...    ...      ...       ...  \n",
       "860               3    male  NaN    0.0    0.0   7.2292       0.0  \n",
       "864               3  female  NaN    8.0    2.0  69.5500       0.0  \n",
       "869               3    male  NaN    0.0    0.0   9.5000       0.0  \n",
       "879               3    male  NaN    0.0    0.0   7.8958       0.0  \n",
       "889               3  female  NaN    1.0    2.0  23.4500       0.0  \n",
       "\n",
       "[179 rows x 10 columns]"
      ]
     },
     "execution_count": 15,
     "metadata": {},
     "output_type": "execute_result"
    }
   ],
   "source": [
    "df[df[\"Age\"].isnull()]"
   ]
  },
  {
   "cell_type": "markdown",
   "id": "f6b30100",
   "metadata": {},
   "source": [
    "A diferencia de lo observado para el atributo de puerto de embarque, el atributo de edad tiene una cantidad considerable de datos nulos, de modo que se introducirán datos para evitar perder información. Para efectos de introducir datos sintéticos a la edad de los pasajeros, se obtendrá las distribuciones de la edad para variables categóricas fijas. Por mantener la simplicidad del análisis, y debido a la ausencia de datos nulos para dicha variable, se obtendrán las distribuciones de la edad para valores fijos del atributo \"Sexo\". De tal modo, se calcularán dos distribuciones de edad, una para el valor \"male\", otra para el valor \"female\"."
   ]
  },
  {
   "cell_type": "markdown",
   "id": "33467567",
   "metadata": {},
   "source": [
    "Como primer paso para determinar la distribución adecuada para la edad de pasajeros hombres y mujeres, primero se inspeccionará visualmente la distribución de dichas variables"
   ]
  },
  {
   "cell_type": "code",
   "execution_count": 16,
   "id": "1555c10c",
   "metadata": {
    "scrolled": true
   },
   "outputs": [
    {
     "data": {
      "text/plain": [
       "(54, 10)"
      ]
     },
     "execution_count": 16,
     "metadata": {},
     "output_type": "execute_result"
    }
   ],
   "source": [
    "df[(df[\"Age\"].isnull()) & (df[\"Sex\"] == \"female\")].shape"
   ]
  },
  {
   "cell_type": "code",
   "execution_count": 17,
   "id": "dec84903",
   "metadata": {
    "scrolled": true
   },
   "outputs": [
    {
     "data": {
      "text/plain": [
       "<AxesSubplot:title={'center':'Edad de pasajeras de sexo femenino'}, ylabel='Density'>"
      ]
     },
     "execution_count": 17,
     "metadata": {},
     "output_type": "execute_result"
    },
    {
     "data": {
      "image/png": "[encoded data removed]",
      "text/plain": [
       "<Figure size 432x288 with 1 Axes>"
      ]
     },
     "metadata": {
      "needs_background": "light"
     },
     "output_type": "display_data"
    }
   ],
   "source": [
    "# Edad en mujeres\n",
    "\n",
    "df[df[\"Sex\"] == \"female\"][\"Age\"].plot.density(\n",
    "    title=\"Edad de pasajeras de sexo femenino\"\n",
    ")"
   ]
  },
  {
   "cell_type": "code",
   "execution_count": 18,
   "id": "ba099823",
   "metadata": {},
   "outputs": [
    {
     "data": {
      "text/plain": [
       "(125, 10)"
      ]
     },
     "execution_count": 18,
     "metadata": {},
     "output_type": "execute_result"
    }
   ],
   "source": [
    "df[(df[\"Age\"].isnull()) & (df[\"Sex\"] == \"male\")].shape"
   ]
  },
  {
   "cell_type": "code",
   "execution_count": 19,
   "id": "fe95c86f",
   "metadata": {
    "scrolled": true
   },
   "outputs": [
    {
     "data": {
      "text/plain": [
       "<AxesSubplot:title={'center':'Edad de pasajeros de sexo masculino'}, ylabel='Density'>"
      ]
     },
     "execution_count": 19,
     "metadata": {},
     "output_type": "execute_result"
    },
    {
     "data": {
      "image/png": "[encoded data removed]",
      "text/plain": [
       "<Figure size 432x288 with 1 Axes>"
      ]
     },
     "metadata": {
      "needs_background": "light"
     },
     "output_type": "display_data"
    }
   ],
   "source": [
    "# Edad en hombre\n",
    "\n",
    "df[df[\"Sex\"] == \"male\"][\"Age\"].plot.density(\n",
    "    title=\"Edad de pasajeros de sexo masculino\"\n",
    ")"
   ]
  },
  {
   "cell_type": "markdown",
   "id": "a2504449",
   "metadata": {},
   "source": [
    "En base a la forma acampanada y simétrica de ambas distribuciones, se asumirá como supuesto que la edad distribuye normal para ambos sexos. Por lo tanto, los datos sintéticos seran generados mediante distribuciones normales."
   ]
  },
  {
   "cell_type": "code",
   "execution_count": 20,
   "id": "b56ac12b",
   "metadata": {},
   "outputs": [],
   "source": [
    "# Parametros edad\n",
    "\n",
    "mu_male = df[df[\"Sex\"] == \"male\"][\"Age\"].mean()\n",
    "sigma_male = df[df[\"Sex\"] == \"male\"][\"Age\"].std()\n",
    "\n",
    "mu_female = df[df[\"Sex\"] == \"female\"][\"Age\"].mean()\n",
    "sigma_female = df[df[\"Sex\"] == \"female\"][\"Age\"].std()"
   ]
  },
  {
   "cell_type": "code",
   "execution_count": 21,
   "id": "fa48bb0b",
   "metadata": {},
   "outputs": [],
   "source": [
    "# Generamos el conjunto de datos\n",
    "\n",
    "\n",
    "# Hombres\n",
    "\n",
    "null_age_male_indexes = df[(df[\"Age\"].isnull()) & (df[\"Sex\"] == \"male\")].index\n",
    "n_missing_age_male = len(df[(df[\"Age\"].isnull()) & (df[\"Sex\"] == \"male\")])\n",
    "\n",
    "missing_male_age = missing_data_gen.normal(\n",
    "    loc=mu_male, \n",
    "    scale=sigma_male, \n",
    "    size=n_missing_age_male)\n",
    "\n",
    "missing_male_age_series = pd.Series(\n",
    "    data=missing_male_age, \n",
    "    index=null_age_male_indexes, \n",
    "    dtype=np.float64)"
   ]
  },
  {
   "cell_type": "code",
   "execution_count": 22,
   "id": "ee38152d",
   "metadata": {},
   "outputs": [],
   "source": [
    "# Generamos el conjunto de datos\n",
    "\n",
    "\n",
    "# Mujeres\n",
    "\n",
    "null_age_female_indexes = df[(df[\"Age\"].isnull()) & (df[\"Sex\"] == \"female\")].index\n",
    "n_missing_age_female = len(df[(df[\"Age\"].isnull()) & (df[\"Sex\"] == \"female\")])\n",
    "\n",
    "missing_female_age = missing_data_gen.normal(\n",
    "    loc=mu_female, \n",
    "    scale=sigma_female, \n",
    "    size=n_missing_age_female)\n",
    "\n",
    "missing_female_age_series = pd.Series(\n",
    "    data=missing_female_age, \n",
    "    index=null_age_female_indexes, \n",
    "    dtype=np.float64)"
   ]
  },
  {
   "cell_type": "code",
   "execution_count": 23,
   "id": "e0ee02b9",
   "metadata": {},
   "outputs": [],
   "source": [
    "# Asignamos los datos generados a las intancias correspondientes\n",
    "# Como los datos generados por una normal pueden (con baja probabilidad)\n",
    "# ser negativos, se tomará el valor absoluto de dichos valores\n",
    "\n",
    "df[\"Age\"].fillna(missing_female_age_series.apply(abs), inplace=True)\n",
    "df[\"Age\"].fillna(missing_male_age_series.apply(abs), inplace=True)"
   ]
  },
  {
   "cell_type": "code",
   "execution_count": 24,
   "id": "4c50eea5",
   "metadata": {
    "scrolled": true
   },
   "outputs": [
    {
     "data": {
      "text/html": [
       "<div>\n",
       "<style scoped>\n",
       "    .dataframe tbody tr th:only-of-type {\n",
       "        vertical-align: middle;\n",
       "    }\n",
       "\n",
       "    .dataframe tbody tr th {\n",
       "        vertical-align: top;\n",
       "    }\n",
       "\n",
       "    .dataframe thead th {\n",
       "        text-align: right;\n",
       "    }\n",
       "</style>\n",
       "<table border=\"1\" class=\"dataframe\">\n",
       "  <thead>\n",
       "    <tr style=\"text-align: right;\">\n",
       "      <th></th>\n",
       "      <th>Name</th>\n",
       "      <th>Ticket</th>\n",
       "      <th>Embarked</th>\n",
       "      <th>Pclass</th>\n",
       "      <th>Sex</th>\n",
       "      <th>Age</th>\n",
       "      <th>SibSp</th>\n",
       "      <th>Parch</th>\n",
       "      <th>Fare</th>\n",
       "      <th>Survived</th>\n",
       "    </tr>\n",
       "    <tr>\n",
       "      <th>PassengerId</th>\n",
       "      <th></th>\n",
       "      <th></th>\n",
       "      <th></th>\n",
       "      <th></th>\n",
       "      <th></th>\n",
       "      <th></th>\n",
       "      <th></th>\n",
       "      <th></th>\n",
       "      <th></th>\n",
       "      <th></th>\n",
       "    </tr>\n",
       "  </thead>\n",
       "  <tbody>\n",
       "    <tr>\n",
       "      <th>379</th>\n",
       "      <td>Betros, Mr. Tannous</td>\n",
       "      <td>2648</td>\n",
       "      <td>C</td>\n",
       "      <td>3</td>\n",
       "      <td>male</td>\n",
       "      <td>20.0</td>\n",
       "      <td>NaN</td>\n",
       "      <td>0.0</td>\n",
       "      <td>4.0125</td>\n",
       "      <td>0.0</td>\n",
       "    </tr>\n",
       "    <tr>\n",
       "      <th>451</th>\n",
       "      <td>West, Mr. Edwy Arthur</td>\n",
       "      <td>C.A. 34651</td>\n",
       "      <td>S</td>\n",
       "      <td>2</td>\n",
       "      <td>male</td>\n",
       "      <td>36.0</td>\n",
       "      <td>NaN</td>\n",
       "      <td>2.0</td>\n",
       "      <td>27.7500</td>\n",
       "      <td>0.0</td>\n",
       "    </tr>\n",
       "    <tr>\n",
       "      <th>700</th>\n",
       "      <td>Humblen, Mr. Adolf Mathias Nicolai Olsen</td>\n",
       "      <td>348121</td>\n",
       "      <td>S</td>\n",
       "      <td>3</td>\n",
       "      <td>male</td>\n",
       "      <td>42.0</td>\n",
       "      <td>NaN</td>\n",
       "      <td>0.0</td>\n",
       "      <td>7.6500</td>\n",
       "      <td>0.0</td>\n",
       "    </tr>\n",
       "  </tbody>\n",
       "</table>\n",
       "</div>"
      ],
      "text/plain": [
       "                                                 Name      Ticket Embarked  \\\n",
       "PassengerId                                                                  \n",
       "379                               Betros, Mr. Tannous        2648        C   \n",
       "451                             West, Mr. Edwy Arthur  C.A. 34651        S   \n",
       "700          Humblen, Mr. Adolf Mathias Nicolai Olsen      348121        S   \n",
       "\n",
       "             Pclass   Sex   Age  SibSp  Parch     Fare  Survived  \n",
       "PassengerId                                                       \n",
       "379               3  male  20.0    NaN    0.0   4.0125       0.0  \n",
       "451               2  male  36.0    NaN    2.0  27.7500       0.0  \n",
       "700               3  male  42.0    NaN    0.0   7.6500       0.0  "
      ]
     },
     "execution_count": 24,
     "metadata": {},
     "output_type": "execute_result"
    }
   ],
   "source": [
    "df[df[\"SibSp\"].isnull()]"
   ]
  },
  {
   "cell_type": "code",
   "execution_count": 25,
   "id": "43aa0056",
   "metadata": {},
   "outputs": [],
   "source": [
    "null_sibsp_indexes =df[df[\"SibSp\"].isnull()].index\n",
    "df.drop(index=null_sibsp_indexes, inplace=True)"
   ]
  },
  {
   "cell_type": "markdown",
   "id": "9cc2cb69",
   "metadata": {},
   "source": [
    "Como se trata de pocos casos donde falta información sobre heramos y cóyuges, se descartarán dichas instancias."
   ]
  },
  {
   "cell_type": "code",
   "execution_count": 26,
   "id": "68cf0ea7",
   "metadata": {
    "scrolled": false
   },
   "outputs": [
    {
     "data": {
      "text/html": [
       "<div>\n",
       "<style scoped>\n",
       "    .dataframe tbody tr th:only-of-type {\n",
       "        vertical-align: middle;\n",
       "    }\n",
       "\n",
       "    .dataframe tbody tr th {\n",
       "        vertical-align: top;\n",
       "    }\n",
       "\n",
       "    .dataframe thead th {\n",
       "        text-align: right;\n",
       "    }\n",
       "</style>\n",
       "<table border=\"1\" class=\"dataframe\">\n",
       "  <thead>\n",
       "    <tr style=\"text-align: right;\">\n",
       "      <th></th>\n",
       "      <th>Name</th>\n",
       "      <th>Ticket</th>\n",
       "      <th>Embarked</th>\n",
       "      <th>Pclass</th>\n",
       "      <th>Sex</th>\n",
       "      <th>Age</th>\n",
       "      <th>SibSp</th>\n",
       "      <th>Parch</th>\n",
       "      <th>Fare</th>\n",
       "      <th>Survived</th>\n",
       "    </tr>\n",
       "    <tr>\n",
       "      <th>PassengerId</th>\n",
       "      <th></th>\n",
       "      <th></th>\n",
       "      <th></th>\n",
       "      <th></th>\n",
       "      <th></th>\n",
       "      <th></th>\n",
       "      <th></th>\n",
       "      <th></th>\n",
       "      <th></th>\n",
       "      <th></th>\n",
       "    </tr>\n",
       "  </thead>\n",
       "  <tbody>\n",
       "    <tr>\n",
       "      <th>172</th>\n",
       "      <td>Rice, Master. Arthur</td>\n",
       "      <td>382652</td>\n",
       "      <td>Q</td>\n",
       "      <td>3</td>\n",
       "      <td>male</td>\n",
       "      <td>4.000000</td>\n",
       "      <td>4.0</td>\n",
       "      <td>NaN</td>\n",
       "      <td>29.1250</td>\n",
       "      <td>0.0</td>\n",
       "    </tr>\n",
       "    <tr>\n",
       "      <th>190</th>\n",
       "      <td>Turcin, Mr. Stjepan</td>\n",
       "      <td>349247</td>\n",
       "      <td>S</td>\n",
       "      <td>3</td>\n",
       "      <td>male</td>\n",
       "      <td>36.000000</td>\n",
       "      <td>0.0</td>\n",
       "      <td>NaN</td>\n",
       "      <td>7.8958</td>\n",
       "      <td>0.0</td>\n",
       "    </tr>\n",
       "    <tr>\n",
       "      <th>440</th>\n",
       "      <td>Kvillner, Mr. Johan Henrik Johannesson</td>\n",
       "      <td>C.A. 18723</td>\n",
       "      <td>S</td>\n",
       "      <td>2</td>\n",
       "      <td>male</td>\n",
       "      <td>31.000000</td>\n",
       "      <td>0.0</td>\n",
       "      <td>NaN</td>\n",
       "      <td>10.5000</td>\n",
       "      <td>0.0</td>\n",
       "    </tr>\n",
       "    <tr>\n",
       "      <th>602</th>\n",
       "      <td>Slabenoff, Mr. Petco</td>\n",
       "      <td>349214</td>\n",
       "      <td>S</td>\n",
       "      <td>3</td>\n",
       "      <td>male</td>\n",
       "      <td>50.214237</td>\n",
       "      <td>0.0</td>\n",
       "      <td>NaN</td>\n",
       "      <td>7.8958</td>\n",
       "      <td>0.0</td>\n",
       "    </tr>\n",
       "  </tbody>\n",
       "</table>\n",
       "</div>"
      ],
      "text/plain": [
       "                                               Name      Ticket Embarked  \\\n",
       "PassengerId                                                                \n",
       "172                            Rice, Master. Arthur      382652        Q   \n",
       "190                             Turcin, Mr. Stjepan      349247        S   \n",
       "440          Kvillner, Mr. Johan Henrik Johannesson  C.A. 18723        S   \n",
       "602                            Slabenoff, Mr. Petco      349214        S   \n",
       "\n",
       "             Pclass   Sex        Age  SibSp  Parch     Fare  Survived  \n",
       "PassengerId                                                            \n",
       "172               3  male   4.000000    4.0    NaN  29.1250       0.0  \n",
       "190               3  male  36.000000    0.0    NaN   7.8958       0.0  \n",
       "440               2  male  31.000000    0.0    NaN  10.5000       0.0  \n",
       "602               3  male  50.214237    0.0    NaN   7.8958       0.0  "
      ]
     },
     "execution_count": 26,
     "metadata": {},
     "output_type": "execute_result"
    }
   ],
   "source": [
    "df[df[\"Parch\"].isnull()]"
   ]
  },
  {
   "cell_type": "code",
   "execution_count": 27,
   "id": "011e2391",
   "metadata": {},
   "outputs": [],
   "source": [
    "null_parch_indexes = df[df[\"Parch\"].isnull()].index\n",
    "df.drop(index=null_parch_indexes, inplace=True)"
   ]
  },
  {
   "cell_type": "markdown",
   "id": "aee0cca5",
   "metadata": {},
   "source": [
    "Se descartan las instancias donde falta inforación sobre padre e hijos."
   ]
  },
  {
   "cell_type": "code",
   "execution_count": 28,
   "id": "d3d26d3c",
   "metadata": {
    "scrolled": true
   },
   "outputs": [
    {
     "data": {
      "text/html": [
       "<div>\n",
       "<style scoped>\n",
       "    .dataframe tbody tr th:only-of-type {\n",
       "        vertical-align: middle;\n",
       "    }\n",
       "\n",
       "    .dataframe tbody tr th {\n",
       "        vertical-align: top;\n",
       "    }\n",
       "\n",
       "    .dataframe thead th {\n",
       "        text-align: right;\n",
       "    }\n",
       "</style>\n",
       "<table border=\"1\" class=\"dataframe\">\n",
       "  <thead>\n",
       "    <tr style=\"text-align: right;\">\n",
       "      <th></th>\n",
       "      <th>Name</th>\n",
       "      <th>Ticket</th>\n",
       "      <th>Embarked</th>\n",
       "      <th>Pclass</th>\n",
       "      <th>Sex</th>\n",
       "      <th>Age</th>\n",
       "      <th>SibSp</th>\n",
       "      <th>Parch</th>\n",
       "      <th>Fare</th>\n",
       "      <th>Survived</th>\n",
       "    </tr>\n",
       "    <tr>\n",
       "      <th>PassengerId</th>\n",
       "      <th></th>\n",
       "      <th></th>\n",
       "      <th></th>\n",
       "      <th></th>\n",
       "      <th></th>\n",
       "      <th></th>\n",
       "      <th></th>\n",
       "      <th></th>\n",
       "      <th></th>\n",
       "      <th></th>\n",
       "    </tr>\n",
       "  </thead>\n",
       "  <tbody>\n",
       "    <tr>\n",
       "      <th>41</th>\n",
       "      <td>Ahlin, Mrs. Johan (Johanna Persdotter Larsson)</td>\n",
       "      <td>7546</td>\n",
       "      <td>S</td>\n",
       "      <td>3</td>\n",
       "      <td>female</td>\n",
       "      <td>40.0</td>\n",
       "      <td>1.0</td>\n",
       "      <td>0.0</td>\n",
       "      <td>NaN</td>\n",
       "      <td>0.0</td>\n",
       "    </tr>\n",
       "    <tr>\n",
       "      <th>593</th>\n",
       "      <td>Elsbury, Mr. William James</td>\n",
       "      <td>A/5 3902</td>\n",
       "      <td>S</td>\n",
       "      <td>3</td>\n",
       "      <td>male</td>\n",
       "      <td>47.0</td>\n",
       "      <td>0.0</td>\n",
       "      <td>0.0</td>\n",
       "      <td>NaN</td>\n",
       "      <td>0.0</td>\n",
       "    </tr>\n",
       "  </tbody>\n",
       "</table>\n",
       "</div>"
      ],
      "text/plain": [
       "                                                       Name    Ticket  \\\n",
       "PassengerId                                                             \n",
       "41           Ahlin, Mrs. Johan (Johanna Persdotter Larsson)      7546   \n",
       "593                              Elsbury, Mr. William James  A/5 3902   \n",
       "\n",
       "            Embarked  Pclass     Sex   Age  SibSp  Parch  Fare  Survived  \n",
       "PassengerId                                                               \n",
       "41                 S       3  female  40.0    1.0    0.0   NaN       0.0  \n",
       "593                S       3    male  47.0    0.0    0.0   NaN       0.0  "
      ]
     },
     "execution_count": 28,
     "metadata": {},
     "output_type": "execute_result"
    }
   ],
   "source": [
    "df[df[\"Fare\"].isnull()]"
   ]
  },
  {
   "cell_type": "code",
   "execution_count": 29,
   "id": "55f1d4f3",
   "metadata": {},
   "outputs": [],
   "source": [
    "null_fare_indexes = df[df[\"Fare\"].isnull()].index\n",
    "df.drop(index=null_fare_indexes, inplace=True)"
   ]
  },
  {
   "cell_type": "markdown",
   "id": "c684c387",
   "metadata": {},
   "source": [
    "Se descartan las instancias donde falta información sobre el precio pagado por los pasajes."
   ]
  },
  {
   "cell_type": "code",
   "execution_count": 30,
   "id": "047f4dd1",
   "metadata": {
    "scrolled": false
   },
   "outputs": [
    {
     "data": {
      "text/html": [
       "<div>\n",
       "<style scoped>\n",
       "    .dataframe tbody tr th:only-of-type {\n",
       "        vertical-align: middle;\n",
       "    }\n",
       "\n",
       "    .dataframe tbody tr th {\n",
       "        vertical-align: top;\n",
       "    }\n",
       "\n",
       "    .dataframe thead th {\n",
       "        text-align: right;\n",
       "    }\n",
       "</style>\n",
       "<table border=\"1\" class=\"dataframe\">\n",
       "  <thead>\n",
       "    <tr style=\"text-align: right;\">\n",
       "      <th></th>\n",
       "      <th>Name</th>\n",
       "      <th>Ticket</th>\n",
       "      <th>Embarked</th>\n",
       "      <th>Pclass</th>\n",
       "      <th>Sex</th>\n",
       "      <th>Age</th>\n",
       "      <th>SibSp</th>\n",
       "      <th>Parch</th>\n",
       "      <th>Fare</th>\n",
       "      <th>Survived</th>\n",
       "    </tr>\n",
       "    <tr>\n",
       "      <th>PassengerId</th>\n",
       "      <th></th>\n",
       "      <th></th>\n",
       "      <th></th>\n",
       "      <th></th>\n",
       "      <th></th>\n",
       "      <th></th>\n",
       "      <th></th>\n",
       "      <th></th>\n",
       "      <th></th>\n",
       "      <th></th>\n",
       "    </tr>\n",
       "  </thead>\n",
       "  <tbody>\n",
       "    <tr>\n",
       "      <th>73</th>\n",
       "      <td>Hood, Mr. Ambrose Jr</td>\n",
       "      <td>S.O.C. 14879</td>\n",
       "      <td>S</td>\n",
       "      <td>2</td>\n",
       "      <td>male</td>\n",
       "      <td>21.0</td>\n",
       "      <td>0.0</td>\n",
       "      <td>0.0</td>\n",
       "      <td>73.500</td>\n",
       "      <td>NaN</td>\n",
       "    </tr>\n",
       "    <tr>\n",
       "      <th>717</th>\n",
       "      <td>Endres, Miss. Caroline Louise</td>\n",
       "      <td>PC 17757</td>\n",
       "      <td>C</td>\n",
       "      <td>1</td>\n",
       "      <td>female</td>\n",
       "      <td>38.0</td>\n",
       "      <td>0.0</td>\n",
       "      <td>0.0</td>\n",
       "      <td>227.525</td>\n",
       "      <td>NaN</td>\n",
       "    </tr>\n",
       "    <tr>\n",
       "      <th>748</th>\n",
       "      <td>Sinkkonen, Miss. Anna</td>\n",
       "      <td>250648</td>\n",
       "      <td>S</td>\n",
       "      <td>2</td>\n",
       "      <td>female</td>\n",
       "      <td>30.0</td>\n",
       "      <td>0.0</td>\n",
       "      <td>0.0</td>\n",
       "      <td>13.000</td>\n",
       "      <td>NaN</td>\n",
       "    </tr>\n",
       "  </tbody>\n",
       "</table>\n",
       "</div>"
      ],
      "text/plain": [
       "                                      Name        Ticket Embarked  Pclass  \\\n",
       "PassengerId                                                                 \n",
       "73                    Hood, Mr. Ambrose Jr  S.O.C. 14879        S       2   \n",
       "717          Endres, Miss. Caroline Louise      PC 17757        C       1   \n",
       "748                  Sinkkonen, Miss. Anna        250648        S       2   \n",
       "\n",
       "                Sex   Age  SibSp  Parch     Fare  Survived  \n",
       "PassengerId                                                 \n",
       "73             male  21.0    0.0    0.0   73.500       NaN  \n",
       "717          female  38.0    0.0    0.0  227.525       NaN  \n",
       "748          female  30.0    0.0    0.0   13.000       NaN  "
      ]
     },
     "execution_count": 30,
     "metadata": {},
     "output_type": "execute_result"
    }
   ],
   "source": [
    "df[df[\"Survived\"].isnull()]"
   ]
  },
  {
   "cell_type": "markdown",
   "id": "a0fb3d3c",
   "metadata": {},
   "source": [
    "Con el propósito de no introducir ruido a las etiquetas de nuestros datos, se descartarán las instancias donde el atributo de supervivencia sea nulo."
   ]
  },
  {
   "cell_type": "code",
   "execution_count": 31,
   "id": "19c53984",
   "metadata": {},
   "outputs": [],
   "source": [
    "null_survived_indexes = df[df[\"Survived\"].isnull()].index\n",
    "df.drop(index=null_survived_indexes, inplace=True)"
   ]
  },
  {
   "cell_type": "markdown",
   "id": "0f913af4",
   "metadata": {},
   "source": [
    "## Eliminación de columnas prescindibles"
   ]
  },
  {
   "cell_type": "code",
   "execution_count": 32,
   "id": "d6d926cf",
   "metadata": {
    "scrolled": false
   },
   "outputs": [
    {
     "data": {
      "text/html": [
       "<div>\n",
       "<style scoped>\n",
       "    .dataframe tbody tr th:only-of-type {\n",
       "        vertical-align: middle;\n",
       "    }\n",
       "\n",
       "    .dataframe tbody tr th {\n",
       "        vertical-align: top;\n",
       "    }\n",
       "\n",
       "    .dataframe thead th {\n",
       "        text-align: right;\n",
       "    }\n",
       "</style>\n",
       "<table border=\"1\" class=\"dataframe\">\n",
       "  <thead>\n",
       "    <tr style=\"text-align: right;\">\n",
       "      <th></th>\n",
       "      <th>Name</th>\n",
       "      <th>Ticket</th>\n",
       "      <th>Embarked</th>\n",
       "      <th>Pclass</th>\n",
       "      <th>Sex</th>\n",
       "      <th>Age</th>\n",
       "      <th>SibSp</th>\n",
       "      <th>Parch</th>\n",
       "      <th>Fare</th>\n",
       "      <th>Survived</th>\n",
       "    </tr>\n",
       "    <tr>\n",
       "      <th>PassengerId</th>\n",
       "      <th></th>\n",
       "      <th></th>\n",
       "      <th></th>\n",
       "      <th></th>\n",
       "      <th></th>\n",
       "      <th></th>\n",
       "      <th></th>\n",
       "      <th></th>\n",
       "      <th></th>\n",
       "      <th></th>\n",
       "    </tr>\n",
       "  </thead>\n",
       "  <tbody>\n",
       "    <tr>\n",
       "      <th>53</th>\n",
       "      <td>NaN</td>\n",
       "      <td>PC 17572</td>\n",
       "      <td>C</td>\n",
       "      <td>1</td>\n",
       "      <td>female</td>\n",
       "      <td>49.000000</td>\n",
       "      <td>1.0</td>\n",
       "      <td>0.0</td>\n",
       "      <td>76.7292</td>\n",
       "      <td>1.0</td>\n",
       "    </tr>\n",
       "    <tr>\n",
       "      <th>160</th>\n",
       "      <td>NaN</td>\n",
       "      <td>CA. 2343</td>\n",
       "      <td>S</td>\n",
       "      <td>3</td>\n",
       "      <td>male</td>\n",
       "      <td>27.288533</td>\n",
       "      <td>8.0</td>\n",
       "      <td>2.0</td>\n",
       "      <td>69.5500</td>\n",
       "      <td>0.0</td>\n",
       "    </tr>\n",
       "    <tr>\n",
       "      <th>192</th>\n",
       "      <td>NaN</td>\n",
       "      <td>28424</td>\n",
       "      <td>S</td>\n",
       "      <td>2</td>\n",
       "      <td>male</td>\n",
       "      <td>19.000000</td>\n",
       "      <td>0.0</td>\n",
       "      <td>0.0</td>\n",
       "      <td>13.0000</td>\n",
       "      <td>0.0</td>\n",
       "    </tr>\n",
       "    <tr>\n",
       "      <th>228</th>\n",
       "      <td>NaN</td>\n",
       "      <td>A/5 21173</td>\n",
       "      <td>S</td>\n",
       "      <td>3</td>\n",
       "      <td>male</td>\n",
       "      <td>20.500000</td>\n",
       "      <td>0.0</td>\n",
       "      <td>0.0</td>\n",
       "      <td>7.2500</td>\n",
       "      <td>0.0</td>\n",
       "    </tr>\n",
       "    <tr>\n",
       "      <th>255</th>\n",
       "      <td>NaN</td>\n",
       "      <td>370129</td>\n",
       "      <td>S</td>\n",
       "      <td>3</td>\n",
       "      <td>female</td>\n",
       "      <td>41.000000</td>\n",
       "      <td>0.0</td>\n",
       "      <td>2.0</td>\n",
       "      <td>20.2125</td>\n",
       "      <td>0.0</td>\n",
       "    </tr>\n",
       "    <tr>\n",
       "      <th>655</th>\n",
       "      <td>NaN</td>\n",
       "      <td>365226</td>\n",
       "      <td>Q</td>\n",
       "      <td>3</td>\n",
       "      <td>female</td>\n",
       "      <td>18.000000</td>\n",
       "      <td>0.0</td>\n",
       "      <td>0.0</td>\n",
       "      <td>6.7500</td>\n",
       "      <td>0.0</td>\n",
       "    </tr>\n",
       "    <tr>\n",
       "      <th>709</th>\n",
       "      <td>NaN</td>\n",
       "      <td>113781</td>\n",
       "      <td>S</td>\n",
       "      <td>1</td>\n",
       "      <td>female</td>\n",
       "      <td>22.000000</td>\n",
       "      <td>0.0</td>\n",
       "      <td>0.0</td>\n",
       "      <td>151.5500</td>\n",
       "      <td>1.0</td>\n",
       "    </tr>\n",
       "  </tbody>\n",
       "</table>\n",
       "</div>"
      ],
      "text/plain": [
       "            Name     Ticket Embarked  Pclass     Sex        Age  SibSp  Parch  \\\n",
       "PassengerId                                                                     \n",
       "53           NaN   PC 17572        C       1  female  49.000000    1.0    0.0   \n",
       "160          NaN   CA. 2343        S       3    male  27.288533    8.0    2.0   \n",
       "192          NaN      28424        S       2    male  19.000000    0.0    0.0   \n",
       "228          NaN  A/5 21173        S       3    male  20.500000    0.0    0.0   \n",
       "255          NaN     370129        S       3  female  41.000000    0.0    2.0   \n",
       "655          NaN     365226        Q       3  female  18.000000    0.0    0.0   \n",
       "709          NaN     113781        S       1  female  22.000000    0.0    0.0   \n",
       "\n",
       "                 Fare  Survived  \n",
       "PassengerId                      \n",
       "53            76.7292       1.0  \n",
       "160           69.5500       0.0  \n",
       "192           13.0000       0.0  \n",
       "228            7.2500       0.0  \n",
       "255           20.2125       0.0  \n",
       "655            6.7500       0.0  \n",
       "709          151.5500       1.0  "
      ]
     },
     "execution_count": 32,
     "metadata": {},
     "output_type": "execute_result"
    }
   ],
   "source": [
    "# Pasajeros con el nombre nulo\n",
    "df[df[\"Name\"].isnull()]"
   ]
  },
  {
   "cell_type": "markdown",
   "id": "45377e5c",
   "metadata": {},
   "source": [
    "Como supuesto, se asume que un nombre en particular no debería ser predictor de la supervivencia de un pasajero, de modo que se decartará dicho atributo."
   ]
  },
  {
   "cell_type": "code",
   "execution_count": 33,
   "id": "2484b7f8",
   "metadata": {},
   "outputs": [],
   "source": [
    "df.drop(\"Name\", axis=1, inplace=True)"
   ]
  },
  {
   "cell_type": "code",
   "execution_count": 34,
   "id": "5d89e0ac",
   "metadata": {
    "scrolled": false
   },
   "outputs": [
    {
     "data": {
      "text/html": [
       "<div>\n",
       "<style scoped>\n",
       "    .dataframe tbody tr th:only-of-type {\n",
       "        vertical-align: middle;\n",
       "    }\n",
       "\n",
       "    .dataframe tbody tr th {\n",
       "        vertical-align: top;\n",
       "    }\n",
       "\n",
       "    .dataframe thead th {\n",
       "        text-align: right;\n",
       "    }\n",
       "</style>\n",
       "<table border=\"1\" class=\"dataframe\">\n",
       "  <thead>\n",
       "    <tr style=\"text-align: right;\">\n",
       "      <th></th>\n",
       "      <th>Ticket</th>\n",
       "      <th>Embarked</th>\n",
       "      <th>Pclass</th>\n",
       "      <th>Sex</th>\n",
       "      <th>Age</th>\n",
       "      <th>SibSp</th>\n",
       "      <th>Parch</th>\n",
       "      <th>Fare</th>\n",
       "      <th>Survived</th>\n",
       "    </tr>\n",
       "    <tr>\n",
       "      <th>PassengerId</th>\n",
       "      <th></th>\n",
       "      <th></th>\n",
       "      <th></th>\n",
       "      <th></th>\n",
       "      <th></th>\n",
       "      <th></th>\n",
       "      <th></th>\n",
       "      <th></th>\n",
       "      <th></th>\n",
       "    </tr>\n",
       "  </thead>\n",
       "  <tbody>\n",
       "    <tr>\n",
       "      <th>83</th>\n",
       "      <td>NaN</td>\n",
       "      <td>Q</td>\n",
       "      <td>3</td>\n",
       "      <td>female</td>\n",
       "      <td>17.530651</td>\n",
       "      <td>0.0</td>\n",
       "      <td>0.0</td>\n",
       "      <td>7.7875</td>\n",
       "      <td>1.0</td>\n",
       "    </tr>\n",
       "    <tr>\n",
       "      <th>418</th>\n",
       "      <td>NaN</td>\n",
       "      <td>S</td>\n",
       "      <td>2</td>\n",
       "      <td>female</td>\n",
       "      <td>18.000000</td>\n",
       "      <td>0.0</td>\n",
       "      <td>2.0</td>\n",
       "      <td>13.0000</td>\n",
       "      <td>1.0</td>\n",
       "    </tr>\n",
       "    <tr>\n",
       "      <th>586</th>\n",
       "      <td>NaN</td>\n",
       "      <td>S</td>\n",
       "      <td>1</td>\n",
       "      <td>female</td>\n",
       "      <td>18.000000</td>\n",
       "      <td>0.0</td>\n",
       "      <td>2.0</td>\n",
       "      <td>79.6500</td>\n",
       "      <td>1.0</td>\n",
       "    </tr>\n",
       "    <tr>\n",
       "      <th>605</th>\n",
       "      <td>NaN</td>\n",
       "      <td>C</td>\n",
       "      <td>1</td>\n",
       "      <td>male</td>\n",
       "      <td>35.000000</td>\n",
       "      <td>0.0</td>\n",
       "      <td>0.0</td>\n",
       "      <td>26.5500</td>\n",
       "      <td>1.0</td>\n",
       "    </tr>\n",
       "    <tr>\n",
       "      <th>758</th>\n",
       "      <td>NaN</td>\n",
       "      <td>S</td>\n",
       "      <td>2</td>\n",
       "      <td>male</td>\n",
       "      <td>18.000000</td>\n",
       "      <td>0.0</td>\n",
       "      <td>0.0</td>\n",
       "      <td>11.5000</td>\n",
       "      <td>0.0</td>\n",
       "    </tr>\n",
       "    <tr>\n",
       "      <th>865</th>\n",
       "      <td>NaN</td>\n",
       "      <td>S</td>\n",
       "      <td>2</td>\n",
       "      <td>male</td>\n",
       "      <td>24.000000</td>\n",
       "      <td>0.0</td>\n",
       "      <td>0.0</td>\n",
       "      <td>13.0000</td>\n",
       "      <td>0.0</td>\n",
       "    </tr>\n",
       "  </tbody>\n",
       "</table>\n",
       "</div>"
      ],
      "text/plain": [
       "            Ticket Embarked  Pclass     Sex        Age  SibSp  Parch     Fare  \\\n",
       "PassengerId                                                                     \n",
       "83             NaN        Q       3  female  17.530651    0.0    0.0   7.7875   \n",
       "418            NaN        S       2  female  18.000000    0.0    2.0  13.0000   \n",
       "586            NaN        S       1  female  18.000000    0.0    2.0  79.6500   \n",
       "605            NaN        C       1    male  35.000000    0.0    0.0  26.5500   \n",
       "758            NaN        S       2    male  18.000000    0.0    0.0  11.5000   \n",
       "865            NaN        S       2    male  24.000000    0.0    0.0  13.0000   \n",
       "\n",
       "             Survived  \n",
       "PassengerId            \n",
       "83                1.0  \n",
       "418               1.0  \n",
       "586               1.0  \n",
       "605               1.0  \n",
       "758               0.0  \n",
       "865               0.0  "
      ]
     },
     "execution_count": 34,
     "metadata": {},
     "output_type": "execute_result"
    }
   ],
   "source": [
    "# Pasajeros con ticket nulo\n",
    "df[df[\"Ticket\"].isnull()]"
   ]
  },
  {
   "cell_type": "markdown",
   "id": "3f8b7ca9",
   "metadata": {},
   "source": [
    "Como supuesto, se asume que el número de ticket no debería ser predictor de la supervivencia de un pasajero, de modo que se decartará dicho atributo."
   ]
  },
  {
   "cell_type": "code",
   "execution_count": 35,
   "id": "01cf5653",
   "metadata": {},
   "outputs": [],
   "source": [
    "df.drop(\"Ticket\", axis=1, inplace=True)"
   ]
  },
  {
   "cell_type": "code",
   "execution_count": 36,
   "id": "c06494e1",
   "metadata": {
    "scrolled": false
   },
   "outputs": [
    {
     "data": {
      "text/plain": [
       "Embarked    False\n",
       "Pclass      False\n",
       "Sex         False\n",
       "Age         False\n",
       "SibSp       False\n",
       "Parch       False\n",
       "Fare        False\n",
       "Survived    False\n",
       "dtype: bool"
      ]
     },
     "execution_count": 36,
     "metadata": {},
     "output_type": "execute_result"
    }
   ],
   "source": [
    "# Verificamos la ausencia de instancias nulas en la base de datos\n",
    "\n",
    "df.isnull().any()"
   ]
  },
  {
   "cell_type": "markdown",
   "id": "969fc96b",
   "metadata": {},
   "source": [
    "## Verificación de tipo de datos de cada columna"
   ]
  },
  {
   "cell_type": "code",
   "execution_count": 37,
   "id": "84185fd6",
   "metadata": {
    "scrolled": true
   },
   "outputs": [
    {
     "data": {
      "text/plain": [
       "Embarked     object\n",
       "Pclass        int64\n",
       "Sex          object\n",
       "Age         float64\n",
       "SibSp       float64\n",
       "Parch       float64\n",
       "Fare        float64\n",
       "Survived    float64\n",
       "dtype: object"
      ]
     },
     "execution_count": 37,
     "metadata": {},
     "output_type": "execute_result"
    }
   ],
   "source": [
    "df.dtypes"
   ]
  },
  {
   "cell_type": "markdown",
   "id": "e1a27952",
   "metadata": {},
   "source": [
    "Queremos que las variables categóricas sean object, que las variables discretas sean int, y que las variables continuas sean float64."
   ]
  },
  {
   "cell_type": "code",
   "execution_count": 38,
   "id": "0d12daf9",
   "metadata": {},
   "outputs": [],
   "source": [
    "# Cambiamos la clase del pasaje a object\n",
    "\n",
    "df[\"Pclass\"] = df[\"Pclass\"].astype(\"object\")"
   ]
  },
  {
   "cell_type": "code",
   "execution_count": 39,
   "id": "0d75c41c",
   "metadata": {},
   "outputs": [],
   "source": [
    "# Cambiamos hermanos y cónyuges a int\n",
    "\n",
    "df[\"SibSp\"] = df[\"SibSp\"].astype(int)"
   ]
  },
  {
   "cell_type": "code",
   "execution_count": 40,
   "id": "cb535913",
   "metadata": {},
   "outputs": [],
   "source": [
    "# Cambiamos padres e hijos a int\n",
    "\n",
    "df[\"Parch\"] = df[\"Parch\"].astype(int)"
   ]
  },
  {
   "cell_type": "code",
   "execution_count": 41,
   "id": "ccdaf766",
   "metadata": {},
   "outputs": [],
   "source": [
    "# Cambiamos supervivencia a object\n",
    "\n",
    "df[\"Survived\"] = df[\"Survived\"].astype(\"object\")"
   ]
  },
  {
   "cell_type": "code",
   "execution_count": 42,
   "id": "610519f2",
   "metadata": {
    "scrolled": false
   },
   "outputs": [
    {
     "data": {
      "text/plain": [
       "Embarked     object\n",
       "Pclass       object\n",
       "Sex          object\n",
       "Age         float64\n",
       "SibSp         int64\n",
       "Parch         int64\n",
       "Fare        float64\n",
       "Survived     object\n",
       "dtype: object"
      ]
     },
     "execution_count": 42,
     "metadata": {},
     "output_type": "execute_result"
    }
   ],
   "source": [
    "df.dtypes"
   ]
  },
  {
   "cell_type": "markdown",
   "id": "a09b757b",
   "metadata": {},
   "source": [
    "# Actividad 2: Comprensión de los datos"
   ]
  },
  {
   "cell_type": "code",
   "execution_count": 43,
   "id": "f80dcb1e",
   "metadata": {
    "scrolled": false
   },
   "outputs": [
    {
     "data": {
      "text/html": [
       "<div>\n",
       "<style scoped>\n",
       "    .dataframe tbody tr th:only-of-type {\n",
       "        vertical-align: middle;\n",
       "    }\n",
       "\n",
       "    .dataframe tbody tr th {\n",
       "        vertical-align: top;\n",
       "    }\n",
       "\n",
       "    .dataframe thead th {\n",
       "        text-align: right;\n",
       "    }\n",
       "</style>\n",
       "<table border=\"1\" class=\"dataframe\">\n",
       "  <thead>\n",
       "    <tr style=\"text-align: right;\">\n",
       "      <th></th>\n",
       "      <th>Embarked</th>\n",
       "      <th>Pclass</th>\n",
       "      <th>Sex</th>\n",
       "      <th>Age</th>\n",
       "      <th>SibSp</th>\n",
       "      <th>Parch</th>\n",
       "      <th>Fare</th>\n",
       "      <th>Survived</th>\n",
       "    </tr>\n",
       "    <tr>\n",
       "      <th>PassengerId</th>\n",
       "      <th></th>\n",
       "      <th></th>\n",
       "      <th></th>\n",
       "      <th></th>\n",
       "      <th></th>\n",
       "      <th></th>\n",
       "      <th></th>\n",
       "      <th></th>\n",
       "    </tr>\n",
       "  </thead>\n",
       "  <tbody>\n",
       "    <tr>\n",
       "      <th>1</th>\n",
       "      <td>S</td>\n",
       "      <td>3</td>\n",
       "      <td>male</td>\n",
       "      <td>22.0</td>\n",
       "      <td>1</td>\n",
       "      <td>0</td>\n",
       "      <td>7.2500</td>\n",
       "      <td>0.0</td>\n",
       "    </tr>\n",
       "    <tr>\n",
       "      <th>2</th>\n",
       "      <td>C</td>\n",
       "      <td>1</td>\n",
       "      <td>female</td>\n",
       "      <td>38.0</td>\n",
       "      <td>1</td>\n",
       "      <td>0</td>\n",
       "      <td>71.2833</td>\n",
       "      <td>1.0</td>\n",
       "    </tr>\n",
       "    <tr>\n",
       "      <th>3</th>\n",
       "      <td>S</td>\n",
       "      <td>3</td>\n",
       "      <td>female</td>\n",
       "      <td>26.0</td>\n",
       "      <td>0</td>\n",
       "      <td>0</td>\n",
       "      <td>7.9250</td>\n",
       "      <td>1.0</td>\n",
       "    </tr>\n",
       "    <tr>\n",
       "      <th>4</th>\n",
       "      <td>S</td>\n",
       "      <td>1</td>\n",
       "      <td>female</td>\n",
       "      <td>35.0</td>\n",
       "      <td>1</td>\n",
       "      <td>0</td>\n",
       "      <td>53.1000</td>\n",
       "      <td>1.0</td>\n",
       "    </tr>\n",
       "    <tr>\n",
       "      <th>5</th>\n",
       "      <td>S</td>\n",
       "      <td>3</td>\n",
       "      <td>male</td>\n",
       "      <td>35.0</td>\n",
       "      <td>0</td>\n",
       "      <td>0</td>\n",
       "      <td>8.0500</td>\n",
       "      <td>0.0</td>\n",
       "    </tr>\n",
       "  </tbody>\n",
       "</table>\n",
       "</div>"
      ],
      "text/plain": [
       "            Embarked Pclass     Sex   Age  SibSp  Parch     Fare Survived\n",
       "PassengerId                                                              \n",
       "1                  S      3    male  22.0      1      0   7.2500      0.0\n",
       "2                  C      1  female  38.0      1      0  71.2833      1.0\n",
       "3                  S      3  female  26.0      0      0   7.9250      1.0\n",
       "4                  S      1  female  35.0      1      0  53.1000      1.0\n",
       "5                  S      3    male  35.0      0      0   8.0500      0.0"
      ]
     },
     "execution_count": 43,
     "metadata": {},
     "output_type": "execute_result"
    }
   ],
   "source": [
    "df.head()"
   ]
  },
  {
   "cell_type": "markdown",
   "id": "51b296fb",
   "metadata": {},
   "source": [
    "## Descripción de variables independientes"
   ]
  },
  {
   "cell_type": "markdown",
   "id": "a1fe3404",
   "metadata": {},
   "source": [
    "Se observa que la mayoría de los pasajeros abordaron el el puerto de Southhampton. Al mismo tiempo aproximadamente un 55% de los pasajeros son de tercera clase, seguido por un 25% de tercera clase y un 20% de segunda clase.\n",
    "\n",
    "La proporción entre hombres y mujeres es de 65% y 35% respectivamente. Las edades promedio de los pasajeros son 29 años con una desviación estandar de 14 años. El promedio de padres/hijos y hermanos/cónyuges es de 0.38 y 0.52 respectivamente. Por último, el monto promedio de tarifa es de 31.998187, y presenta alta dispersión, con una desviaión estándar de 49.531009.\n",
    "\n",
    "Por último, un 38% de los pasajeros sobrevivieron."
   ]
  },
  {
   "cell_type": "markdown",
   "id": "fa13ba62",
   "metadata": {},
   "source": [
    "## Supervivencia de pasajeros"
   ]
  },
  {
   "cell_type": "markdown",
   "id": "d4e47894",
   "metadata": {},
   "source": [
    "A continuación, se estudiarán las proporciones de supervivientes bajo diferentes filtros del conjunto de datos. Se espera estudiar las probabilidades condicionales de supervivencia bajo diferentes escenarios, con el fin de obtener intuiciones sobre qué atributos podrían ser de relevancia a la hora de implementar las predicciones con árboles de decisión."
   ]
  },
  {
   "cell_type": "markdown",
   "id": "b3f05b75",
   "metadata": {},
   "source": [
    "### Visualización 1: Supervivencia no condicionada"
   ]
  },
  {
   "cell_type": "markdown",
   "id": "15b334cb",
   "metadata": {},
   "source": [
    "El siguiente gráfico muestra la distribución de pasajeros que sobrevivieron o no sobrevivieron. Dicha información es relevante en tanto se pretende predecir el valor de tal atributo, de modo que es necesario saber qué proporciones de supervivencia/no supervivencia existen en el dataset completo para verificar si se preservan o no en las predicciones.\n"
   ]
  },
  {
   "cell_type": "code",
   "execution_count": 599,
   "id": "0bad3301",
   "metadata": {
    "scrolled": true
   },
   "outputs": [
    {
     "data": {
      "text/plain": [
       "<AxesSubplot:title={'center':'Supervivencia de pasajeros\\n1: Sobrevive\\n0: No sobrevive'}, ylabel='Survived'>"
      ]
     },
     "execution_count": 599,
     "metadata": {},
     "output_type": "execute_result"
    },
    {
     "data": {
      "image/png": "[encoded data removed]",
      "text/plain": [
       "<Figure size 432x288 with 1 Axes>"
      ]
     },
     "metadata": {},
     "output_type": "display_data"
    }
   ],
   "source": [
    "# Visualización: Distribución de supervivencia de pasajeros\n",
    "\n",
    "df[\"Survived\"].value_counts(normalize=True).plot(kind=\"pie\", title=\"Supervivencia de pasajeros\\n1: Sobrevive\\n0: No sobrevive\")\n"
   ]
  },
  {
   "cell_type": "code",
   "execution_count": 600,
   "id": "3b1b032c",
   "metadata": {},
   "outputs": [
    {
     "data": {
      "text/plain": [
       "0.0    0.615297\n",
       "1.0    0.384703\n",
       "Name: Survived, dtype: float64"
      ]
     },
     "execution_count": 600,
     "metadata": {},
     "output_type": "execute_result"
    }
   ],
   "source": [
    "# Probabilidades de supervivencia no condicionadas\n",
    "\n",
    "df[\"Survived\"].value_counts(normalize=True)"
   ]
  },
  {
   "cell_type": "markdown",
   "id": "e72c4dfa",
   "metadata": {},
   "source": [
    "### Condición de sexo"
   ]
  },
  {
   "cell_type": "code",
   "execution_count": 45,
   "id": "c92c6aff",
   "metadata": {
    "scrolled": true
   },
   "outputs": [
    {
     "data": {
      "text/plain": [
       "male      0.648402\n",
       "female    0.351598\n",
       "Name: Sex, dtype: float64"
      ]
     },
     "execution_count": 45,
     "metadata": {},
     "output_type": "execute_result"
    }
   ],
   "source": [
    "df[\"Sex\"].value_counts(normalize=True)"
   ]
  },
  {
   "cell_type": "markdown",
   "id": "4ee947b5",
   "metadata": {},
   "source": [
    "### Visualización 2: Supervivencia condicionada a sexo\n",
    "\n",
    "Las siguientes dos visualizaciones muestran la supervivencia de pasajeros de sexo masculino y de sexo femenino, respectivamente. La relevancia de dichas visualizaciones radica en que ilustran de manera clara como el sexo de un pasajero es un atributo predictor de su supervivencia, donde se observó una marcada diferencia a favor de los pasajeros de sexo femenino."
   ]
  },
  {
   "cell_type": "code",
   "execution_count": 603,
   "id": "05766734",
   "metadata": {
    "scrolled": false
   },
   "outputs": [
    {
     "data": {
      "text/plain": [
       "<AxesSubplot:title={'center':'Supervivencia de pasajeros de sexo masculino'}, ylabel='Survived'>"
      ]
     },
     "execution_count": 603,
     "metadata": {},
     "output_type": "execute_result"
    },
    {
     "data": {
      "image/png": "[encoded data removed]",
      "text/plain": [
       "<Figure size 432x288 with 1 Axes>"
      ]
     },
     "metadata": {},
     "output_type": "display_data"
    }
   ],
   "source": [
    "# Supervivencia de hombres\n",
    "male_mask = df[\"Sex\"] == \"male\"\n",
    "df.loc[male_mask][\"Survived\"].value_counts(normalize=True).plot(\n",
    "    kind=\"pie\",\n",
    "    title=\"Supervivencia de pasajeros de sexo masculino\"\n",
    ")\n"
   ]
  },
  {
   "cell_type": "code",
   "execution_count": 605,
   "id": "9118fe40",
   "metadata": {},
   "outputs": [
    {
     "data": {
      "text/plain": [
       "0.0    0.808099\n",
       "1.0    0.191901\n",
       "Name: Survived, dtype: float64"
      ]
     },
     "execution_count": 605,
     "metadata": {},
     "output_type": "execute_result"
    }
   ],
   "source": [
    "# Supervivencia hombres\n",
    "df.loc[male_mask][\"Survived\"].value_counts(normalize=True)"
   ]
  },
  {
   "cell_type": "code",
   "execution_count": 604,
   "id": "df1bdb86",
   "metadata": {},
   "outputs": [
    {
     "data": {
      "text/plain": [
       "<AxesSubplot:title={'center':'Supervivencia de pasajeros de sexo femenino'}, ylabel='Survived'>"
      ]
     },
     "execution_count": 604,
     "metadata": {},
     "output_type": "execute_result"
    },
    {
     "data": {
      "image/png": "[encoded data removed]",
      "text/plain": [
       "<Figure size 432x288 with 1 Axes>"
      ]
     },
     "metadata": {},
     "output_type": "display_data"
    }
   ],
   "source": [
    "female_mask = df[\"Sex\"] == \"female\"\n",
    "df.loc[female_mask][\"Survived\"].value_counts(normalize=True).plot(\n",
    "    kind=\"pie\",\n",
    "    title=\"Supervivencia de pasajeros de sexo femenino\"\n",
    ")"
   ]
  },
  {
   "cell_type": "code",
   "execution_count": 606,
   "id": "3168211f",
   "metadata": {},
   "outputs": [
    {
     "data": {
      "text/plain": [
       "1.0    0.74026\n",
       "0.0    0.25974\n",
       "Name: Survived, dtype: float64"
      ]
     },
     "execution_count": 606,
     "metadata": {},
     "output_type": "execute_result"
    }
   ],
   "source": [
    "# Supervivencia mujeres\n",
    "df.loc[female_mask][\"Survived\"].value_counts(normalize=True)"
   ]
  },
  {
   "cell_type": "markdown",
   "id": "053b5118",
   "metadata": {},
   "source": [
    "### Condición de clase de pasaje"
   ]
  },
  {
   "cell_type": "code",
   "execution_count": 50,
   "id": "9763585a",
   "metadata": {},
   "outputs": [
    {
     "data": {
      "text/plain": [
       "3    0.552511\n",
       "1    0.242009\n",
       "2    0.205479\n",
       "Name: Pclass, dtype: float64"
      ]
     },
     "execution_count": 50,
     "metadata": {},
     "output_type": "execute_result"
    }
   ],
   "source": [
    "df[\"Pclass\"].value_counts(normalize=True)"
   ]
  },
  {
   "cell_type": "code",
   "execution_count": 51,
   "id": "9c041f65",
   "metadata": {},
   "outputs": [
    {
     "data": {
      "text/plain": [
       "1.0    0.622642\n",
       "0.0    0.377358\n",
       "Name: Survived, dtype: float64"
      ]
     },
     "execution_count": 51,
     "metadata": {},
     "output_type": "execute_result"
    }
   ],
   "source": [
    "first_class_mask = df[\"Pclass\"] == 1\n",
    "df.loc[first_class_mask][\"Survived\"].value_counts(normalize=True)"
   ]
  },
  {
   "cell_type": "code",
   "execution_count": 52,
   "id": "fcaeeaf4",
   "metadata": {},
   "outputs": [
    {
     "data": {
      "text/plain": [
       "0.0    0.522222\n",
       "1.0    0.477778\n",
       "Name: Survived, dtype: float64"
      ]
     },
     "execution_count": 52,
     "metadata": {},
     "output_type": "execute_result"
    }
   ],
   "source": [
    "second_class_mask = df[\"Pclass\"] == 2\n",
    "df.loc[second_class_mask][\"Survived\"].value_counts(normalize=True)"
   ]
  },
  {
   "cell_type": "code",
   "execution_count": 53,
   "id": "2b2194b0",
   "metadata": {},
   "outputs": [
    {
     "data": {
      "text/plain": [
       "0.0    0.754132\n",
       "1.0    0.245868\n",
       "Name: Survived, dtype: float64"
      ]
     },
     "execution_count": 53,
     "metadata": {},
     "output_type": "execute_result"
    }
   ],
   "source": [
    "third_class_mask = df[\"Pclass\"] == 3\n",
    "df.loc[third_class_mask][\"Survived\"].value_counts(normalize=True)"
   ]
  },
  {
   "cell_type": "markdown",
   "id": "03ec5d13",
   "metadata": {},
   "source": [
    "Se observa que la probabilidad de supervivencia está condicionada al tipo de pasaje que dispone un pasajero, donde la tasa de supervivencia es mayor según más exclusiva sea la clase del pasaje."
   ]
  },
  {
   "cell_type": "markdown",
   "id": "c25543fa",
   "metadata": {},
   "source": [
    "### Condición de monto cancelado por los pasajes"
   ]
  },
  {
   "cell_type": "code",
   "execution_count": 54,
   "id": "a89d043d",
   "metadata": {},
   "outputs": [
    {
     "data": {
      "text/plain": [
       "count    876.000000\n",
       "mean      31.998187\n",
       "std       49.531009\n",
       "min        0.000000\n",
       "25%        7.925000\n",
       "50%       14.454200\n",
       "75%       31.000000\n",
       "max      512.329200\n",
       "Name: Fare, dtype: float64"
      ]
     },
     "execution_count": 54,
     "metadata": {},
     "output_type": "execute_result"
    }
   ],
   "source": [
    "df[\"Fare\"].describe()"
   ]
  },
  {
   "cell_type": "markdown",
   "id": "beb3b05b",
   "metadata": {},
   "source": [
    "### Visualización 3: Distribución de montos cancelados por pasajeros\n",
    "\n",
    "El siguiente gráfico muestra la distribución de montos cancelados por los pasajeros a bordo. Dicha visualización es relevante en tanto se pudo observar que el monto cancelado era un buen predictor de la supervivencia de un pasajero. Como se observa en la gráfica, el monto cancelado es bastante elongado hacia la derecha, lo que permite especular que hacer particiones a partir de este atributo puede separar en buena medida los supervivientes de los no supervivientes."
   ]
  },
  {
   "cell_type": "code",
   "execution_count": 607,
   "id": "39d519f1",
   "metadata": {
    "scrolled": true
   },
   "outputs": [
    {
     "data": {
      "text/plain": [
       "<AxesSubplot:title={'center':'Monto cancelado por pasajeros a bordo'}, ylabel='Density'>"
      ]
     },
     "execution_count": 607,
     "metadata": {},
     "output_type": "execute_result"
    },
    {
     "data": {
      "image/png": "[encoded data removed]",
      "text/plain": [
       "<Figure size 432x288 with 1 Axes>"
      ]
     },
     "metadata": {
      "needs_background": "light"
     },
     "output_type": "display_data"
    }
   ],
   "source": [
    "# Visualización 3: Distribución de montos pagados por pasajeros a bordo\n",
    "\n",
    "df[\"Fare\"].plot.density(title=\"Monto cancelado por pasajeros a bordo\")"
   ]
  },
  {
   "cell_type": "markdown",
   "id": "fa5c8b40",
   "metadata": {},
   "source": [
    "Se observa una alta dispersión en torno al monto pagado por los pasajes. Para observar la supervivencia condicionada al monto, se establecerá una frontera entre montos outliers y montos regulares en 80.0."
   ]
  },
  {
   "cell_type": "code",
   "execution_count": 56,
   "id": "78c50a4c",
   "metadata": {
    "scrolled": true
   },
   "outputs": [
    {
     "data": {
      "text/plain": [
       "0.0    0.650062\n",
       "1.0    0.349938\n",
       "Name: Survived, dtype: float64"
      ]
     },
     "execution_count": 56,
     "metadata": {},
     "output_type": "execute_result"
    }
   ],
   "source": [
    "df.loc[df[\"Fare\"] < 80][\"Survived\"].value_counts(normalize=True)"
   ]
  },
  {
   "cell_type": "code",
   "execution_count": 57,
   "id": "f35aea0b",
   "metadata": {
    "scrolled": true
   },
   "outputs": [
    {
     "data": {
      "text/plain": [
       "1.0    0.767123\n",
       "0.0    0.232877\n",
       "Name: Survived, dtype: float64"
      ]
     },
     "execution_count": 57,
     "metadata": {},
     "output_type": "execute_result"
    }
   ],
   "source": [
    "df.loc[df[\"Fare\"] >= 80][\"Survived\"].value_counts(normalize=True)"
   ]
  },
  {
   "cell_type": "markdown",
   "id": "2c3f9af0",
   "metadata": {},
   "source": [
    "Se observa que la proporcioń de supervivientes en el monto outlier es de un 77%, mientras que en el monto no outlier es de un 35%. Cómo se observa a continuación, todos los pasajes en ese monto corresponden a tickets de primera clase. "
   ]
  },
  {
   "cell_type": "code",
   "execution_count": 58,
   "id": "8091c744",
   "metadata": {
    "scrolled": true
   },
   "outputs": [
    {
     "data": {
      "text/plain": [
       "1    73\n",
       "Name: Pclass, dtype: int64"
      ]
     },
     "execution_count": 58,
     "metadata": {},
     "output_type": "execute_result"
    }
   ],
   "source": [
    "df.loc[df[\"Fare\"] >= 80][\"Pclass\"].value_counts()"
   ]
  },
  {
   "cell_type": "markdown",
   "id": "53709db8",
   "metadata": {},
   "source": [
    "A continuación, se observará la supervivencia codicionada al monto pagado para los tickets de cada clase. Para aquello, se dividen los pasajeros de cada clase en dos intervalos de valores, que definen los pasajeros que pagaron baja tarifa (1) y los que pagaron alta tarifa (2)."
   ]
  },
  {
   "cell_type": "code",
   "execution_count": 144,
   "id": "339695d5",
   "metadata": {
    "scrolled": true
   },
   "outputs": [],
   "source": [
    "# Pasajeros de primera clase\n",
    "first_class = df.loc[df[\"Pclass\"] == 1].copy()\n",
    "first_class[\"FareRange\"] = pd.cut(first_class[\"Fare\"], \n",
    "                                  bins=2, \n",
    "                                  labels=[\"1_low\", \"1_high\"])"
   ]
  },
  {
   "cell_type": "code",
   "execution_count": 145,
   "id": "1d5efc73",
   "metadata": {
    "scrolled": true
   },
   "outputs": [
    {
     "data": {
      "text/plain": [
       "1.0    0.615764\n",
       "0.0    0.384236\n",
       "Name: Survived, dtype: float64"
      ]
     },
     "execution_count": 145,
     "metadata": {},
     "output_type": "execute_result"
    }
   ],
   "source": [
    "first_class.loc[first_class[\"FareRange\"] == \"1_low\"][\"Survived\"].value_counts(normalize=True)"
   ]
  },
  {
   "cell_type": "code",
   "execution_count": 146,
   "id": "a5f0c65a",
   "metadata": {},
   "outputs": [
    {
     "data": {
      "text/plain": [
       "1.0    0.777778\n",
       "0.0    0.222222\n",
       "Name: Survived, dtype: float64"
      ]
     },
     "execution_count": 146,
     "metadata": {},
     "output_type": "execute_result"
    }
   ],
   "source": [
    "first_class.loc[first_class[\"FareRange\"] == \"1_high\"][\"Survived\"].value_counts(normalize=True)"
   ]
  },
  {
   "cell_type": "markdown",
   "id": "7014654e",
   "metadata": {},
   "source": [
    "Para los pasajeros de primera clase, se observa que la supervivencia para los pasajeros de baja tarifa fue de un 62%, mientras que la de los de alta tarifa fue de un 78%, lo que indica que dentro del grupo de pasajeros de primera clase, el monto cancelado puede ser predictor de la supervivencia de un pasajero."
   ]
  },
  {
   "cell_type": "code",
   "execution_count": 147,
   "id": "d7bf726e",
   "metadata": {},
   "outputs": [],
   "source": [
    "# Pasajeros de segunda clase\n",
    "second_class = df.loc[df[\"Pclass\"] == 2].copy()\n",
    "second_class[\"FareRange\"] = pd.cut(second_class[\"Fare\"], \n",
    "                                   bins=2, \n",
    "                                   labels=[\"2_low\", \"2_high\"])"
   ]
  },
  {
   "cell_type": "code",
   "execution_count": 148,
   "id": "07d74955",
   "metadata": {},
   "outputs": [
    {
     "data": {
      "text/plain": [
       "0.0    0.527273\n",
       "1.0    0.472727\n",
       "Name: Survived, dtype: float64"
      ]
     },
     "execution_count": 148,
     "metadata": {},
     "output_type": "execute_result"
    }
   ],
   "source": [
    "second_class.loc[second_class[\"FareRange\"] == \"2_low\"][\"Survived\"].value_counts(normalize=True)"
   ]
  },
  {
   "cell_type": "code",
   "execution_count": 149,
   "id": "91aa047e",
   "metadata": {
    "scrolled": false
   },
   "outputs": [
    {
     "data": {
      "text/plain": [
       "1.0    0.533333\n",
       "0.0    0.466667\n",
       "Name: Survived, dtype: float64"
      ]
     },
     "execution_count": 149,
     "metadata": {},
     "output_type": "execute_result"
    }
   ],
   "source": [
    "second_class.loc[second_class[\"FareRange\"] == \"2_high\"][\"Survived\"].value_counts(normalize=True)"
   ]
  },
  {
   "cell_type": "markdown",
   "id": "6172ace1",
   "metadata": {},
   "source": [
    "Para los pasajeros de segunda clase, se observa que la supervivencia para los pasajeros de baja tarifa fue de un 47%, mientras que la de los de alta tarifa fue de un 53%, lo que indica que dentro del grupo de pasajeros de segunda clase, el monto cancelado puede ser predictor de la supervivencia de un pasajero."
   ]
  },
  {
   "cell_type": "code",
   "execution_count": 151,
   "id": "f28a2269",
   "metadata": {},
   "outputs": [],
   "source": [
    "# Pasajeros de tercera clase\n",
    "third_class = df.loc[df[\"Pclass\"] == 3].copy()\n",
    "third_class[\"FareRange\"] = pd.cut(third_class[\"Fare\"],\n",
    "                                  bins=2, \n",
    "                                  labels=[\"3_low\", \"3_high\"])"
   ]
  },
  {
   "cell_type": "code",
   "execution_count": 152,
   "id": "5d03d99e",
   "metadata": {},
   "outputs": [
    {
     "data": {
      "text/plain": [
       "0.0    0.751092\n",
       "1.0    0.248908\n",
       "Name: Survived, dtype: float64"
      ]
     },
     "execution_count": 152,
     "metadata": {},
     "output_type": "execute_result"
    }
   ],
   "source": [
    "third_class.loc[third_class[\"FareRange\"] == \"3_low\"][\"Survived\"].value_counts(normalize=True)"
   ]
  },
  {
   "cell_type": "code",
   "execution_count": 153,
   "id": "52bcc44a",
   "metadata": {
    "scrolled": true
   },
   "outputs": [
    {
     "data": {
      "text/plain": [
       "0.0    0.807692\n",
       "1.0    0.192308\n",
       "Name: Survived, dtype: float64"
      ]
     },
     "execution_count": 153,
     "metadata": {},
     "output_type": "execute_result"
    }
   ],
   "source": [
    "third_class.loc[third_class[\"FareRange\"] == \"3_high\"][\"Survived\"].value_counts(normalize=True)"
   ]
  },
  {
   "cell_type": "markdown",
   "id": "96515a82",
   "metadata": {},
   "source": [
    "Para los pasajeros de tercera clase, se observa que la supervivencia para los pasajeros de baja tarifa fue de un 24%, mientras que la de los de alta tarifa fue de un 19%, lo que indica que dentro del grupo de pasajeros de tercera clase, el monto cancelado puede ser predictor de la supervivencia de un pasajero, pero de la manera inversa a como ocurre con los pasajeros de primera y segunda clase."
   ]
  },
  {
   "cell_type": "code",
   "execution_count": 156,
   "id": "c5deae59",
   "metadata": {},
   "outputs": [],
   "source": [
    "# Asignamos las categorías discretas al set de datos principal\n",
    "\n",
    "cat_fares = pd.concat([\n",
    "    first_class[\"FareRange\"],\n",
    "    second_class[\"FareRange\"],\n",
    "    third_class[\"FareRange\"]\n",
    "]).sort_index()\n",
    "\n",
    "df[\"CatFares\"] = cat_fares"
   ]
  },
  {
   "cell_type": "markdown",
   "id": "6a2817f2",
   "metadata": {},
   "source": [
    "### Puerto de embarque de los pasajeros"
   ]
  },
  {
   "cell_type": "code",
   "execution_count": 62,
   "id": "57931224",
   "metadata": {},
   "outputs": [
    {
     "data": {
      "text/plain": [
       "S    0.723744\n",
       "C    0.189498\n",
       "Q    0.086758\n",
       "Name: Embarked, dtype: float64"
      ]
     },
     "execution_count": 62,
     "metadata": {},
     "output_type": "execute_result"
    }
   ],
   "source": [
    "df[\"Embarked\"].value_counts(normalize=True)"
   ]
  },
  {
   "cell_type": "code",
   "execution_count": 63,
   "id": "aae27358",
   "metadata": {},
   "outputs": [
    {
     "data": {
      "text/plain": [
       "1.0    0.554217\n",
       "0.0    0.445783\n",
       "Name: Survived, dtype: float64"
      ]
     },
     "execution_count": 63,
     "metadata": {},
     "output_type": "execute_result"
    }
   ],
   "source": [
    "cherbourgh_mask = df[\"Embarked\"] == \"C\"\n",
    "df.loc[cherbourgh_mask][\"Survived\"].value_counts(normalize=True)"
   ]
  },
  {
   "cell_type": "code",
   "execution_count": 64,
   "id": "1a414e3f",
   "metadata": {},
   "outputs": [
    {
     "data": {
      "text/plain": [
       "0.0    0.605263\n",
       "1.0    0.394737\n",
       "Name: Survived, dtype: float64"
      ]
     },
     "execution_count": 64,
     "metadata": {},
     "output_type": "execute_result"
    }
   ],
   "source": [
    "queenstown_mask = df[\"Embarked\"] == \"Q\"\n",
    "df.loc[queenstown_mask][\"Survived\"].value_counts(normalize=True)"
   ]
  },
  {
   "cell_type": "code",
   "execution_count": 65,
   "id": "56921d86",
   "metadata": {},
   "outputs": [
    {
     "data": {
      "text/plain": [
       "0.0    0.660883\n",
       "1.0    0.339117\n",
       "Name: Survived, dtype: float64"
      ]
     },
     "execution_count": 65,
     "metadata": {},
     "output_type": "execute_result"
    }
   ],
   "source": [
    "southhampton_mask = df[\"Embarked\"] == \"S\"\n",
    "df.loc[southhampton_mask][\"Survived\"].value_counts(normalize=True)"
   ]
  },
  {
   "cell_type": "markdown",
   "id": "5c33bfc9",
   "metadata": {},
   "source": [
    "Para los pasajeros embarcados en Cherbourgh, se observa una leve tendencia hacia la supervivencia de los pasajeros ahí embarcados. Sin embargo, para los pasajeros embarcados en Southhampton y Queenstown, se observa una tendencia hacia la no supervivencia de los pasajeros.\n",
    "Para comprender por qué podría darse tal tendencia, se evaluan a continuación posibles variables mediadoras de este fenómeno."
   ]
  },
  {
   "cell_type": "code",
   "execution_count": 66,
   "id": "1c1e86f1",
   "metadata": {},
   "outputs": [
    {
     "data": {
      "text/plain": [
       "3    0.934211\n",
       "2    0.039474\n",
       "1    0.026316\n",
       "Name: Pclass, dtype: float64"
      ]
     },
     "execution_count": 66,
     "metadata": {},
     "output_type": "execute_result"
    }
   ],
   "source": [
    "# Tipo de pasajes de pasajeros embarcados en Queenstown\n",
    "df.loc[queenstown_mask][\"Pclass\"].value_counts(normalize=True)"
   ]
  },
  {
   "cell_type": "code",
   "execution_count": 67,
   "id": "5f19a528",
   "metadata": {},
   "outputs": [
    {
     "data": {
      "text/plain": [
       "3    0.548896\n",
       "2    0.252366\n",
       "1    0.198738\n",
       "Name: Pclass, dtype: float64"
      ]
     },
     "execution_count": 67,
     "metadata": {},
     "output_type": "execute_result"
    }
   ],
   "source": [
    "# Tipo de pasajes de pasajeros embarcados en Southhampton\n",
    "df.loc[southhampton_mask][\"Pclass\"].value_counts(normalize=True)"
   ]
  },
  {
   "cell_type": "code",
   "execution_count": 68,
   "id": "e40c5323",
   "metadata": {},
   "outputs": [
    {
     "data": {
      "text/plain": [
       "1    0.506024\n",
       "3    0.391566\n",
       "2    0.102410\n",
       "Name: Pclass, dtype: float64"
      ]
     },
     "execution_count": 68,
     "metadata": {},
     "output_type": "execute_result"
    }
   ],
   "source": [
    "# Tipo de pasajes de pasajeros embarcados en Cherbourgh\n",
    "df.loc[cherbourgh_mask][\"Pclass\"].value_counts(normalize=True)"
   ]
  },
  {
   "cell_type": "markdown",
   "id": "fa1f6d01",
   "metadata": {},
   "source": [
    "\n",
    "Puede observarse en las anteriores probabilidades que la mayoria de los pasajeros de Southhampton y Queenstown (los puertos con mayor probabilidad de no supervivencia) tienen pasajes de tercera clase, mientras que para para Cherbourgh (el puerto donde se observó una leve tendencia hacia la supervivencia) la mayoría de las personas tiene pasajes de primera o segunda clase. Aquello permite especular que las tendencias observadas en el puerto de embarque son en realidad explicadas por la clase del pasaje."
   ]
  },
  {
   "cell_type": "markdown",
   "id": "e6be6300",
   "metadata": {},
   "source": [
    "### Condición de rangos etarios"
   ]
  },
  {
   "cell_type": "code",
   "execution_count": 69,
   "id": "d1ea0f5b",
   "metadata": {
    "scrolled": false
   },
   "outputs": [
    {
     "data": {
      "text/plain": [
       "count    876.000000\n",
       "mean      29.903498\n",
       "std       14.319640\n",
       "min        0.420000\n",
       "25%       20.449468\n",
       "50%       28.500000\n",
       "75%       39.000000\n",
       "max       80.000000\n",
       "Name: Age, dtype: float64"
      ]
     },
     "execution_count": 69,
     "metadata": {},
     "output_type": "execute_result"
    }
   ],
   "source": [
    "df[\"Age\"].describe()"
   ]
  },
  {
   "cell_type": "markdown",
   "id": "5699f304",
   "metadata": {},
   "source": [
    "### Visualización 4: Distribución etaria de pasajeros \n",
    "\n",
    "Se obserba a continuación la distribución etaria de los pasajeros. Dicha gráfica es relevante en tanto, como se observará a continuación, la edad de los pasajeros es predictor de la supervivencia de estos, donde destaca la tendencia a una mayor supervivencia por parte de los pasajeros jóvenes. "
   ]
  },
  {
   "cell_type": "code",
   "execution_count": 608,
   "id": "e25da5af",
   "metadata": {},
   "outputs": [
    {
     "data": {
      "text/plain": [
       "<AxesSubplot:title={'center':'Edad de los pasajeros'}, ylabel='Density'>"
      ]
     },
     "execution_count": 608,
     "metadata": {},
     "output_type": "execute_result"
    },
    {
     "data": {
      "image/png": "[encoded data removed]",
      "text/plain": [
       "<Figure size 432x288 with 1 Axes>"
      ]
     },
     "metadata": {
      "needs_background": "light"
     },
     "output_type": "display_data"
    }
   ],
   "source": [
    "# Visualización 4: Distribución etaria de los pasajeros\n",
    "\n",
    "df[\"Age\"].plot.density(title=\"Edad de los pasajeros\")"
   ]
  },
  {
   "cell_type": "code",
   "execution_count": 70,
   "id": "605994ff",
   "metadata": {},
   "outputs": [
    {
     "data": {
      "text/html": [
       "<div>\n",
       "<style scoped>\n",
       "    .dataframe tbody tr th:only-of-type {\n",
       "        vertical-align: middle;\n",
       "    }\n",
       "\n",
       "    .dataframe tbody tr th {\n",
       "        vertical-align: top;\n",
       "    }\n",
       "\n",
       "    .dataframe thead th {\n",
       "        text-align: right;\n",
       "    }\n",
       "</style>\n",
       "<table border=\"1\" class=\"dataframe\">\n",
       "  <thead>\n",
       "    <tr style=\"text-align: right;\">\n",
       "      <th></th>\n",
       "      <th>Embarked</th>\n",
       "      <th>Pclass</th>\n",
       "      <th>Sex</th>\n",
       "      <th>Age</th>\n",
       "      <th>SibSp</th>\n",
       "      <th>Parch</th>\n",
       "      <th>Fare</th>\n",
       "      <th>Survived</th>\n",
       "    </tr>\n",
       "    <tr>\n",
       "      <th>PassengerId</th>\n",
       "      <th></th>\n",
       "      <th></th>\n",
       "      <th></th>\n",
       "      <th></th>\n",
       "      <th></th>\n",
       "      <th></th>\n",
       "      <th></th>\n",
       "      <th></th>\n",
       "    </tr>\n",
       "  </thead>\n",
       "  <tbody>\n",
       "    <tr>\n",
       "      <th>97</th>\n",
       "      <td>C</td>\n",
       "      <td>1</td>\n",
       "      <td>male</td>\n",
       "      <td>71.000000</td>\n",
       "      <td>0</td>\n",
       "      <td>0</td>\n",
       "      <td>34.6542</td>\n",
       "      <td>0.0</td>\n",
       "    </tr>\n",
       "    <tr>\n",
       "      <th>117</th>\n",
       "      <td>Q</td>\n",
       "      <td>3</td>\n",
       "      <td>male</td>\n",
       "      <td>70.500000</td>\n",
       "      <td>0</td>\n",
       "      <td>0</td>\n",
       "      <td>7.7500</td>\n",
       "      <td>0.0</td>\n",
       "    </tr>\n",
       "    <tr>\n",
       "      <th>325</th>\n",
       "      <td>S</td>\n",
       "      <td>3</td>\n",
       "      <td>male</td>\n",
       "      <td>74.930553</td>\n",
       "      <td>8</td>\n",
       "      <td>2</td>\n",
       "      <td>69.5500</td>\n",
       "      <td>0.0</td>\n",
       "    </tr>\n",
       "    <tr>\n",
       "      <th>494</th>\n",
       "      <td>C</td>\n",
       "      <td>1</td>\n",
       "      <td>male</td>\n",
       "      <td>71.000000</td>\n",
       "      <td>0</td>\n",
       "      <td>0</td>\n",
       "      <td>49.5042</td>\n",
       "      <td>0.0</td>\n",
       "    </tr>\n",
       "    <tr>\n",
       "      <th>631</th>\n",
       "      <td>S</td>\n",
       "      <td>1</td>\n",
       "      <td>male</td>\n",
       "      <td>80.000000</td>\n",
       "      <td>0</td>\n",
       "      <td>0</td>\n",
       "      <td>30.0000</td>\n",
       "      <td>1.0</td>\n",
       "    </tr>\n",
       "    <tr>\n",
       "      <th>852</th>\n",
       "      <td>S</td>\n",
       "      <td>3</td>\n",
       "      <td>male</td>\n",
       "      <td>74.000000</td>\n",
       "      <td>0</td>\n",
       "      <td>0</td>\n",
       "      <td>7.7750</td>\n",
       "      <td>0.0</td>\n",
       "    </tr>\n",
       "  </tbody>\n",
       "</table>\n",
       "</div>"
      ],
      "text/plain": [
       "            Embarked Pclass   Sex        Age  SibSp  Parch     Fare Survived\n",
       "PassengerId                                                                 \n",
       "97                 C      1  male  71.000000      0      0  34.6542      0.0\n",
       "117                Q      3  male  70.500000      0      0   7.7500      0.0\n",
       "325                S      3  male  74.930553      8      2  69.5500      0.0\n",
       "494                C      1  male  71.000000      0      0  49.5042      0.0\n",
       "631                S      1  male  80.000000      0      0  30.0000      1.0\n",
       "852                S      3  male  74.000000      0      0   7.7750      0.0"
      ]
     },
     "execution_count": 70,
     "metadata": {},
     "output_type": "execute_result"
    }
   ],
   "source": [
    "df.loc[df[\"Age\"] > 70]"
   ]
  },
  {
   "cell_type": "code",
   "execution_count": 97,
   "id": "498680fd",
   "metadata": {},
   "outputs": [],
   "source": [
    "age_ranges = pd.cut(df[\"Age\"], \n",
    "                    bins=5, \n",
    "                    labels=[\"0-16\", \"17-32\",\"33-48\", \"49-64\", \"65-80\"])\n",
    "df[\"AgeRange\"] = age_ranges"
   ]
  },
  {
   "cell_type": "code",
   "execution_count": 92,
   "id": "83231c5b",
   "metadata": {
    "scrolled": true
   },
   "outputs": [
    {
     "data": {
      "text/plain": [
       "1.0    0.508197\n",
       "0.0    0.491803\n",
       "Name: Survived, dtype: float64"
      ]
     },
     "execution_count": 92,
     "metadata": {},
     "output_type": "execute_result"
    }
   ],
   "source": [
    "df[df[\"AgeRange\"] == \"0-16\"][\"Survived\"].value_counts(normalize=True)"
   ]
  },
  {
   "cell_type": "code",
   "execution_count": 93,
   "id": "84602fb2",
   "metadata": {
    "scrolled": true
   },
   "outputs": [
    {
     "data": {
      "text/plain": [
       "0.0    0.63285\n",
       "1.0    0.36715\n",
       "Name: Survived, dtype: float64"
      ]
     },
     "execution_count": 93,
     "metadata": {},
     "output_type": "execute_result"
    }
   ],
   "source": [
    "df[df[\"AgeRange\"] == \"17-32\"][\"Survived\"].value_counts(normalize=True)"
   ]
  },
  {
   "cell_type": "code",
   "execution_count": 94,
   "id": "ceb21972",
   "metadata": {
    "scrolled": true
   },
   "outputs": [
    {
     "data": {
      "text/plain": [
       "0.0    0.62963\n",
       "1.0    0.37037\n",
       "Name: Survived, dtype: float64"
      ]
     },
     "execution_count": 94,
     "metadata": {},
     "output_type": "execute_result"
    }
   ],
   "source": [
    "df[df[\"AgeRange\"] == \"33-48\"][\"Survived\"].value_counts(normalize=True)"
   ]
  },
  {
   "cell_type": "code",
   "execution_count": 95,
   "id": "a8f47285",
   "metadata": {},
   "outputs": [
    {
     "data": {
      "text/plain": [
       "0.0    0.619048\n",
       "1.0    0.380952\n",
       "Name: Survived, dtype: float64"
      ]
     },
     "execution_count": 95,
     "metadata": {},
     "output_type": "execute_result"
    }
   ],
   "source": [
    "df[df[\"AgeRange\"] == \"49-64\"][\"Survived\"].value_counts(normalize=True)"
   ]
  },
  {
   "cell_type": "code",
   "execution_count": 96,
   "id": "01f5812f",
   "metadata": {},
   "outputs": [
    {
     "data": {
      "text/plain": [
       "0.0    0.923077\n",
       "1.0    0.076923\n",
       "Name: Survived, dtype: float64"
      ]
     },
     "execution_count": 96,
     "metadata": {},
     "output_type": "execute_result"
    }
   ],
   "source": [
    "df[df[\"AgeRange\"] == \"65-80\"][\"Survived\"].value_counts(normalize=True)"
   ]
  },
  {
   "cell_type": "markdown",
   "id": "bba4fa9b",
   "metadata": {},
   "source": [
    "Se observa la mayor probabilidad de supervivencia para el rango etario de 0-16 años, seguido de 49-64 años, 33-48 años, 17-32 años, y por último 65-80 años. El único caso donde se observó una probabilidad de supervivencia favorable fue para el rango etario más joven."
   ]
  },
  {
   "cell_type": "markdown",
   "id": "6e55f4f7",
   "metadata": {},
   "source": [
    "### Condición de familiares a bordo"
   ]
  },
  {
   "cell_type": "code",
   "execution_count": 77,
   "id": "7472bfa0",
   "metadata": {},
   "outputs": [
    {
     "data": {
      "text/plain": [
       "0    597\n",
       "1    206\n",
       "2     28\n",
       "4     17\n",
       "3     16\n",
       "8      7\n",
       "5      5\n",
       "Name: SibSp, dtype: int64"
      ]
     },
     "execution_count": 77,
     "metadata": {},
     "output_type": "execute_result"
    }
   ],
   "source": [
    "df[\"SibSp\"].value_counts()"
   ]
  },
  {
   "cell_type": "code",
   "execution_count": 78,
   "id": "0256bdd5",
   "metadata": {
    "scrolled": true
   },
   "outputs": [
    {
     "data": {
      "text/plain": [
       "0    665\n",
       "1    117\n",
       "2     79\n",
       "5      5\n",
       "3      5\n",
       "4      4\n",
       "6      1\n",
       "Name: Parch, dtype: int64"
      ]
     },
     "execution_count": 78,
     "metadata": {},
     "output_type": "execute_result"
    }
   ],
   "source": [
    "df[\"Parch\"].value_counts()"
   ]
  },
  {
   "cell_type": "markdown",
   "id": "22fe0e90",
   "metadata": {},
   "source": [
    "Para estudiar el efecto de los familiares a bordo, se establecerán dos categorías, referentes a la presencia o no de familiares a bordo (para el caso de hermanos/cónyuges y padres/hijos por separado)."
   ]
  },
  {
   "cell_type": "code",
   "execution_count": 79,
   "id": "c257881a",
   "metadata": {},
   "outputs": [],
   "source": [
    "# Columna categórica de presencia o ausencia de familiares\n",
    "\n",
    "cat_sibsp = df[\"SibSp\"].apply(lambda n: \"yes\" if n > 0 else \"no\")\n",
    "cat_parch = df[\"Parch\"].apply(lambda n: \"yes\" if n > 0 else \"no\")\n",
    "\n",
    "df[\"CatParch\"] = cat_parch\n",
    "df[\"CatSibSp\"] = cat_sibsp"
   ]
  },
  {
   "cell_type": "code",
   "execution_count": 80,
   "id": "b46058a7",
   "metadata": {
    "scrolled": true
   },
   "outputs": [
    {
     "data": {
      "text/plain": [
       "0.0    0.530466\n",
       "1.0    0.469534\n",
       "Name: Survived, dtype: float64"
      ]
     },
     "execution_count": 80,
     "metadata": {},
     "output_type": "execute_result"
    }
   ],
   "source": [
    "df[df[\"CatSibSp\"] == \"yes\"][\"Survived\"].value_counts(normalize=True)"
   ]
  },
  {
   "cell_type": "code",
   "execution_count": 81,
   "id": "092f39b6",
   "metadata": {},
   "outputs": [
    {
     "data": {
      "text/plain": [
       "0.0    0.654941\n",
       "1.0    0.345059\n",
       "Name: Survived, dtype: float64"
      ]
     },
     "execution_count": 81,
     "metadata": {},
     "output_type": "execute_result"
    }
   ],
   "source": [
    "df[df[\"CatSibSp\"] == \"no\"][\"Survived\"].value_counts(normalize=True)"
   ]
  },
  {
   "cell_type": "code",
   "execution_count": 82,
   "id": "f2ec1428",
   "metadata": {
    "scrolled": false
   },
   "outputs": [
    {
     "data": {
      "text/plain": [
       "1.0    0.516588\n",
       "0.0    0.483412\n",
       "Name: Survived, dtype: float64"
      ]
     },
     "execution_count": 82,
     "metadata": {},
     "output_type": "execute_result"
    }
   ],
   "source": [
    "df[df[\"CatParch\"] == \"yes\"][\"Survived\"].value_counts(normalize=True)"
   ]
  },
  {
   "cell_type": "code",
   "execution_count": 83,
   "id": "fdbbc9a6",
   "metadata": {},
   "outputs": [
    {
     "data": {
      "text/plain": [
       "0.0    0.657143\n",
       "1.0    0.342857\n",
       "Name: Survived, dtype: float64"
      ]
     },
     "execution_count": 83,
     "metadata": {},
     "output_type": "execute_result"
    }
   ],
   "source": [
    "df[df[\"CatParch\"] == \"no\"][\"Survived\"].value_counts(normalize=True)"
   ]
  },
  {
   "cell_type": "markdown",
   "id": "0b14104f",
   "metadata": {},
   "source": [
    "Para el caso de hermanos/cónyuges, se observa una mayor probabilidad de supervivencia para quienes tienen hermanos/cónyuges a bordo en comparación a quienes no tienen, con porcentajes de supervivencia de 47% y 35% respectivamente.\n",
    "\n",
    "Para el caso de padres/hijos, la probabilidad de supervivencia en dicho caso fue de 52% para quienes tenían padres/hijos a bordo, versus 34% para quienes no tenían. Dichos valores podrían explicarse en base a la edad, en tanto se puede observar que quienes tienen padres/hijos a bordo tienden a ser más jóvenes."
   ]
  },
  {
   "cell_type": "code",
   "execution_count": 84,
   "id": "a3f463ac",
   "metadata": {},
   "outputs": [
    {
     "data": {
      "text/plain": [
       "count    211.000000\n",
       "mean      23.986767\n",
       "std       17.154483\n",
       "min        0.420000\n",
       "25%        9.000000\n",
       "50%       23.000000\n",
       "75%       36.750000\n",
       "max       74.930553\n",
       "Name: Age, dtype: float64"
      ]
     },
     "execution_count": 84,
     "metadata": {},
     "output_type": "execute_result"
    }
   ],
   "source": [
    "df[df[\"CatParch\"] == \"yes\"][\"Age\"].describe()"
   ]
  },
  {
   "cell_type": "markdown",
   "id": "0fc40822",
   "metadata": {},
   "source": [
    "# Actividad 3: Visualización de los datos"
   ]
  },
  {
   "cell_type": "markdown",
   "id": "6f5ad1ea",
   "metadata": {},
   "source": [
    "Las cuatro gráficas solicitadas fueron renderizadas y descritas en la sección anterior para efectos de la comprensión de los datos."
   ]
  },
  {
   "cell_type": "markdown",
   "id": "0db18905",
   "metadata": {},
   "source": [
    "# Actvidad 4: Pre-procesamiento de los datos"
   ]
  },
  {
   "cell_type": "code",
   "execution_count": 157,
   "id": "63bb2f5e",
   "metadata": {
    "scrolled": false
   },
   "outputs": [
    {
     "data": {
      "text/html": [
       "<div>\n",
       "<style scoped>\n",
       "    .dataframe tbody tr th:only-of-type {\n",
       "        vertical-align: middle;\n",
       "    }\n",
       "\n",
       "    .dataframe tbody tr th {\n",
       "        vertical-align: top;\n",
       "    }\n",
       "\n",
       "    .dataframe thead th {\n",
       "        text-align: right;\n",
       "    }\n",
       "</style>\n",
       "<table border=\"1\" class=\"dataframe\">\n",
       "  <thead>\n",
       "    <tr style=\"text-align: right;\">\n",
       "      <th></th>\n",
       "      <th>Embarked</th>\n",
       "      <th>Pclass</th>\n",
       "      <th>Sex</th>\n",
       "      <th>Age</th>\n",
       "      <th>SibSp</th>\n",
       "      <th>Parch</th>\n",
       "      <th>Fare</th>\n",
       "      <th>Survived</th>\n",
       "      <th>CatParch</th>\n",
       "      <th>CatSibSp</th>\n",
       "      <th>AgeRange</th>\n",
       "      <th>CatFares</th>\n",
       "    </tr>\n",
       "    <tr>\n",
       "      <th>PassengerId</th>\n",
       "      <th></th>\n",
       "      <th></th>\n",
       "      <th></th>\n",
       "      <th></th>\n",
       "      <th></th>\n",
       "      <th></th>\n",
       "      <th></th>\n",
       "      <th></th>\n",
       "      <th></th>\n",
       "      <th></th>\n",
       "      <th></th>\n",
       "      <th></th>\n",
       "    </tr>\n",
       "  </thead>\n",
       "  <tbody>\n",
       "    <tr>\n",
       "      <th>1</th>\n",
       "      <td>S</td>\n",
       "      <td>3</td>\n",
       "      <td>male</td>\n",
       "      <td>22.0</td>\n",
       "      <td>1</td>\n",
       "      <td>0</td>\n",
       "      <td>7.2500</td>\n",
       "      <td>0.0</td>\n",
       "      <td>no</td>\n",
       "      <td>yes</td>\n",
       "      <td>17-32</td>\n",
       "      <td>3_low</td>\n",
       "    </tr>\n",
       "    <tr>\n",
       "      <th>2</th>\n",
       "      <td>C</td>\n",
       "      <td>1</td>\n",
       "      <td>female</td>\n",
       "      <td>38.0</td>\n",
       "      <td>1</td>\n",
       "      <td>0</td>\n",
       "      <td>71.2833</td>\n",
       "      <td>1.0</td>\n",
       "      <td>no</td>\n",
       "      <td>yes</td>\n",
       "      <td>33-48</td>\n",
       "      <td>1_low</td>\n",
       "    </tr>\n",
       "    <tr>\n",
       "      <th>3</th>\n",
       "      <td>S</td>\n",
       "      <td>3</td>\n",
       "      <td>female</td>\n",
       "      <td>26.0</td>\n",
       "      <td>0</td>\n",
       "      <td>0</td>\n",
       "      <td>7.9250</td>\n",
       "      <td>1.0</td>\n",
       "      <td>no</td>\n",
       "      <td>no</td>\n",
       "      <td>17-32</td>\n",
       "      <td>3_low</td>\n",
       "    </tr>\n",
       "    <tr>\n",
       "      <th>4</th>\n",
       "      <td>S</td>\n",
       "      <td>1</td>\n",
       "      <td>female</td>\n",
       "      <td>35.0</td>\n",
       "      <td>1</td>\n",
       "      <td>0</td>\n",
       "      <td>53.1000</td>\n",
       "      <td>1.0</td>\n",
       "      <td>no</td>\n",
       "      <td>yes</td>\n",
       "      <td>33-48</td>\n",
       "      <td>1_low</td>\n",
       "    </tr>\n",
       "    <tr>\n",
       "      <th>5</th>\n",
       "      <td>S</td>\n",
       "      <td>3</td>\n",
       "      <td>male</td>\n",
       "      <td>35.0</td>\n",
       "      <td>0</td>\n",
       "      <td>0</td>\n",
       "      <td>8.0500</td>\n",
       "      <td>0.0</td>\n",
       "      <td>no</td>\n",
       "      <td>no</td>\n",
       "      <td>33-48</td>\n",
       "      <td>3_low</td>\n",
       "    </tr>\n",
       "  </tbody>\n",
       "</table>\n",
       "</div>"
      ],
      "text/plain": [
       "            Embarked Pclass     Sex   Age  SibSp  Parch     Fare Survived  \\\n",
       "PassengerId                                                                 \n",
       "1                  S      3    male  22.0      1      0   7.2500      0.0   \n",
       "2                  C      1  female  38.0      1      0  71.2833      1.0   \n",
       "3                  S      3  female  26.0      0      0   7.9250      1.0   \n",
       "4                  S      1  female  35.0      1      0  53.1000      1.0   \n",
       "5                  S      3    male  35.0      0      0   8.0500      0.0   \n",
       "\n",
       "            CatParch CatSibSp AgeRange CatFares  \n",
       "PassengerId                                      \n",
       "1                 no      yes    17-32    3_low  \n",
       "2                 no      yes    33-48    1_low  \n",
       "3                 no       no    17-32    3_low  \n",
       "4                 no      yes    33-48    1_low  \n",
       "5                 no       no    33-48    3_low  "
      ]
     },
     "execution_count": 157,
     "metadata": {},
     "output_type": "execute_result"
    }
   ],
   "source": [
    "df.head()"
   ]
  },
  {
   "cell_type": "markdown",
   "id": "d11d8f6b",
   "metadata": {},
   "source": [
    "Para efectos de la comprensión de los datos (Actividad 2), se armaron variables categóricas basadas en rangos de valores de las variables continuas. A continuación, se procederá a instanciar una matriz de valores exclusivamente categóricos, y a codificar dichos valores para que todos queden en formato numérico."
   ]
  },
  {
   "cell_type": "code",
   "execution_count": 183,
   "id": "38f595fb",
   "metadata": {},
   "outputs": [],
   "source": [
    "from sklearn import preprocessing\n",
    "from sklearn.model_selection import train_test_split"
   ]
  },
  {
   "cell_type": "code",
   "execution_count": 162,
   "id": "21b7f05d",
   "metadata": {},
   "outputs": [],
   "source": [
    "cat_df = df[[\"Embarked\", \"Pclass\", \"Sex\", \"AgeRange\", \"CatSibSp\", \"CatParch\", \"CatFares\", \"Survived\"]]"
   ]
  },
  {
   "cell_type": "code",
   "execution_count": 165,
   "id": "97998950",
   "metadata": {},
   "outputs": [
    {
     "data": {
      "text/html": [
       "<div>\n",
       "<style scoped>\n",
       "    .dataframe tbody tr th:only-of-type {\n",
       "        vertical-align: middle;\n",
       "    }\n",
       "\n",
       "    .dataframe tbody tr th {\n",
       "        vertical-align: top;\n",
       "    }\n",
       "\n",
       "    .dataframe thead th {\n",
       "        text-align: right;\n",
       "    }\n",
       "</style>\n",
       "<table border=\"1\" class=\"dataframe\">\n",
       "  <thead>\n",
       "    <tr style=\"text-align: right;\">\n",
       "      <th></th>\n",
       "      <th>Embarked</th>\n",
       "      <th>Pclass</th>\n",
       "      <th>Sex</th>\n",
       "      <th>AgeRange</th>\n",
       "      <th>CatSibSp</th>\n",
       "      <th>CatParch</th>\n",
       "      <th>CatFares</th>\n",
       "      <th>Survived</th>\n",
       "    </tr>\n",
       "    <tr>\n",
       "      <th>PassengerId</th>\n",
       "      <th></th>\n",
       "      <th></th>\n",
       "      <th></th>\n",
       "      <th></th>\n",
       "      <th></th>\n",
       "      <th></th>\n",
       "      <th></th>\n",
       "      <th></th>\n",
       "    </tr>\n",
       "  </thead>\n",
       "  <tbody>\n",
       "    <tr>\n",
       "      <th>1</th>\n",
       "      <td>S</td>\n",
       "      <td>3</td>\n",
       "      <td>male</td>\n",
       "      <td>17-32</td>\n",
       "      <td>yes</td>\n",
       "      <td>no</td>\n",
       "      <td>3_low</td>\n",
       "      <td>0.0</td>\n",
       "    </tr>\n",
       "    <tr>\n",
       "      <th>2</th>\n",
       "      <td>C</td>\n",
       "      <td>1</td>\n",
       "      <td>female</td>\n",
       "      <td>33-48</td>\n",
       "      <td>yes</td>\n",
       "      <td>no</td>\n",
       "      <td>1_low</td>\n",
       "      <td>1.0</td>\n",
       "    </tr>\n",
       "    <tr>\n",
       "      <th>3</th>\n",
       "      <td>S</td>\n",
       "      <td>3</td>\n",
       "      <td>female</td>\n",
       "      <td>17-32</td>\n",
       "      <td>no</td>\n",
       "      <td>no</td>\n",
       "      <td>3_low</td>\n",
       "      <td>1.0</td>\n",
       "    </tr>\n",
       "    <tr>\n",
       "      <th>4</th>\n",
       "      <td>S</td>\n",
       "      <td>1</td>\n",
       "      <td>female</td>\n",
       "      <td>33-48</td>\n",
       "      <td>yes</td>\n",
       "      <td>no</td>\n",
       "      <td>1_low</td>\n",
       "      <td>1.0</td>\n",
       "    </tr>\n",
       "    <tr>\n",
       "      <th>5</th>\n",
       "      <td>S</td>\n",
       "      <td>3</td>\n",
       "      <td>male</td>\n",
       "      <td>33-48</td>\n",
       "      <td>no</td>\n",
       "      <td>no</td>\n",
       "      <td>3_low</td>\n",
       "      <td>0.0</td>\n",
       "    </tr>\n",
       "  </tbody>\n",
       "</table>\n",
       "</div>"
      ],
      "text/plain": [
       "            Embarked Pclass     Sex AgeRange CatSibSp CatParch CatFares  \\\n",
       "PassengerId                                                               \n",
       "1                  S      3    male    17-32      yes       no    3_low   \n",
       "2                  C      1  female    33-48      yes       no    1_low   \n",
       "3                  S      3  female    17-32       no       no    3_low   \n",
       "4                  S      1  female    33-48      yes       no    1_low   \n",
       "5                  S      3    male    33-48       no       no    3_low   \n",
       "\n",
       "            Survived  \n",
       "PassengerId           \n",
       "1                0.0  \n",
       "2                1.0  \n",
       "3                1.0  \n",
       "4                1.0  \n",
       "5                0.0  "
      ]
     },
     "execution_count": 165,
     "metadata": {},
     "output_type": "execute_result"
    }
   ],
   "source": [
    "cat_df.head()"
   ]
  },
  {
   "cell_type": "code",
   "execution_count": 167,
   "id": "7f732529",
   "metadata": {},
   "outputs": [],
   "source": [
    "# Instanciamos encoders\n",
    "\n",
    "embarked_enc = preprocessing.LabelEncoder()\n",
    "pclass_enc = preprocessing.LabelEncoder()\n",
    "sex_enc = preprocessing.LabelEncoder()\n",
    "agerange_enc = preprocessing.LabelEncoder()\n",
    "sibsp_enc = preprocessing.LabelEncoder()\n",
    "parch_enc = preprocessing.LabelEncoder()\n",
    "fares_enc = preprocessing.LabelEncoder()"
   ]
  },
  {
   "cell_type": "code",
   "execution_count": 268,
   "id": "dcabebcb",
   "metadata": {},
   "outputs": [],
   "source": [
    "# Definimos set de datos codificados\n",
    "\n",
    "enc_df = pd.DataFrame([\n",
    "    embarked_enc.fit_transform(cat_df[\"Embarked\"]).astype(int),\n",
    "    pclass_enc.fit_transform(cat_df[\"Pclass\"]).astype(int),\n",
    "    sex_enc.fit_transform(cat_df[\"Sex\"]).astype(int),\n",
    "    agerange_enc.fit_transform(cat_df[\"AgeRange\"]).astype(int),\n",
    "    sibsp_enc.fit_transform(cat_df[\"CatSibSp\"]).astype(int),\n",
    "    parch_enc.fit_transform(cat_df[\"CatParch\"]).astype(int),\n",
    "    fares_enc.fit_transform(cat_df[\"CatFares\"]).astype(int)\n",
    "]).T\n",
    "\n",
    "enc_df.columns =[\"Embarked\", \"Pclass\", \"Sex\", \"Age\", \"Sibsp\", \"Parch\", \"Fares\"]\n"
   ]
  },
  {
   "cell_type": "code",
   "execution_count": 293,
   "id": "53b6ee62",
   "metadata": {
    "scrolled": true
   },
   "outputs": [
    {
     "data": {
      "text/html": [
       "<div>\n",
       "<style scoped>\n",
       "    .dataframe tbody tr th:only-of-type {\n",
       "        vertical-align: middle;\n",
       "    }\n",
       "\n",
       "    .dataframe tbody tr th {\n",
       "        vertical-align: top;\n",
       "    }\n",
       "\n",
       "    .dataframe thead th {\n",
       "        text-align: right;\n",
       "    }\n",
       "</style>\n",
       "<table border=\"1\" class=\"dataframe\">\n",
       "  <thead>\n",
       "    <tr style=\"text-align: right;\">\n",
       "      <th></th>\n",
       "      <th>Embarked</th>\n",
       "      <th>Pclass</th>\n",
       "      <th>Sex</th>\n",
       "      <th>Age</th>\n",
       "      <th>Sibsp</th>\n",
       "      <th>Parch</th>\n",
       "      <th>Fares</th>\n",
       "    </tr>\n",
       "  </thead>\n",
       "  <tbody>\n",
       "    <tr>\n",
       "      <th>0</th>\n",
       "      <td>2</td>\n",
       "      <td>2</td>\n",
       "      <td>1</td>\n",
       "      <td>1</td>\n",
       "      <td>1</td>\n",
       "      <td>0</td>\n",
       "      <td>5</td>\n",
       "    </tr>\n",
       "    <tr>\n",
       "      <th>1</th>\n",
       "      <td>0</td>\n",
       "      <td>0</td>\n",
       "      <td>0</td>\n",
       "      <td>2</td>\n",
       "      <td>1</td>\n",
       "      <td>0</td>\n",
       "      <td>1</td>\n",
       "    </tr>\n",
       "    <tr>\n",
       "      <th>2</th>\n",
       "      <td>2</td>\n",
       "      <td>2</td>\n",
       "      <td>0</td>\n",
       "      <td>1</td>\n",
       "      <td>0</td>\n",
       "      <td>0</td>\n",
       "      <td>5</td>\n",
       "    </tr>\n",
       "    <tr>\n",
       "      <th>3</th>\n",
       "      <td>2</td>\n",
       "      <td>0</td>\n",
       "      <td>0</td>\n",
       "      <td>2</td>\n",
       "      <td>1</td>\n",
       "      <td>0</td>\n",
       "      <td>1</td>\n",
       "    </tr>\n",
       "    <tr>\n",
       "      <th>4</th>\n",
       "      <td>2</td>\n",
       "      <td>2</td>\n",
       "      <td>1</td>\n",
       "      <td>2</td>\n",
       "      <td>0</td>\n",
       "      <td>0</td>\n",
       "      <td>5</td>\n",
       "    </tr>\n",
       "  </tbody>\n",
       "</table>\n",
       "</div>"
      ],
      "text/plain": [
       "   Embarked  Pclass  Sex  Age  Sibsp  Parch  Fares\n",
       "0         2       2    1    1      1      0      5\n",
       "1         0       0    0    2      1      0      1\n",
       "2         2       2    0    1      0      0      5\n",
       "3         2       0    0    2      1      0      1\n",
       "4         2       2    1    2      0      0      5"
      ]
     },
     "execution_count": 293,
     "metadata": {},
     "output_type": "execute_result"
    }
   ],
   "source": [
    "enc_df.head()"
   ]
  },
  {
   "cell_type": "code",
   "execution_count": 426,
   "id": "03aa48f9",
   "metadata": {},
   "outputs": [],
   "source": [
    "# Definimos variables independientes (X)\n",
    "\n",
    "X = enc_df\n",
    "\n",
    "# Definimos variable dependiente (y)\n",
    "\n",
    "y = cat_df[\"Survived\"].astype(int)"
   ]
  },
  {
   "cell_type": "markdown",
   "id": "95494032",
   "metadata": {},
   "source": [
    "A continuación, se definen los conjuntos de entrenamiento, validación y testeo.\n",
    "\n",
    "#### Proporciones usadas para cada set\n",
    "\n",
    "Para la definición de proporciones, se reservaran (en base a la \"Rule of Thumb\" mencionada en la clase de introducción a Machine Learning) un 80% de los datos a entrenamiento, un 10% a validación y el 10% restante a testeo. \n",
    "\n",
    "La proporción de datos dedicados a entrenamiento se decidió de al manera en en tanto no se dispone de una cantidad tan vasta de datos, de modo que al asignar una mayor cantidad de instancias a entrenamiento, se reduce la posibilidad de sesgo en el entrenamiento del modelo. \n",
    "\n",
    "#### Definición de conjunto de validación\n",
    "\n",
    "Se reserva una proporción de los datos en un conjunto de validación con el propósito de disponer de datos específicos para ajustar los hiperparámetros del arbol de decisión. Es importante que se usen instancias diferentes a las que posteriormente serán usadas para testear el rendimiento del árbol, dado que al ajustar hiperparámetros le damos  información al modelo sobre el conjunto de datos sobre el que probamos los hiperparámetros, de modo que si posteriormente ponemos a prueba el modelo en dichos datos, posiblemente el desempeño resultante sería una sobrestimación del rendimiento real.\n"
   ]
  },
  {
   "cell_type": "code",
   "execution_count": 281,
   "id": "9ce24da0",
   "metadata": {},
   "outputs": [],
   "source": [
    "# Definimos conjunto de entrenamiento\n",
    "\n",
    "X_train, X_remaining, y_train, y_remaining = train_test_split(\n",
    "    X,\n",
    "    y, \n",
    "    test_size=0.2,\n",
    "    shuffle=True,\n",
    "    stratify=y\n",
    ")"
   ]
  },
  {
   "cell_type": "code",
   "execution_count": 282,
   "id": "7c45edbc",
   "metadata": {},
   "outputs": [],
   "source": [
    "# Definimos conjuntos de validación y testeo en base a los datos restantes\n",
    "\n",
    "X_validation, X_test, y_validation, y_test = train_test_split(\n",
    "    X_remaining, \n",
    "    y_remaining, \n",
    "    test_size=0.5,\n",
    "    shuffle=True,\n",
    "    stratify=y_remaining\n",
    ")"
   ]
  },
  {
   "cell_type": "markdown",
   "id": "76bf9352",
   "metadata": {},
   "source": [
    "#### Instancias de variable \"Survived\" en cada set\n",
    "\n",
    "La proporción de instancias de pasajeros sobrevivientes en cada uno de los conjuntos definidos está adecuadamente balanceadas, en tanto las proporciones observadas en el conjunto completo de datos se preservan en los demás conjuntos definidos. Esto es así dado a que al armar los conjuntos, se estratificó la muestra en base a las proporciones presentes en el conjunto completo de datos.\n",
    "\n",
    "El tener conjuntos de entrenamiento, validación y testeo con las mismas proporciones de valores en la variable a predecir es importante debido a que, de no existir dicho balance, el entrenamiento del modelo se llevaría a cabo de manera sesgada, lo que llevaría al modelo a predecir de manera sesgada. Por ejemplo, si en el conjunto de entrenamiento tuviésemos una proporción 50-50 entre supuerviventes y no supervivientes, pero en el conjunto de testeo tuvieremos una proporción de 40-60, el modelo tendería a sobrestimar la cantidad de supervivientes al ser testeado, lo que implica que el rendimiento sería deficiente."
   ]
  },
  {
   "cell_type": "code",
   "execution_count": 283,
   "id": "b724658e",
   "metadata": {},
   "outputs": [
    {
     "data": {
      "text/plain": [
       "0    0.615297\n",
       "1    0.384703\n",
       "Name: Survived, dtype: float64"
      ]
     },
     "execution_count": 283,
     "metadata": {},
     "output_type": "execute_result"
    }
   ],
   "source": [
    "# Verificamos las proporciones de los conjuntos de datos recién armados\n",
    "\n",
    "y.value_counts(normalize=True)"
   ]
  },
  {
   "cell_type": "code",
   "execution_count": 284,
   "id": "b363cfca",
   "metadata": {},
   "outputs": [
    {
     "data": {
      "text/plain": [
       "0    0.615714\n",
       "1    0.384286\n",
       "Name: Survived, dtype: float64"
      ]
     },
     "execution_count": 284,
     "metadata": {},
     "output_type": "execute_result"
    }
   ],
   "source": [
    "\n",
    "y_train.value_counts(normalize=True)"
   ]
  },
  {
   "cell_type": "code",
   "execution_count": 285,
   "id": "bd8659e4",
   "metadata": {
    "scrolled": true
   },
   "outputs": [
    {
     "data": {
      "text/plain": [
       "0    0.613636\n",
       "1    0.386364\n",
       "Name: Survived, dtype: float64"
      ]
     },
     "execution_count": 285,
     "metadata": {},
     "output_type": "execute_result"
    }
   ],
   "source": [
    "y_validation.value_counts(normalize=True)"
   ]
  },
  {
   "cell_type": "code",
   "execution_count": 286,
   "id": "41f4bb87",
   "metadata": {},
   "outputs": [
    {
     "data": {
      "text/plain": [
       "0    0.613636\n",
       "1    0.386364\n",
       "Name: Survived, dtype: float64"
      ]
     },
     "execution_count": 286,
     "metadata": {},
     "output_type": "execute_result"
    }
   ],
   "source": [
    "y_test.value_counts(normalize=True)"
   ]
  },
  {
   "cell_type": "markdown",
   "id": "cb904067",
   "metadata": {},
   "source": [
    "# Actividad 5: Entrenamiento de arbol de decisión"
   ]
  },
  {
   "cell_type": "code",
   "execution_count": 380,
   "id": "e9c4b2aa",
   "metadata": {},
   "outputs": [],
   "source": [
    "from sklearn import tree\n",
    "from sklearn import metrics"
   ]
  },
  {
   "cell_type": "markdown",
   "id": "d0ce678e",
   "metadata": {},
   "source": [
    "A continuación, se instancian 24 árboles de decisión en base a tres criterios de decisión (gini, entropía, log_loss), dos estrategias de particion de nodos (best, random) y 4 posibles niveles de profundidad (2, 3, 4, 5). Se midió el accuracy para dichos árboles en el set de validación, de manera tal que se tomará el árbol con mayor acuracy para ser evaluado en el set de test."
   ]
  },
  {
   "cell_type": "code",
   "execution_count": 381,
   "id": "12164ca1",
   "metadata": {},
   "outputs": [],
   "source": [
    "# Iteración de hiperparámetros de árbol de decisión\n",
    "\n",
    "trees = []\n",
    "\n",
    "criteria = [\"gini\", \"entropy\", \"log_loss\"]\n",
    "splitters = [\"best\", \"random\"]\n",
    "depths = [i for i in range(2, 6)]\n",
    "\n",
    "for criterion in criteria:\n",
    "    for splitter in splitters:\n",
    "        for depth in depths:\n",
    "            clf = tree.DecisionTreeClassifier(\n",
    "                criterion=criterion,\n",
    "                splitter=splitter,\n",
    "                max_depth=depth\n",
    "            )\n",
    "            # Instanciamos árbol y predecimos\n",
    "            clf = clf.fit(X_train.to_numpy(), y_train.to_numpy())\n",
    "            y_validation_pred = clf.predict(X_validation.to_numpy())\n",
    "            \n",
    "            # Calculamos accuracy\n",
    "            acc = metrics.accuracy_score(y_validation, y_validation_pred)\n",
    "            \n",
    "            trees.append(\n",
    "                (acc, clf)\n",
    "            )\n"
   ]
  },
  {
   "cell_type": "code",
   "execution_count": 382,
   "id": "c6d72c54",
   "metadata": {},
   "outputs": [],
   "source": [
    "trees.sort(key=lambda x: x[0])"
   ]
  },
  {
   "cell_type": "code",
   "execution_count": 383,
   "id": "fb3d1f23",
   "metadata": {},
   "outputs": [],
   "source": [
    "# Tomamos el árbol con mayor accuracy\n",
    "\n",
    "tree_clf = trees[-1][1]"
   ]
  },
  {
   "cell_type": "code",
   "execution_count": 384,
   "id": "7f3766a2",
   "metadata": {},
   "outputs": [],
   "source": [
    "# Ponemos a prueba el árbol seleccionado en el set de testeo\n",
    "\n",
    "y_test_pred = tree_clf.predict(X_test.to_numpy())"
   ]
  },
  {
   "cell_type": "code",
   "execution_count": 385,
   "id": "5325faf7",
   "metadata": {
    "scrolled": true
   },
   "outputs": [
    {
     "name": "stdout",
     "output_type": "stream",
     "text": [
      "              precision    recall  f1-score   support\n",
      "\n",
      "           0       0.81      0.94      0.87        54\n",
      "           1       0.88      0.65      0.75        34\n",
      "\n",
      "    accuracy                           0.83        88\n",
      "   macro avg       0.84      0.80      0.81        88\n",
      "weighted avg       0.84      0.83      0.82        88\n",
      "\n"
     ]
    }
   ],
   "source": [
    "# Métricas de desempeño de clasificación\n",
    "\n",
    "tree_validation_metrics = metrics.classification_report(\n",
    "    y_true=y_test,\n",
    "    y_pred=y_test_pred\n",
    ")\n",
    "\n",
    "print(tree_validation_metrics)"
   ]
  },
  {
   "cell_type": "markdown",
   "id": "0db36df4",
   "metadata": {},
   "source": [
    "#### Comentario sobre rendimiento del árbol de decisión\n",
    "\n",
    "Se observa un rendimiento superior al 65% en el set de testeo."
   ]
  },
  {
   "cell_type": "markdown",
   "id": "28b6f2bb",
   "metadata": {},
   "source": [
    "# Actividad 6: Ensamblaje personalizado"
   ]
  },
  {
   "cell_type": "code",
   "execution_count": 576,
   "id": "6ef5448b",
   "metadata": {},
   "outputs": [],
   "source": [
    "class CustomRandomForest():\n",
    "    \n",
    "    def __init__(self, w1=0.5, w2=0.3, w3=0.2, **kwargs):\n",
    "        \n",
    "        # Clasificadores\n",
    "        \n",
    "        self.__clf1 = tree.DecisionTreeClassifier(**kwargs)\n",
    "        self.__clf2 = tree.DecisionTreeClassifier(**kwargs)\n",
    "        self.__clf3 = tree.DecisionTreeClassifier(**kwargs)\n",
    "        \n",
    "        # Pesos (deben sumar 1)\n",
    "        \n",
    "        assert w1 + w2 + w3 > 0.9999999\n",
    "        \n",
    "        self.__w1 = w1\n",
    "        self.__w2 = w2\n",
    "        self.__w3 = w3\n",
    "        \n",
    "\n",
    "    def fit(self, X, y, ):\n",
    "\n",
    "        # Arbol 1\n",
    "\n",
    "        clf1_X_train,clf1_X_test, clf1_y_train, clf1_y_test = train_test_split(\n",
    "            X, \n",
    "            y, \n",
    "            test_size=0.4,\n",
    "            stratify=y\n",
    "        )\n",
    "\n",
    "        self.__clf1 = self.__clf1.fit(clf1_X_train, clf1_y_train)\n",
    "        clf1_pred = self.__clf1.predict(clf1_X_test)\n",
    "\n",
    "        clf1_wrong_X = clf1_X_test[np.where(clf1_pred != clf1_y_test)]\n",
    "        clf1_wrong_y = clf1_y_test[np.where(clf1_pred != clf1_y_test)]\n",
    "\n",
    "        # Arbol 2\n",
    "\n",
    "        clf2_X_train, clf2_X_test, clf2_y_train, clf2_y_test = train_test_split(\n",
    "            clf1_wrong_X, \n",
    "            clf1_wrong_y, \n",
    "            test_size=0.4,\n",
    "            stratify=clf1_wrong_y\n",
    "        )\n",
    "\n",
    "        self.__clf2 = self.__clf2.fit(clf2_X_train, clf2_y_train)\n",
    "        clf2_pred = self.__clf2.predict(clf2_X_test)\n",
    "\n",
    "        clf2_wrong_X = clf2_X_test[np.where(clf2_pred != clf2_y_test)]\n",
    "        clf2_wrong_y = clf2_y_test[np.where(clf2_pred != clf2_y_test)]\n",
    "\n",
    "        # Arbol 3\n",
    "\n",
    "        clf12_wrong_X = np.concatenate([clf1_wrong_X, clf2_wrong_X])\n",
    "        clf12_wrong_y = np.concatenate([clf1_wrong_y, clf2_wrong_y])\n",
    "\n",
    "        self.__clf3 = self.__clf3.fit(clf12_wrong_X, clf12_wrong_y)\n",
    "\n",
    "        return self\n",
    "\n",
    "    def predict(self, X_test):\n",
    "        \n",
    "        predict_proba =  self.__w1 * self.__clf1.predict_proba(X_test)\n",
    "        + self.__w1 * self.__clf1.predict_proba(X_test) \n",
    "        + self.__w1 * self.__clf1.predict_proba(X_test)\n",
    "    \n",
    "        return np.array(\n",
    "            [n for n in map(lambda x: 0 if x[0] >= x[1] else 1, predict_proba)]\n",
    "        )"
   ]
  },
  {
   "cell_type": "markdown",
   "id": "bdbe8299",
   "metadata": {},
   "source": [
    "Notar que el el método ```fit``` del ensamble personalizado, se usa una proporción alta (40%) del set de datos para testeo. Esto tiene el propósito de evitar que el conjunto de clasificaciones erroneas sea muy pequeño, dado que cuando pasa eso, no es posible usar dichos datos para entrenar al siguiente árbol."
   ]
  },
  {
   "cell_type": "code",
   "execution_count": 577,
   "id": "3b844df7",
   "metadata": {},
   "outputs": [
    {
     "data": {
      "text/plain": [
       "array([0, 0, 0, 0, 0, 0, 1, 0, 0, 0, 1, 0, 0, 1, 0, 0, 0, 0, 0, 0, 0, 0,\n",
       "       1, 1, 0, 0, 0, 0, 1, 1, 1, 0, 0, 1, 0, 0, 1, 0, 0, 0, 1, 1, 0, 0,\n",
       "       0, 1, 0, 1, 0, 0, 0, 0, 1, 0, 0, 0, 1, 0, 0, 1, 1, 0, 1, 1, 0, 1,\n",
       "       0, 1, 0, 1, 0, 0, 1, 1, 1, 1, 0, 1, 0, 0, 0, 0, 0, 0, 1, 1, 0, 0,\n",
       "       0, 1, 0, 0, 0, 0, 0, 0, 0, 0, 1, 1, 0, 0, 0, 1, 0, 0, 0, 0, 0, 1,\n",
       "       0, 0, 0, 1, 0, 0, 0, 0, 1, 0, 0, 1, 0, 0, 1, 0, 0, 1, 0, 0, 0, 1,\n",
       "       0, 1, 1, 0, 1, 0, 0, 0, 0, 1, 0, 1, 0, 0, 0, 0, 1, 0, 1, 0, 1, 0,\n",
       "       0, 1, 0, 0, 1, 1, 0, 0, 0, 0, 1, 0, 0, 0, 0, 1, 0, 0, 1, 1, 0, 0])"
      ]
     },
     "execution_count": 577,
     "metadata": {},
     "output_type": "execute_result"
    }
   ],
   "source": [
    "# Testeo de módulo\n",
    "\n",
    "inner_X = X.copy()\n",
    "inner_y = y.copy()\n",
    "\n",
    "inner_X_train,inner_X_test, inner_y_train, inner_y_test = train_test_split(\n",
    "    inner_X.to_numpy(), \n",
    "    inner_y.to_numpy(), \n",
    "    test_size=0.2,\n",
    "    stratify=inner_y\n",
    ")\n",
    "\n",
    "custom_clf = CustomRandomForest()\n",
    "custom_clf = custom_clf.fit(inner_X_train, inner_y_train)\n",
    "custom_clf.predict(inner_X_test)"
   ]
  },
  {
   "cell_type": "code",
   "execution_count": 578,
   "id": "0e27b497",
   "metadata": {},
   "outputs": [],
   "source": [
    "# Iteración de hiperparámetros del ensamble personalizado\n",
    "\n",
    "custom_forests = []\n",
    "\n",
    "criteria = [\"gini\", \"entropy\", \"log_loss\"]\n",
    "splitters = [\"best\", \"random\"]\n",
    "depths = [i for i in range(2, 6)]\n",
    "\n",
    "for criterion in criteria:\n",
    "    for splitter in splitters:\n",
    "        for depth in depths:\n",
    "            clf = CustomRandomForest(\n",
    "                criterion=criterion,\n",
    "                splitter=splitter,\n",
    "                max_depth=depth\n",
    "            )\n",
    "            # Instanciamos árbol y predecimos\n",
    "            clf = clf.fit(X_train.to_numpy(), y_train.to_numpy())\n",
    "            y_validation_pred = clf.predict(X_validation.to_numpy())\n",
    "            \n",
    "            # Calculamos accuracy\n",
    "            acc = metrics.accuracy_score(y_validation, y_validation_pred)\n",
    "            \n",
    "            custom_forests.append(\n",
    "                (acc, clf)\n",
    "            )\n"
   ]
  },
  {
   "cell_type": "code",
   "execution_count": 579,
   "id": "cac2c476",
   "metadata": {},
   "outputs": [],
   "source": [
    "custom_forests.sort(key=lambda x: x[0])"
   ]
  },
  {
   "cell_type": "code",
   "execution_count": 580,
   "id": "36b4a8e4",
   "metadata": {},
   "outputs": [],
   "source": [
    "# Tomamos el ensamble con mayor accuracy\n",
    "\n",
    "custom_clf = custom_forests[-1][1]"
   ]
  },
  {
   "cell_type": "code",
   "execution_count": 581,
   "id": "a45d8131",
   "metadata": {},
   "outputs": [],
   "source": [
    "# Ponemos a prueba el ensamble seleccionado en el set de testeo\n",
    "\n",
    "y_test_custom_pred = custom_clf.predict(X_test.to_numpy())"
   ]
  },
  {
   "cell_type": "code",
   "execution_count": 582,
   "id": "02cb56ef",
   "metadata": {
    "scrolled": true
   },
   "outputs": [
    {
     "name": "stdout",
     "output_type": "stream",
     "text": [
      "              precision    recall  f1-score   support\n",
      "\n",
      "           0       0.81      0.94      0.87        54\n",
      "           1       0.88      0.65      0.75        34\n",
      "\n",
      "    accuracy                           0.83        88\n",
      "   macro avg       0.84      0.80      0.81        88\n",
      "weighted avg       0.84      0.83      0.82        88\n",
      "\n"
     ]
    }
   ],
   "source": [
    "# Métricas de desempeño de clasificación\n",
    "\n",
    "custom_forest_validation_metrics = metrics.classification_report(\n",
    "    y_true=y_test,\n",
    "    y_pred=y_test_custom_pred\n",
    ")\n",
    "\n",
    "print(tree_validation_metrics)"
   ]
  },
  {
   "cell_type": "markdown",
   "id": "239c7ac1",
   "metadata": {},
   "source": [
    "#### Comentario sobre el rendimiento del ensamble personalizado\n",
    "\n",
    "Se observa un rendimiento superior al 65% solicitado en el set de testeo, con precisiones altas para supervivientes y no supervivientes. Los resultados son en buena medida equivalentes a los de un árbol de decisión individual, lo que no sugiere ventajas para este modelo."
   ]
  },
  {
   "cell_type": "markdown",
   "id": "c8639708",
   "metadata": {},
   "source": [
    "# Actividad 7: Entrenamiento de Random Forest "
   ]
  },
  {
   "cell_type": "code",
   "execution_count": 338,
   "id": "633c6ce2",
   "metadata": {},
   "outputs": [],
   "source": [
    "from sklearn.ensemble import RandomForestClassifier"
   ]
  },
  {
   "cell_type": "code",
   "execution_count": 367,
   "id": "54cd5127",
   "metadata": {},
   "outputs": [],
   "source": [
    "# Iteración de hiperparámetros de árbol de random forest\n",
    "\n",
    "forests = []\n",
    "\n",
    "criteria = [\"gini\", \"entropy\", \"log_loss\"]\n",
    "depths = [i for i in range(2, 5)]\n",
    "random_features_num = [i for i in range(2, 8)]\n",
    "\n",
    "for criterion in criteria:\n",
    "    for features in random_features_num:\n",
    "        for depth in depths:\n",
    "            clf = RandomForestClassifier(\n",
    "                criterion=criterion,\n",
    "                max_depth=depth,\n",
    "                max_features=features\n",
    "            )\n",
    "            # Instanciamos árbol y predecimos\n",
    "            clf = clf.fit(X_train.to_numpy(), y_train.to_numpy())\n",
    "            y_validation_pred = clf.predict(X_validation.to_numpy())\n",
    "\n",
    "            # Calculamos accuracy\n",
    "            acc = metrics.accuracy_score(y_validation, y_validation_pred)\n",
    "\n",
    "            forests.append(\n",
    "                (acc, clf)\n",
    "            )\n"
   ]
  },
  {
   "cell_type": "code",
   "execution_count": 368,
   "id": "129eca1d",
   "metadata": {},
   "outputs": [],
   "source": [
    "forests.sort(key=lambda x: x[0])"
   ]
  },
  {
   "cell_type": "code",
   "execution_count": 369,
   "id": "63d4a086",
   "metadata": {},
   "outputs": [],
   "source": [
    "# Tomamos el Randon Forest con mayor accuracy\n",
    "\n",
    "forest = forests[-1][1]"
   ]
  },
  {
   "cell_type": "code",
   "execution_count": 370,
   "id": "d0adaa99",
   "metadata": {},
   "outputs": [],
   "source": [
    "# Ponemos a prueba el forest seleccionado en el set de testeo\n",
    "\n",
    "y_forest_test_pred = forest.predict(X_test.to_numpy())"
   ]
  },
  {
   "cell_type": "code",
   "execution_count": 371,
   "id": "8ce8c639",
   "metadata": {},
   "outputs": [
    {
     "name": "stdout",
     "output_type": "stream",
     "text": [
      "              precision    recall  f1-score   support\n",
      "\n",
      "           0       0.81      0.93      0.86        54\n",
      "           1       0.85      0.65      0.73        34\n",
      "\n",
      "    accuracy                           0.82        88\n",
      "   macro avg       0.83      0.79      0.80        88\n",
      "weighted avg       0.82      0.82      0.81        88\n",
      "\n"
     ]
    }
   ],
   "source": [
    "# Métricas de desempeño de clasificación\n",
    "\n",
    "forest_validation_metrics = metrics.classification_report(\n",
    "    y_true=y_test,\n",
    "    y_pred=y_forest_test_pred\n",
    ")\n",
    "\n",
    "print(forest_validation_metrics)"
   ]
  },
  {
   "cell_type": "markdown",
   "id": "ff76b9a7",
   "metadata": {},
   "source": [
    "#### Comentario sobre rendimiento de Random Forest\n",
    "\n",
    "Se observa un rendimiento superior al 65% solicitado en el set de testeo. Se observa un rendimiento ligeramente inferior al del árbol de deisión individual y al ensamble personalizado."
   ]
  }
 ],
 "metadata": {
  "kernelspec": {
   "display_name": "Python 3 (ipykernel)",
   "language": "python",
   "name": "python3"
  },
  "language_info": {
   "codemirror_mode": {
    "name": "ipython",
    "version": 3
   },
   "file_extension": ".py",
   "mimetype": "text/x-python",
   "name": "python",
   "nbconvert_exporter": "python",
   "pygments_lexer": "ipython3",
   "version": "3.9.7"
  }
 },
 "nbformat": 4,
 "nbformat_minor": 5
}

{
 "cells": [
  {
   "cell_type": "markdown",
   "id": "4995862d",
   "metadata": {},
   "source": [
    "# Pregunta 2 tarea 3: Tomás Couso Coddou"
   ]
  },
  {
   "cell_type": "code",
   "execution_count": 1,
   "id": "4799bd32",
   "metadata": {},
   "outputs": [],
   "source": [
    "import pandas as pd\n",
    "import numpy as np"
   ]
  },
  {
   "cell_type": "code",
   "execution_count": 299,
   "id": "6a9576f5",
   "metadata": {},
   "outputs": [],
   "source": [
    "n_alumno = 18211933"
   ]
  },
  {
   "cell_type": "code",
   "execution_count": 346,
   "id": "2cd496bb",
   "metadata": {},
   "outputs": [],
   "source": [
    "np.random.seed(n_alumno)"
   ]
  },
  {
   "cell_type": "code",
   "execution_count": 2,
   "id": "e1ad2bda",
   "metadata": {},
   "outputs": [],
   "source": [
    "df = pd.read_csv(\"data/bd_noticias.csv\")"
   ]
  },
  {
   "cell_type": "code",
   "execution_count": 3,
   "id": "32153082",
   "metadata": {
    "scrolled": false
   },
   "outputs": [
    {
     "data": {
      "text/html": [
       "<div>\n",
       "<style scoped>\n",
       "    .dataframe tbody tr th:only-of-type {\n",
       "        vertical-align: middle;\n",
       "    }\n",
       "\n",
       "    .dataframe tbody tr th {\n",
       "        vertical-align: top;\n",
       "    }\n",
       "\n",
       "    .dataframe thead th {\n",
       "        text-align: right;\n",
       "    }\n",
       "</style>\n",
       "<table border=\"1\" class=\"dataframe\">\n",
       "  <thead>\n",
       "    <tr style=\"text-align: right;\">\n",
       "      <th></th>\n",
       "      <th>news_headline</th>\n",
       "      <th>news_article</th>\n",
       "      <th>news_category</th>\n",
       "    </tr>\n",
       "  </thead>\n",
       "  <tbody>\n",
       "    <tr>\n",
       "      <th>0</th>\n",
       "      <td>General Motors to not acquire 11% stake in Nikola</td>\n",
       "      <td>General Motors (GM) and Nikola on Monday annou...</td>\n",
       "      <td>automobile</td>\n",
       "    </tr>\n",
       "    <tr>\n",
       "      <th>1</th>\n",
       "      <td>Prithvi Shaw hits Rohit Sharma with a stray th...</td>\n",
       "      <td>Team India vice-captain Rohit Sharma was hit o...</td>\n",
       "      <td>sports</td>\n",
       "    </tr>\n",
       "    <tr>\n",
       "      <th>2</th>\n",
       "      <td>China becomes second nation to plant flag on t...</td>\n",
       "      <td>China has become the second country in history...</td>\n",
       "      <td>science</td>\n",
       "    </tr>\n",
       "    <tr>\n",
       "      <th>3</th>\n",
       "      <td>Bricks hurled at BJP chief Nadda's convoy in B...</td>\n",
       "      <td>Bricks were hurled at the car convoy of BJP Na...</td>\n",
       "      <td>politics</td>\n",
       "    </tr>\n",
       "    <tr>\n",
       "      <th>4</th>\n",
       "      <td>Jaguar Land Rover seeks US ban on Audi, other ...</td>\n",
       "      <td>Jaguar Land Rover (JLR) has urged the US to im...</td>\n",
       "      <td>automobile</td>\n",
       "    </tr>\n",
       "  </tbody>\n",
       "</table>\n",
       "</div>"
      ],
      "text/plain": [
       "                                       news_headline  \\\n",
       "0  General Motors to not acquire 11% stake in Nikola   \n",
       "1  Prithvi Shaw hits Rohit Sharma with a stray th...   \n",
       "2  China becomes second nation to plant flag on t...   \n",
       "3  Bricks hurled at BJP chief Nadda's convoy in B...   \n",
       "4  Jaguar Land Rover seeks US ban on Audi, other ...   \n",
       "\n",
       "                                        news_article news_category  \n",
       "0  General Motors (GM) and Nikola on Monday annou...    automobile  \n",
       "1  Team India vice-captain Rohit Sharma was hit o...        sports  \n",
       "2  China has become the second country in history...       science  \n",
       "3  Bricks were hurled at the car convoy of BJP Na...      politics  \n",
       "4  Jaguar Land Rover (JLR) has urged the US to im...    automobile  "
      ]
     },
     "execution_count": 3,
     "metadata": {},
     "output_type": "execute_result"
    }
   ],
   "source": [
    "df.head()"
   ]
  },
  {
   "cell_type": "code",
   "execution_count": 11,
   "id": "37d67564",
   "metadata": {},
   "outputs": [
    {
     "data": {
      "text/html": [
       "<div>\n",
       "<style scoped>\n",
       "    .dataframe tbody tr th:only-of-type {\n",
       "        vertical-align: middle;\n",
       "    }\n",
       "\n",
       "    .dataframe tbody tr th {\n",
       "        vertical-align: top;\n",
       "    }\n",
       "\n",
       "    .dataframe thead th {\n",
       "        text-align: right;\n",
       "    }\n",
       "</style>\n",
       "<table border=\"1\" class=\"dataframe\">\n",
       "  <thead>\n",
       "    <tr style=\"text-align: right;\">\n",
       "      <th></th>\n",
       "      <th>news_headline</th>\n",
       "      <th>news_article</th>\n",
       "      <th>news_category</th>\n",
       "    </tr>\n",
       "  </thead>\n",
       "  <tbody>\n",
       "    <tr>\n",
       "      <th>count</th>\n",
       "      <td>6226</td>\n",
       "      <td>6226</td>\n",
       "      <td>6226</td>\n",
       "    </tr>\n",
       "    <tr>\n",
       "      <th>unique</th>\n",
       "      <td>2020</td>\n",
       "      <td>2043</td>\n",
       "      <td>4</td>\n",
       "    </tr>\n",
       "    <tr>\n",
       "      <th>top</th>\n",
       "      <td>Own a car without buying it : Revv Subscriptions</td>\n",
       "      <td>You can now drive a new car every month as Rev...</td>\n",
       "      <td>sports</td>\n",
       "    </tr>\n",
       "    <tr>\n",
       "      <th>freq</th>\n",
       "      <td>41</td>\n",
       "      <td>41</td>\n",
       "      <td>1900</td>\n",
       "    </tr>\n",
       "  </tbody>\n",
       "</table>\n",
       "</div>"
      ],
      "text/plain": [
       "                                           news_headline  \\\n",
       "count                                               6226   \n",
       "unique                                              2020   \n",
       "top     Own a car without buying it : Revv Subscriptions   \n",
       "freq                                                  41   \n",
       "\n",
       "                                             news_article news_category  \n",
       "count                                                6226          6226  \n",
       "unique                                               2043             4  \n",
       "top     You can now drive a new car every month as Rev...        sports  \n",
       "freq                                                   41          1900  "
      ]
     },
     "execution_count": 11,
     "metadata": {},
     "output_type": "execute_result"
    }
   ],
   "source": [
    "df.describe()"
   ]
  },
  {
   "cell_type": "code",
   "execution_count": 6,
   "id": "59d2ee6e",
   "metadata": {
    "scrolled": true
   },
   "outputs": [
    {
     "data": {
      "text/plain": [
       "news_headline    False\n",
       "news_article     False\n",
       "news_category    False\n",
       "dtype: bool"
      ]
     },
     "execution_count": 6,
     "metadata": {},
     "output_type": "execute_result"
    }
   ],
   "source": [
    "# Verificamos la presencia de datos nulos\n",
    "\n",
    "df.isnull().any()"
   ]
  },
  {
   "cell_type": "code",
   "execution_count": 234,
   "id": "0d0c8e26",
   "metadata": {},
   "outputs": [
    {
     "data": {
      "text/plain": [
       "sports        1900\n",
       "politics      1596\n",
       "science       1437\n",
       "automobile    1293\n",
       "Name: news_category, dtype: int64"
      ]
     },
     "execution_count": 234,
     "metadata": {},
     "output_type": "execute_result"
    }
   ],
   "source": [
    "# Verificamos el número de categorías de noticias existentes\n",
    "\n",
    "df[\"news_category\"].value_counts()"
   ]
  },
  {
   "cell_type": "code",
   "execution_count": 125,
   "id": "aa121fc8",
   "metadata": {},
   "outputs": [],
   "source": [
    "from sklearn.preprocessing import LabelEncoder"
   ]
  },
  {
   "cell_type": "code",
   "execution_count": 128,
   "id": "03fc2e6b",
   "metadata": {},
   "outputs": [],
   "source": [
    "# Definimos una codificación numérica para las categorías de noticias\n",
    "\n",
    "news_cat_enc = LabelEncoder()\n",
    "num_news_cat = news_cat_enc.fit_transform(df[\"news_category\"].to_numpy())"
   ]
  },
  {
   "cell_type": "markdown",
   "id": "66b20ecf",
   "metadata": {},
   "source": [
    "## Actividad 1: IA y el procesamiento de lenguaje natural\n",
    "\n",
    "La principal dificultad de usar datos de lenguaje natural tiene que ver con cómo podemos hallar una representación global del lenguaje y traducirla a una estructura matemática. Esto se debe principalmente a dificultades asociadas a la forma en que el contexto determina el significado de una expresión lingüística. Se mencionan a continuación tres:\n",
    "\n",
    "### Dificultad 1: Canales de comunicación\n",
    "Existe una gran diversidad de canales de comunicación, donde una frase similar puede tener diferentes significados. Por ejemplo, un mensaje de WhatsApp con un punto final tiene  una conotación distinta que un punto final en un correo electrónico.\n",
    "\n",
    "### Dificultad 2: Variación temporal\n",
    "El lenguaje está sujeto a variaciones en el tiempo; existen términos que caen en desuso, o cuyo significado sufre variaciones durante periodos relativamente cortos de tiempo, de modo que una expresión puede ser comprendida de diferentes maneras en diferentes momentos de la historia. Por ejemplo, la pregunta \"¿Tienes un malón?\" sería poco entendida por la gente joven, pero para generaciones un poco mayores, \"malón\" fue un modismo usado para referirse a las fiestas.\n",
    "\n",
    "### Dificultad 3: Idiomas y dialectos\n",
    "Existen múltiples idiomas y dialectos, cada cual con términos idiosincráticos que no tienen una traducción exacta. Por ejemplo, el término del portugués \"_saudade_\" no tiene una traducción directa al español; significa algo cercano a la tristeza o nostalgia, pero no del todo (https://es.wikipedia.org/wiki/Saudade).\n",
    "\n",
    "### Música como dato con problemas semejantes al lenguaje\n",
    "\n",
    "Un tipo de dato que puede tener dificultades semejantes al lenguaje podría ser la música. Si bien la música podría ser objetiva, en el sentido de que una partitura, por ejemplo, nos brinda una representación no ambigüa de los intervalos tonales de una melodía, existe un elemento de comunicación de sentimiental en la música que sería dificil representar de manera global debido a la influencia de factores contextuales y sutilezas en las emociones que se pretende comunicar. \n",
    "\n",
    "Potencialmente, creo que disponer de representaciones de la expresividad sentimiental de la música sería un campo de aplicación interesante de la IA, pues es un fenómeno donde las variaciones de significado son aún más sutiles que en el lenguaje, de modo que comprenderlo en mayor medida sería acercarnos más a la experiencia humana."
   ]
  },
  {
   "cell_type": "markdown",
   "id": "8613d8b5",
   "metadata": {},
   "source": [
    "## Actividad 2: Quitando el ruido del lenguaje natural"
   ]
  },
  {
   "cell_type": "code",
   "execution_count": null,
   "id": "cb6e0e19",
   "metadata": {},
   "outputs": [],
   "source": [
    "import spacy\n",
    "\n",
    "nlp = spacy.load(\"en_core_web_md\")"
   ]
  },
  {
   "cell_type": "markdown",
   "id": "7c294a9c",
   "metadata": {},
   "source": [
    "En esta actividad, se aplican varias técnicas para la eliminación del ruido de los datos de lenuaje natural. Estas consisten principalmente en eliminar las stopwords (palabras con escaso contenido semántico), eliminar los signos de puntuación y lematizar las palabras. La importancia de dichas técnicas radica en dos necesidades: la eliminación de redundancias en los datos que no aportan información, y la identificación de regularidades que pueden aportar mayor información.\n",
    "\n",
    "Considérese por ejemplo las oraciones:\n",
    "- \"John is eating ... sudendly, he feels very nauseous\"\n",
    "- \"John has eaten half a watermelon by himself!\"\n",
    "\n",
    "Ambas son parecidas para un lector humano en torno al contenido, pero en lo concreto, tienen diferencias en puntuaciones y artículos. Eliminar las stopwords y los signos de puntuación permite quedarnos con los elementos más definitorios de las oraciones y olvidar los que no aportan información:"
   ]
  },
  {
   "cell_type": "code",
   "execution_count": 196,
   "id": "ae45bf56",
   "metadata": {},
   "outputs": [],
   "source": [
    "ex1_processed = nlp(\"John is eating ... sudendly, he feels very nauseous\")\n",
    "ex2_processed = nlp(\"John has eaten half a watermelon by himself!\")"
   ]
  },
  {
   "cell_type": "code",
   "execution_count": 197,
   "id": "4b3b9b6c",
   "metadata": {},
   "outputs": [
    {
     "data": {
      "text/plain": [
       "[John, eating, sudendly, feels, nauseous]"
      ]
     },
     "execution_count": 197,
     "metadata": {},
     "output_type": "execute_result"
    }
   ],
   "source": [
    "# Ejemplo 1\n",
    "non_stopwords = [word for word in filter(lambda token: not token.is_stop, ex1_processed)]\n",
    "non_punct = [word for word in filter(lambda token: not token.is_punct, non_stopwords)]\n",
    "non_punct"
   ]
  },
  {
   "cell_type": "code",
   "execution_count": 198,
   "id": "1d639e4e",
   "metadata": {},
   "outputs": [
    {
     "data": {
      "text/plain": [
       "[John, eaten, half, watermelon]"
      ]
     },
     "execution_count": 198,
     "metadata": {},
     "output_type": "execute_result"
    }
   ],
   "source": [
    "# Ejemplo 2\n",
    "non_stopwords = [word for word in filter(lambda token: not token.is_stop, ex2_processed)]\n",
    "non_punct = [word for word in filter(lambda token: not token.is_punct, non_stopwords)]\n",
    "non_punct"
   ]
  },
  {
   "cell_type": "markdown",
   "id": "53065f84",
   "metadata": {},
   "source": [
    "Los anteriores procedimientos visibilizaron en mayor medida la similitud entre ambas oraciones. No obstante, existen regularidades en ambas oraciones que no han sido identificadas; por ejemplo, tenemos el infinitivo _to eat_ en ambas oraciones, pero con conjugaciones diferentes. Para este efecto, se aplica una lematización:"
   ]
  },
  {
   "cell_type": "code",
   "execution_count": 207,
   "id": "81e96aca",
   "metadata": {},
   "outputs": [
    {
     "name": "stdout",
     "output_type": "stream",
     "text": [
      "eat\n",
      "eat\n"
     ]
    }
   ],
   "source": [
    "# Ejemplo 1\n",
    "ex_word1 = \"eating\"\n",
    "ex_word2 = \"eaten\"\n",
    "\n",
    "print(nlp(ex_word1)[0].lemma_)\n",
    "print(nlp(ex_word2)[0].lemma_)"
   ]
  },
  {
   "cell_type": "markdown",
   "id": "67e4da8d",
   "metadata": {},
   "source": [
    "A continuación, se entregan tres oraciones de ejemplo y sus output luego de ser procesadas mediante la función ```clean_text```. Nótese que en añadición a los procediminentos recién descritos, se llevaron todas las palabras a minúscula con el propósito de evitar tener dos representaciones diferentes de la misma palabra. Al mismo tiempo, se eliminaron las magnitudes numéricas, en tanto desprovistas del contexto original podrían distorsionar el significado de la oraciones. La función implementada fue probada en tres casos de ejemplo definidos arbitrariamente."
   ]
  },
  {
   "cell_type": "code",
   "execution_count": 210,
   "id": "a32c233c",
   "metadata": {},
   "outputs": [],
   "source": [
    "def clean_text(words):\n",
    "    # Palabras procesadas\n",
    "    processed_words = nlp(words)\n",
    "    # Eliminación stopwords\n",
    "    non_stopwords = [word for word in filter(lambda token: not token.is_stop, processed_words)]\n",
    "    # Eliminación puntuación\n",
    "    non_punct = [word for word in filter(lambda token: not token.is_punct, non_stopwords)]\n",
    "    # Lematización\n",
    "    lemma = [word for word in map(lambda token: token.lemma_, non_punct)]\n",
    "    # Minúsculas\n",
    "    minus = [word for word in map(str.lower, lemma)]\n",
    "    # No numéricas\n",
    "    non_numeric = [word for word in filter(lambda word: word.isalpha(), minus)]\n",
    "    \n",
    "    return \" \".join(non_numeric)"
   ]
  },
  {
   "cell_type": "code",
   "execution_count": 222,
   "id": "a7a2b861",
   "metadata": {},
   "outputs": [],
   "source": [
    "# Oraciones de ejemplo\n",
    "sentence1 = \"\"\"In other news, 10.000 kagaroos have joined the invation of south american country, Uruguay. Pols have shown that 50% of Argetines are afraid their country is next.\"\"\"\n",
    "sentence2 = \"\"\"Eilean Donan castle was a place where Scotish noble use to protect themselfes.\"\"\"\n",
    "sentence3 = \"\"\"London St. Pancras is where Eurostar train leaves. It travels at 300km/h from London to Paris, or from London to Amsterdam.\"\"\""
   ]
  },
  {
   "cell_type": "code",
   "execution_count": 223,
   "id": "3a4a4b5c",
   "metadata": {},
   "outputs": [
    {
     "name": "stdout",
     "output_type": "stream",
     "text": [
      " Oración 1: news kagaroo join invation south american country uruguay pol show argetines afraid country\n",
      " Oración 2: eilean donan castle place scotish noble use protect themselfes\n",
      " Oración 3: london pancras eurostar train leave travel london paris london amsterdam\n"
     ]
    }
   ],
   "source": [
    "print(f\" Oración 1: {clean_text(sentence1)}\")\n",
    "print(f\" Oración 2: {clean_text(sentence2)}\")\n",
    "print(f\" Oración 3: {clean_text(sentence3)}\")"
   ]
  },
  {
   "cell_type": "markdown",
   "id": "3488ccdc",
   "metadata": {},
   "source": [
    "Es posible notar para las tres oraciones como el resultado final aplica el procesamiento especificado en la función. Notamos que el resultado final elimina los términos que no aportan información (puntuación, artículos, números, verbos muy comunes, etc.) y preserva aquellos más distintivos, como \"kangaroo\", \"scotish\" y \"london\"."
   ]
  },
  {
   "cell_type": "markdown",
   "id": "c07f9793",
   "metadata": {},
   "source": [
    "## Actividad 3: Representación numérica del leguaje natural"
   ]
  },
  {
   "cell_type": "markdown",
   "id": "94e7383d",
   "metadata": {},
   "source": [
    "En el enunciado se solicita la implmentación de la función ```clean_text```, que recibe un texto en inglés y retorna el mismo texto procesado. Para efectos de procesar los headlines del set de datos, se emplearon los mismos procedimientos implementados en la función por etapas e implementados mediante funciones lambda. El propósito de esto fue observar los resultados intermedios de las transformaciones para verificar el correcto procesamiento del texto.\n",
    "\n",
    "Para efectos de predecir el género de los diferentes artículos de noticias, será empleada exclusivamente la columna de titulares (headlines) de los artículos. El motivo de esta elección es que el atributo a predecir tiene solo cuatro valores, de modo que los datos presentes en los titulares podrían ser suficientes para la distinción entre categorías (esto también tiene un propósito de ahorro de cómputo, pues procesar las palabras con spacy es lento). Se reserva la columna de contenido para el eventual caso de que las predicciones llevadas a cabo con los titulares no cumpliesen con el mínimo de rendimiento necesario. "
   ]
  },
  {
   "cell_type": "code",
   "execution_count": 224,
   "id": "05e617b3",
   "metadata": {},
   "outputs": [],
   "source": [
    "headlines = df[\"news_headline\"]"
   ]
  },
  {
   "cell_type": "code",
   "execution_count": 225,
   "id": "6fee1267",
   "metadata": {},
   "outputs": [],
   "source": [
    "# Process headlines\n",
    "processed_headlines = headlines.apply(\n",
    "    lambda words: nlp(words)\n",
    ")"
   ]
  },
  {
   "cell_type": "code",
   "execution_count": 226,
   "id": "f375e291",
   "metadata": {},
   "outputs": [],
   "source": [
    "# Stopwords\n",
    "non_stopwords_headlines = processed_headlines.apply(\n",
    "    lambda word_list: [word for word in filter(lambda token: not token.is_stop, word_list)]\n",
    ")"
   ]
  },
  {
   "cell_type": "code",
   "execution_count": 227,
   "id": "f5bddda9",
   "metadata": {},
   "outputs": [],
   "source": [
    "# Signos de puntuación\n",
    "non_punct_headlines = non_stopwords_headlines.apply(\n",
    "    lambda word_list: [word for word in filter(lambda token: not token.is_punct, word_list)]\n",
    ")"
   ]
  },
  {
   "cell_type": "code",
   "execution_count": 228,
   "id": "ad1299f0",
   "metadata": {},
   "outputs": [],
   "source": [
    "# Lematización\n",
    "lemma_headlines = non_punct_headlines.apply(\n",
    "    lambda word_list: [word for word in map(\n",
    "        lambda token: token.lemma_, word_list)]\n",
    ")"
   ]
  },
  {
   "cell_type": "code",
   "execution_count": 229,
   "id": "8edad800",
   "metadata": {},
   "outputs": [],
   "source": [
    "# Minúsculas\n",
    "lower_lemma_headlines = lemma_headlines.apply(\n",
    "    lambda word_list: [word for word in map(str.lower, word_list)]\n",
    ")"
   ]
  },
  {
   "cell_type": "code",
   "execution_count": 230,
   "id": "c9ad8ea0",
   "metadata": {},
   "outputs": [],
   "source": [
    "# Excluimos caracteres numéricos\n",
    "non_numeric_lower_lemma_headlines = lower_lemma_headlines.apply(\n",
    "    lambda word_list: [word for word in filter(lambda word: word.isalpha(), word_list)]\n",
    ")"
   ]
  },
  {
   "cell_type": "code",
   "execution_count": 236,
   "id": "32b3620f",
   "metadata": {},
   "outputs": [],
   "source": [
    "# Finalmente, convetimos a un strings de palabras separadas por un espacio\n",
    "final_headlines = non_numeric_lower_lemma_headlines.apply(\n",
    "    lambda word_list: \" \".join(word_list)\n",
    ")"
   ]
  },
  {
   "cell_type": "markdown",
   "id": "7876ce94",
   "metadata": {},
   "source": [
    "A continuación, se llevará a cabo una vectorización de las palabras procesadas de cada artículo mediante el atributo \"vector\" de los tokens definidos por spacy. Dicha vectorización se lleva a cabo en base al modelo \"doc2vec\", que recibe un \"documento\" (conjunto de palabras) y arma una representación vectorial de una dimensionalidad en específico. Esto permite homologar el formato de documentos de diferentes longitudes, como es el caso de los titulares de las noticias.\n",
    "\n",
    "El significado en concreto de cada uno de los vectores asociados a los titulares tiene que ver con el funcionamiento de doc2vec. En términos básicos, cada vector es el resultado de predecir cierta idea principal de un documento en base a su contexto (los conjuntos de palabras que aparecen junto a este). De tal modo, el vector de un documento son valores asociados al contexto de dicho documento, que en cierta medida captan propiedades estructurales del documento (el detalle de esto y más información disponibles en https://medium.com/wisio/a-gentle-introduction-to-doc2vec-db3e8c0cce5e)."
   ]
  },
  {
   "cell_type": "code",
   "execution_count": 237,
   "id": "363d6666",
   "metadata": {},
   "outputs": [],
   "source": [
    "# Convertimos strings de palabras a vector\n",
    "vector_headlines = final_headlines.apply(lambda words: nlp(words).vector)"
   ]
  },
  {
   "cell_type": "code",
   "execution_count": 238,
   "id": "f97ce6a3",
   "metadata": {},
   "outputs": [],
   "source": [
    "# Convertimos a numpy array\n",
    "X_headlines = np.stack(vector_headlines.values)"
   ]
  },
  {
   "cell_type": "markdown",
   "id": "62719d6a",
   "metadata": {},
   "source": [
    "## Actividad 4: Entrenando un SVM clasificador de noticias"
   ]
  },
  {
   "cell_type": "markdown",
   "id": "2f59a21a",
   "metadata": {},
   "source": [
    "Dado que tenemos que predecir múltiples categorías, el modelo que corresponde emplear es SVM multiclase. "
   ]
  },
  {
   "cell_type": "code",
   "execution_count": 312,
   "id": "3779481d",
   "metadata": {},
   "outputs": [],
   "source": [
    "from sklearn import svm\n",
    "from sklearn.model_selection import train_test_split, cross_val_score\n",
    "from sklearn import metrics"
   ]
  },
  {
   "cell_type": "code",
   "execution_count": 280,
   "id": "1be915da",
   "metadata": {},
   "outputs": [],
   "source": [
    "# Definimos variables dependientes e independietes\n",
    "X = X_headlines\n",
    "y = num_news_cat"
   ]
  },
  {
   "cell_type": "code",
   "execution_count": 314,
   "id": "3e58e588",
   "metadata": {},
   "outputs": [],
   "source": [
    "# Definimos conjunto de entrenamiento\n",
    "\n",
    "X_train, X_test, y_train, y_test = train_test_split(\n",
    "    X,\n",
    "    y, \n",
    "    test_size=0.4,\n",
    "    shuffle=True,\n",
    "    stratify=y\n",
    ")\n"
   ]
  },
  {
   "cell_type": "code",
   "execution_count": 323,
   "id": "53dc5eb7",
   "metadata": {},
   "outputs": [],
   "source": [
    "# Iteración de hiperparámetros y cross validation\n",
    "\n",
    "kernels = [\"linear\", \"poly\", \"rbf\"]\n",
    "C = 1.0\n",
    "\n",
    "models = []\n",
    "\n",
    "for kernel in kernels:\n",
    "    # Instanciamos modelo, entrenamos y predecimos\n",
    "\n",
    "    svc = svm.SVC(kernel=kernel, C=C)\n",
    "\n",
    "    # Calculamos cross validation score\n",
    "    scores = cross_val_score(svc, X_train, y_train, cv=5)\n",
    "\n",
    "    models.append(\n",
    "        (scores.mean(), svc)\n",
    "    )\n",
    "\n",
    "        "
   ]
  },
  {
   "cell_type": "code",
   "execution_count": 345,
   "id": "27712b9c",
   "metadata": {},
   "outputs": [
    {
     "data": {
      "text/plain": [
       "[(0.9646586345381527, SVC()),\n",
       " (0.9670682730923694, SVC(kernel='poly')),\n",
       " (0.9700133868808567, SVC(kernel='linear'))]"
      ]
     },
     "execution_count": 345,
     "metadata": {},
     "output_type": "execute_result"
    }
   ],
   "source": [
    "# Verificamos los cross-validation scores\n",
    "\n",
    "models"
   ]
  },
  {
   "cell_type": "code",
   "execution_count": 325,
   "id": "d11e5e14",
   "metadata": {},
   "outputs": [],
   "source": [
    "models.sort(key=lambda x: x[0])"
   ]
  },
  {
   "cell_type": "code",
   "execution_count": 326,
   "id": "a83b22bc",
   "metadata": {},
   "outputs": [],
   "source": [
    "# Tomamos el modelo con mayor cross-validation score\n",
    "\n",
    "clf = models[-1][1]"
   ]
  },
  {
   "cell_type": "code",
   "execution_count": 327,
   "id": "db80b147",
   "metadata": {},
   "outputs": [],
   "source": [
    "# Entrenamos el modelo\n",
    "\n",
    "clf = clf.fit(X_train, y_train)"
   ]
  },
  {
   "cell_type": "code",
   "execution_count": 328,
   "id": "441af0ea",
   "metadata": {},
   "outputs": [],
   "source": [
    "# Ponemos a prueba el modelo seleccionado en el set de testeo\n",
    "\n",
    "y_test_pred = clf.predict(X_test)"
   ]
  },
  {
   "cell_type": "code",
   "execution_count": 329,
   "id": "4465db35",
   "metadata": {
    "scrolled": true
   },
   "outputs": [
    {
     "name": "stdout",
     "output_type": "stream",
     "text": [
      "              precision    recall  f1-score   support\n",
      "\n",
      "           0       0.99      1.00      0.99       517\n",
      "           1       0.97      0.98      0.97       639\n",
      "           2       0.99      0.98      0.99       575\n",
      "           3       0.98      0.97      0.97       760\n",
      "\n",
      "    accuracy                           0.98      2491\n",
      "   macro avg       0.98      0.98      0.98      2491\n",
      "weighted avg       0.98      0.98      0.98      2491\n",
      "\n"
     ]
    }
   ],
   "source": [
    "# Métricas de desempeño de clasificación\n",
    "\n",
    "svc_validation_metrics = metrics.classification_report(\n",
    "    y_true=y_test,\n",
    "    y_pred=y_test_pred\n",
    ")\n",
    "\n",
    "print(svc_validation_metrics)"
   ]
  },
  {
   "cell_type": "markdown",
   "id": "47f9e478",
   "metadata": {},
   "source": [
    "## Actividad 5: Análisis de resultados"
   ]
  },
  {
   "cell_type": "markdown",
   "id": "a3fcb163",
   "metadata": {},
   "source": [
    "### Matriz de confusión"
   ]
  },
  {
   "cell_type": "code",
   "execution_count": 330,
   "id": "0049f9d5",
   "metadata": {},
   "outputs": [],
   "source": [
    "from sklearn.metrics import confusion_matrix, ConfusionMatrixDisplay"
   ]
  },
  {
   "cell_type": "code",
   "execution_count": 331,
   "id": "841587a2",
   "metadata": {},
   "outputs": [
    {
     "data": {
      "text/plain": [
       "array(['automobile', 'politics', 'science', 'sports'], dtype=object)"
      ]
     },
     "execution_count": 331,
     "metadata": {},
     "output_type": "execute_result"
    }
   ],
   "source": [
    "# Etiquetas numéricas de las categorías predichas\n",
    "\n",
    "news_cat_enc.inverse_transform([0, 1, 2, 3])"
   ]
  },
  {
   "cell_type": "code",
   "execution_count": 332,
   "id": "296a6b3f",
   "metadata": {},
   "outputs": [
    {
     "data": {
      "text/plain": [
       "<sklearn.metrics._plot.confusion_matrix.ConfusionMatrixDisplay at 0x7f710adc13a0>"
      ]
     },
     "execution_count": 332,
     "metadata": {},
     "output_type": "execute_result"
    },
    {
     "data": {
      "image/png": "[encoded data removed]",
      "text/plain": [
       "<Figure size 432x288 with 2 Axes>"
      ]
     },
     "metadata": {
      "needs_background": "light"
     },
     "output_type": "display_data"
    }
   ],
   "source": [
    "# Matriz de confusión para modelo con mejor rendimiento\n",
    "\n",
    "cm = confusion_matrix(\n",
    "    y_test,\n",
    "    y_test_pred,\n",
    "    normalize=\"true\"\n",
    ")\n",
    "disp = ConfusionMatrixDisplay(confusion_matrix=cm, display_labels=[\n",
    "    \"Automobile\",\n",
    "    \"Politics\",\n",
    "    \"Science\",\n",
    "    \"Sports\"\n",
    "])\n",
    "disp.plot()"
   ]
  },
  {
   "cell_type": "markdown",
   "id": "618b0c75",
   "metadata": {},
   "source": [
    "### ¿Cuales son las categorías mejor clasificadas? ¿Qué crees que podría explicar ese comportamiento?\n",
    "\n",
    "La categoría mejor clasificada fue la de automóviles, con la totalidad de los valores pertenecientes a esa categoría correctamente clasificados.\n",
    "La explicación de dichos resultados podría ser explicada en base al léxico de las categorías mejor clasificadas. Para el caso de automóviles, términos como \"motor\", \"gasolina\", etc. son muy específicos al contexto de dicha categoría y muy poco comunes en las demás categorías existentes, de modo que existe un elemento diferenciador que podría facilitar la correctitud del modelo."
   ]
  },
  {
   "cell_type": "markdown",
   "id": "9bfdda09",
   "metadata": {},
   "source": [
    "### ¿Cuales son las categorías peor clasificadas? ¿Qué crees que podría explicar ese comportamiento?\n",
    "\n",
    "La categoría peor clasificada es deportes, con clasificaciones correctas en un 97% de los casos.\n",
    "\n",
    "La explicación de dichos resultados ligeramente inferiores puede tener relación con la existencia de un léxico común entre deportes y otras categorías. Por ejemplo, términos como \"ganar\", o \"contrincantes\" son comunes tanto en el contexto político como el de deportes, lo que facilitaría las predicciones erradas en deportes."
   ]
  },
  {
   "cell_type": "markdown",
   "id": "a08e3f08",
   "metadata": {},
   "source": [
    "### ¿Cuales son las categorías que tienen mayor solapamiento, es decir, se confunden más entre sí? ¿A qué se podría deber ese comportamiento?\n",
    "\n",
    "La mayor cantidad de solapamiento se da entre las categorías de deportes y políticas. Esto puede observarse en el 2.2% de artículos de deportes clasificados como política, y el 1.7% de artículos de política clasificados como deporte.\n",
    "\n",
    "La explicación de por qué podría suceder esto es esencialmente la misma de por qué el rendimiento de las clasificaciones de deporte es ligeramente más bajo; a saber, el posible léxico común entre las noticias de ambas categorías."
   ]
  },
  {
   "cell_type": "markdown",
   "id": "9c099487",
   "metadata": {},
   "source": [
    "## Actividad 6: Probando con ejemplos propios"
   ]
  },
  {
   "cell_type": "code",
   "execution_count": 341,
   "id": "5989a872",
   "metadata": {},
   "outputs": [],
   "source": [
    "# Heading\n",
    "\n",
    "sport_heading1 = \"The game of the season: Titans defeat the Giants in a dramatic final!\"\n",
    "sport_heading2 = \"New star rising: Rookie John Stevens scores 30 points agaist Boston Celtics.\""
   ]
  },
  {
   "cell_type": "code",
   "execution_count": 342,
   "id": "76e9fc7a",
   "metadata": {},
   "outputs": [],
   "source": [
    "# Procesamos los headings\n",
    "processed_h1 = clean_text(sport_heading1)\n",
    "processed_h2 = clean_text(sport_heading2)"
   ]
  },
  {
   "cell_type": "code",
   "execution_count": 343,
   "id": "03ccddb0",
   "metadata": {},
   "outputs": [],
   "source": [
    "# Vectorizamos los headings\n",
    "h1_vector = nlp(processed_h1).vector.reshape(1, -1)\n",
    "h2_vector = nlp(processed_h2).vector.reshape(1, -1)"
   ]
  },
  {
   "cell_type": "code",
   "execution_count": 344,
   "id": "92bdf465",
   "metadata": {
    "scrolled": false
   },
   "outputs": [
    {
     "name": "stdout",
     "output_type": "stream",
     "text": [
      "Predicción heading 1: ['sports']\n",
      "Predicción heading 2: ['sports']\n"
     ]
    }
   ],
   "source": [
    "# Predecimos las categorías de los headings inventados\n",
    "print(f\"Predicción heading 1: {news_cat_enc.inverse_transform(clf.predict(h1_vector))}\")\n",
    "print(f\"Predicción heading 2: {news_cat_enc.inverse_transform(clf.predict(h2_vector))}\")"
   ]
  },
  {
   "cell_type": "markdown",
   "id": "d6f7a375",
   "metadata": {},
   "source": [
    "Puede observarse que las predicciones van en la línea de lo esperado en base a cómo fueron redactados los titulares."
   ]
  }
 ],
 "metadata": {
  "kernelspec": {
   "display_name": "Python 3 (ipykernel)",
   "language": "python",
   "name": "python3"
  },
  "language_info": {
   "codemirror_mode": {
    "name": "ipython",
    "version": 3
   },
   "file_extension": ".py",
   "mimetype": "text/x-python",
   "name": "python",
   "nbconvert_exporter": "python",
   "pygments_lexer": "ipython3",
   "version": "3.10.6"
  }
 },
 "nbformat": 4,
 "nbformat_minor": 5
}
